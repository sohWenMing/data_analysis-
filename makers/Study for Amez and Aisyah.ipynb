{
 "cells": [
  {
   "cell_type": "markdown",
   "id": "a2978288",
   "metadata": {},
   "source": [
    "# Study for Child Activity Center Small Business\n",
    "\n",
    "This dataset explores data that was extracted from CRM app for a small business - activities of the business are as in the header\n",
    "\n",
    "The dataset first removes all entries before April 2022 and after December 2022. This is to ensure that there is stability in input of information that properly captures the business when it is in its full operational state. As the CSV also initially included bookings made in January 2023 *(prebookings)* those were also removed to try as much as possible to only count bookings that actually had transacted.\n",
    "\n",
    "After this was done, all entries that occured on Mondays were removed. This is due to the fact that on normal weeks, the business does not operate on Mondays and thus any entries that were recorded on a Monday should be taken as outliers and not counted to the data that gives a proper operational overview of the business. \n",
    "\n",
    "There were also entries that were made by the owner/operators of the business that caused dirtying of the data, and those were removed before the work was done to analyse the data that was remaining after all outliers/unclear entries were removed. \n",
    "\n",
    "While details of how the data was cleaned can be found in this file, for business insights the reader can scroll down and start reading from **Exploration of Customer Profiles**"
   ]
  },
  {
   "cell_type": "code",
   "execution_count": 1,
   "id": "46eb0364",
   "metadata": {},
   "outputs": [],
   "source": [
    "import pandas as pd\n",
    "import numpy as np\n",
    "data = pd.read_csv('makers.csv')"
   ]
  },
  {
   "cell_type": "code",
   "execution_count": 2,
   "id": "a5b4915e",
   "metadata": {},
   "outputs": [],
   "source": [
    "cleaned_data = data[1:]\n"
   ]
  },
  {
   "cell_type": "code",
   "execution_count": 3,
   "id": "f5a86f26",
   "metadata": {},
   "outputs": [
    {
     "name": "stderr",
     "output_type": "stream",
     "text": [
      "/opt/anaconda3/lib/python3.9/site-packages/pandas/core/tools/datetimes.py:1047: UserWarning: Parsing '29-01-2023' in DD/MM/YYYY format. Provide format or specify infer_datetime_format=True for consistent parsing.\n",
      "  cache_array = _maybe_cache(arg, format, cache, convert_listlike)\n",
      "/opt/anaconda3/lib/python3.9/site-packages/pandas/core/tools/datetimes.py:1047: UserWarning: Parsing '24-01-2023' in DD/MM/YYYY format. Provide format or specify infer_datetime_format=True for consistent parsing.\n",
      "  cache_array = _maybe_cache(arg, format, cache, convert_listlike)\n",
      "/opt/anaconda3/lib/python3.9/site-packages/pandas/core/tools/datetimes.py:1047: UserWarning: Parsing '15-01-2023' in DD/MM/YYYY format. Provide format or specify infer_datetime_format=True for consistent parsing.\n",
      "  cache_array = _maybe_cache(arg, format, cache, convert_listlike)\n",
      "/opt/anaconda3/lib/python3.9/site-packages/pandas/core/tools/datetimes.py:1047: UserWarning: Parsing '31-12-2022' in DD/MM/YYYY format. Provide format or specify infer_datetime_format=True for consistent parsing.\n",
      "  cache_array = _maybe_cache(arg, format, cache, convert_listlike)\n",
      "/opt/anaconda3/lib/python3.9/site-packages/pandas/core/tools/datetimes.py:1047: UserWarning: Parsing '24-12-2022' in DD/MM/YYYY format. Provide format or specify infer_datetime_format=True for consistent parsing.\n",
      "  cache_array = _maybe_cache(arg, format, cache, convert_listlike)\n",
      "/opt/anaconda3/lib/python3.9/site-packages/pandas/core/tools/datetimes.py:1047: UserWarning: Parsing '23-12-2022' in DD/MM/YYYY format. Provide format or specify infer_datetime_format=True for consistent parsing.\n",
      "  cache_array = _maybe_cache(arg, format, cache, convert_listlike)\n",
      "/opt/anaconda3/lib/python3.9/site-packages/pandas/core/tools/datetimes.py:1047: UserWarning: Parsing '22-12-2022' in DD/MM/YYYY format. Provide format or specify infer_datetime_format=True for consistent parsing.\n",
      "  cache_array = _maybe_cache(arg, format, cache, convert_listlike)\n",
      "/opt/anaconda3/lib/python3.9/site-packages/pandas/core/tools/datetimes.py:1047: UserWarning: Parsing '21-12-2022' in DD/MM/YYYY format. Provide format or specify infer_datetime_format=True for consistent parsing.\n",
      "  cache_array = _maybe_cache(arg, format, cache, convert_listlike)\n",
      "/opt/anaconda3/lib/python3.9/site-packages/pandas/core/tools/datetimes.py:1047: UserWarning: Parsing '20-12-2022' in DD/MM/YYYY format. Provide format or specify infer_datetime_format=True for consistent parsing.\n",
      "  cache_array = _maybe_cache(arg, format, cache, convert_listlike)\n",
      "/opt/anaconda3/lib/python3.9/site-packages/pandas/core/tools/datetimes.py:1047: UserWarning: Parsing '18-12-2022' in DD/MM/YYYY format. Provide format or specify infer_datetime_format=True for consistent parsing.\n",
      "  cache_array = _maybe_cache(arg, format, cache, convert_listlike)\n",
      "/opt/anaconda3/lib/python3.9/site-packages/pandas/core/tools/datetimes.py:1047: UserWarning: Parsing '17-12-2022' in DD/MM/YYYY format. Provide format or specify infer_datetime_format=True for consistent parsing.\n",
      "  cache_array = _maybe_cache(arg, format, cache, convert_listlike)\n",
      "/opt/anaconda3/lib/python3.9/site-packages/pandas/core/tools/datetimes.py:1047: UserWarning: Parsing '16-12-2022' in DD/MM/YYYY format. Provide format or specify infer_datetime_format=True for consistent parsing.\n",
      "  cache_array = _maybe_cache(arg, format, cache, convert_listlike)\n",
      "/opt/anaconda3/lib/python3.9/site-packages/pandas/core/tools/datetimes.py:1047: UserWarning: Parsing '15-12-2022' in DD/MM/YYYY format. Provide format or specify infer_datetime_format=True for consistent parsing.\n",
      "  cache_array = _maybe_cache(arg, format, cache, convert_listlike)\n",
      "/opt/anaconda3/lib/python3.9/site-packages/pandas/core/tools/datetimes.py:1047: UserWarning: Parsing '14-12-2022' in DD/MM/YYYY format. Provide format or specify infer_datetime_format=True for consistent parsing.\n",
      "  cache_array = _maybe_cache(arg, format, cache, convert_listlike)\n",
      "/opt/anaconda3/lib/python3.9/site-packages/pandas/core/tools/datetimes.py:1047: UserWarning: Parsing '13-12-2022' in DD/MM/YYYY format. Provide format or specify infer_datetime_format=True for consistent parsing.\n",
      "  cache_array = _maybe_cache(arg, format, cache, convert_listlike)\n",
      "/opt/anaconda3/lib/python3.9/site-packages/pandas/core/tools/datetimes.py:1047: UserWarning: Parsing '30-11-2022' in DD/MM/YYYY format. Provide format or specify infer_datetime_format=True for consistent parsing.\n",
      "  cache_array = _maybe_cache(arg, format, cache, convert_listlike)\n",
      "/opt/anaconda3/lib/python3.9/site-packages/pandas/core/tools/datetimes.py:1047: UserWarning: Parsing '29-11-2022' in DD/MM/YYYY format. Provide format or specify infer_datetime_format=True for consistent parsing.\n",
      "  cache_array = _maybe_cache(arg, format, cache, convert_listlike)\n",
      "/opt/anaconda3/lib/python3.9/site-packages/pandas/core/tools/datetimes.py:1047: UserWarning: Parsing '27-11-2022' in DD/MM/YYYY format. Provide format or specify infer_datetime_format=True for consistent parsing.\n",
      "  cache_array = _maybe_cache(arg, format, cache, convert_listlike)\n",
      "/opt/anaconda3/lib/python3.9/site-packages/pandas/core/tools/datetimes.py:1047: UserWarning: Parsing '26-11-2022' in DD/MM/YYYY format. Provide format or specify infer_datetime_format=True for consistent parsing.\n",
      "  cache_array = _maybe_cache(arg, format, cache, convert_listlike)\n",
      "/opt/anaconda3/lib/python3.9/site-packages/pandas/core/tools/datetimes.py:1047: UserWarning: Parsing '25-11-2022' in DD/MM/YYYY format. Provide format or specify infer_datetime_format=True for consistent parsing.\n",
      "  cache_array = _maybe_cache(arg, format, cache, convert_listlike)\n",
      "/opt/anaconda3/lib/python3.9/site-packages/pandas/core/tools/datetimes.py:1047: UserWarning: Parsing '24-11-2022' in DD/MM/YYYY format. Provide format or specify infer_datetime_format=True for consistent parsing.\n",
      "  cache_array = _maybe_cache(arg, format, cache, convert_listlike)\n",
      "/opt/anaconda3/lib/python3.9/site-packages/pandas/core/tools/datetimes.py:1047: UserWarning: Parsing '23-11-2022' in DD/MM/YYYY format. Provide format or specify infer_datetime_format=True for consistent parsing.\n",
      "  cache_array = _maybe_cache(arg, format, cache, convert_listlike)\n",
      "/opt/anaconda3/lib/python3.9/site-packages/pandas/core/tools/datetimes.py:1047: UserWarning: Parsing '22-11-2022' in DD/MM/YYYY format. Provide format or specify infer_datetime_format=True for consistent parsing.\n",
      "  cache_array = _maybe_cache(arg, format, cache, convert_listlike)\n",
      "/opt/anaconda3/lib/python3.9/site-packages/pandas/core/tools/datetimes.py:1047: UserWarning: Parsing '20-11-2022' in DD/MM/YYYY format. Provide format or specify infer_datetime_format=True for consistent parsing.\n",
      "  cache_array = _maybe_cache(arg, format, cache, convert_listlike)\n",
      "/opt/anaconda3/lib/python3.9/site-packages/pandas/core/tools/datetimes.py:1047: UserWarning: Parsing '19-11-2022' in DD/MM/YYYY format. Provide format or specify infer_datetime_format=True for consistent parsing.\n",
      "  cache_array = _maybe_cache(arg, format, cache, convert_listlike)\n",
      "/opt/anaconda3/lib/python3.9/site-packages/pandas/core/tools/datetimes.py:1047: UserWarning: Parsing '18-11-2022' in DD/MM/YYYY format. Provide format or specify infer_datetime_format=True for consistent parsing.\n",
      "  cache_array = _maybe_cache(arg, format, cache, convert_listlike)\n",
      "/opt/anaconda3/lib/python3.9/site-packages/pandas/core/tools/datetimes.py:1047: UserWarning: Parsing '17-11-2022' in DD/MM/YYYY format. Provide format or specify infer_datetime_format=True for consistent parsing.\n",
      "  cache_array = _maybe_cache(arg, format, cache, convert_listlike)\n",
      "/opt/anaconda3/lib/python3.9/site-packages/pandas/core/tools/datetimes.py:1047: UserWarning: Parsing '16-11-2022' in DD/MM/YYYY format. Provide format or specify infer_datetime_format=True for consistent parsing.\n",
      "  cache_array = _maybe_cache(arg, format, cache, convert_listlike)\n",
      "/opt/anaconda3/lib/python3.9/site-packages/pandas/core/tools/datetimes.py:1047: UserWarning: Parsing '15-11-2022' in DD/MM/YYYY format. Provide format or specify infer_datetime_format=True for consistent parsing.\n",
      "  cache_array = _maybe_cache(arg, format, cache, convert_listlike)\n",
      "/opt/anaconda3/lib/python3.9/site-packages/pandas/core/tools/datetimes.py:1047: UserWarning: Parsing '13-11-2022' in DD/MM/YYYY format. Provide format or specify infer_datetime_format=True for consistent parsing.\n",
      "  cache_array = _maybe_cache(arg, format, cache, convert_listlike)\n",
      "/opt/anaconda3/lib/python3.9/site-packages/pandas/core/tools/datetimes.py:1047: UserWarning: Parsing '30-10-2022' in DD/MM/YYYY format. Provide format or specify infer_datetime_format=True for consistent parsing.\n",
      "  cache_array = _maybe_cache(arg, format, cache, convert_listlike)\n",
      "/opt/anaconda3/lib/python3.9/site-packages/pandas/core/tools/datetimes.py:1047: UserWarning: Parsing '29-10-2022' in DD/MM/YYYY format. Provide format or specify infer_datetime_format=True for consistent parsing.\n",
      "  cache_array = _maybe_cache(arg, format, cache, convert_listlike)\n",
      "/opt/anaconda3/lib/python3.9/site-packages/pandas/core/tools/datetimes.py:1047: UserWarning: Parsing '28-10-2022' in DD/MM/YYYY format. Provide format or specify infer_datetime_format=True for consistent parsing.\n",
      "  cache_array = _maybe_cache(arg, format, cache, convert_listlike)\n",
      "/opt/anaconda3/lib/python3.9/site-packages/pandas/core/tools/datetimes.py:1047: UserWarning: Parsing '27-10-2022' in DD/MM/YYYY format. Provide format or specify infer_datetime_format=True for consistent parsing.\n",
      "  cache_array = _maybe_cache(arg, format, cache, convert_listlike)\n",
      "/opt/anaconda3/lib/python3.9/site-packages/pandas/core/tools/datetimes.py:1047: UserWarning: Parsing '26-10-2022' in DD/MM/YYYY format. Provide format or specify infer_datetime_format=True for consistent parsing.\n",
      "  cache_array = _maybe_cache(arg, format, cache, convert_listlike)\n",
      "/opt/anaconda3/lib/python3.9/site-packages/pandas/core/tools/datetimes.py:1047: UserWarning: Parsing '25-10-2022' in DD/MM/YYYY format. Provide format or specify infer_datetime_format=True for consistent parsing.\n",
      "  cache_array = _maybe_cache(arg, format, cache, convert_listlike)\n",
      "/opt/anaconda3/lib/python3.9/site-packages/pandas/core/tools/datetimes.py:1047: UserWarning: Parsing '24-10-2022' in DD/MM/YYYY format. Provide format or specify infer_datetime_format=True for consistent parsing.\n",
      "  cache_array = _maybe_cache(arg, format, cache, convert_listlike)\n",
      "/opt/anaconda3/lib/python3.9/site-packages/pandas/core/tools/datetimes.py:1047: UserWarning: Parsing '23-10-2022' in DD/MM/YYYY format. Provide format or specify infer_datetime_format=True for consistent parsing.\n",
      "  cache_array = _maybe_cache(arg, format, cache, convert_listlike)\n",
      "/opt/anaconda3/lib/python3.9/site-packages/pandas/core/tools/datetimes.py:1047: UserWarning: Parsing '22-10-2022' in DD/MM/YYYY format. Provide format or specify infer_datetime_format=True for consistent parsing.\n",
      "  cache_array = _maybe_cache(arg, format, cache, convert_listlike)\n",
      "/opt/anaconda3/lib/python3.9/site-packages/pandas/core/tools/datetimes.py:1047: UserWarning: Parsing '21-10-2022' in DD/MM/YYYY format. Provide format or specify infer_datetime_format=True for consistent parsing.\n",
      "  cache_array = _maybe_cache(arg, format, cache, convert_listlike)\n",
      "/opt/anaconda3/lib/python3.9/site-packages/pandas/core/tools/datetimes.py:1047: UserWarning: Parsing '20-10-2022' in DD/MM/YYYY format. Provide format or specify infer_datetime_format=True for consistent parsing.\n",
      "  cache_array = _maybe_cache(arg, format, cache, convert_listlike)\n",
      "/opt/anaconda3/lib/python3.9/site-packages/pandas/core/tools/datetimes.py:1047: UserWarning: Parsing '19-10-2022' in DD/MM/YYYY format. Provide format or specify infer_datetime_format=True for consistent parsing.\n",
      "  cache_array = _maybe_cache(arg, format, cache, convert_listlike)\n",
      "/opt/anaconda3/lib/python3.9/site-packages/pandas/core/tools/datetimes.py:1047: UserWarning: Parsing '18-10-2022' in DD/MM/YYYY format. Provide format or specify infer_datetime_format=True for consistent parsing.\n",
      "  cache_array = _maybe_cache(arg, format, cache, convert_listlike)\n",
      "/opt/anaconda3/lib/python3.9/site-packages/pandas/core/tools/datetimes.py:1047: UserWarning: Parsing '16-10-2022' in DD/MM/YYYY format. Provide format or specify infer_datetime_format=True for consistent parsing.\n",
      "  cache_array = _maybe_cache(arg, format, cache, convert_listlike)\n",
      "/opt/anaconda3/lib/python3.9/site-packages/pandas/core/tools/datetimes.py:1047: UserWarning: Parsing '15-10-2022' in DD/MM/YYYY format. Provide format or specify infer_datetime_format=True for consistent parsing.\n",
      "  cache_array = _maybe_cache(arg, format, cache, convert_listlike)\n",
      "/opt/anaconda3/lib/python3.9/site-packages/pandas/core/tools/datetimes.py:1047: UserWarning: Parsing '25-09-2022' in DD/MM/YYYY format. Provide format or specify infer_datetime_format=True for consistent parsing.\n",
      "  cache_array = _maybe_cache(arg, format, cache, convert_listlike)\n",
      "/opt/anaconda3/lib/python3.9/site-packages/pandas/core/tools/datetimes.py:1047: UserWarning: Parsing '24-09-2022' in DD/MM/YYYY format. Provide format or specify infer_datetime_format=True for consistent parsing.\n",
      "  cache_array = _maybe_cache(arg, format, cache, convert_listlike)\n",
      "/opt/anaconda3/lib/python3.9/site-packages/pandas/core/tools/datetimes.py:1047: UserWarning: Parsing '23-09-2022' in DD/MM/YYYY format. Provide format or specify infer_datetime_format=True for consistent parsing.\n",
      "  cache_array = _maybe_cache(arg, format, cache, convert_listlike)\n",
      "/opt/anaconda3/lib/python3.9/site-packages/pandas/core/tools/datetimes.py:1047: UserWarning: Parsing '22-09-2022' in DD/MM/YYYY format. Provide format or specify infer_datetime_format=True for consistent parsing.\n",
      "  cache_array = _maybe_cache(arg, format, cache, convert_listlike)\n",
      "/opt/anaconda3/lib/python3.9/site-packages/pandas/core/tools/datetimes.py:1047: UserWarning: Parsing '21-09-2022' in DD/MM/YYYY format. Provide format or specify infer_datetime_format=True for consistent parsing.\n",
      "  cache_array = _maybe_cache(arg, format, cache, convert_listlike)\n",
      "/opt/anaconda3/lib/python3.9/site-packages/pandas/core/tools/datetimes.py:1047: UserWarning: Parsing '20-09-2022' in DD/MM/YYYY format. Provide format or specify infer_datetime_format=True for consistent parsing.\n",
      "  cache_array = _maybe_cache(arg, format, cache, convert_listlike)\n",
      "/opt/anaconda3/lib/python3.9/site-packages/pandas/core/tools/datetimes.py:1047: UserWarning: Parsing '18-09-2022' in DD/MM/YYYY format. Provide format or specify infer_datetime_format=True for consistent parsing.\n",
      "  cache_array = _maybe_cache(arg, format, cache, convert_listlike)\n",
      "/opt/anaconda3/lib/python3.9/site-packages/pandas/core/tools/datetimes.py:1047: UserWarning: Parsing '17-09-2022' in DD/MM/YYYY format. Provide format or specify infer_datetime_format=True for consistent parsing.\n",
      "  cache_array = _maybe_cache(arg, format, cache, convert_listlike)\n",
      "/opt/anaconda3/lib/python3.9/site-packages/pandas/core/tools/datetimes.py:1047: UserWarning: Parsing '16-09-2022' in DD/MM/YYYY format. Provide format or specify infer_datetime_format=True for consistent parsing.\n",
      "  cache_array = _maybe_cache(arg, format, cache, convert_listlike)\n",
      "/opt/anaconda3/lib/python3.9/site-packages/pandas/core/tools/datetimes.py:1047: UserWarning: Parsing '15-09-2022' in DD/MM/YYYY format. Provide format or specify infer_datetime_format=True for consistent parsing.\n",
      "  cache_array = _maybe_cache(arg, format, cache, convert_listlike)\n",
      "/opt/anaconda3/lib/python3.9/site-packages/pandas/core/tools/datetimes.py:1047: UserWarning: Parsing '14-09-2022' in DD/MM/YYYY format. Provide format or specify infer_datetime_format=True for consistent parsing.\n",
      "  cache_array = _maybe_cache(arg, format, cache, convert_listlike)\n",
      "/opt/anaconda3/lib/python3.9/site-packages/pandas/core/tools/datetimes.py:1047: UserWarning: Parsing '13-09-2022' in DD/MM/YYYY format. Provide format or specify infer_datetime_format=True for consistent parsing.\n",
      "  cache_array = _maybe_cache(arg, format, cache, convert_listlike)\n",
      "/opt/anaconda3/lib/python3.9/site-packages/pandas/core/tools/datetimes.py:1047: UserWarning: Parsing '31-08-2022' in DD/MM/YYYY format. Provide format or specify infer_datetime_format=True for consistent parsing.\n",
      "  cache_array = _maybe_cache(arg, format, cache, convert_listlike)\n",
      "/opt/anaconda3/lib/python3.9/site-packages/pandas/core/tools/datetimes.py:1047: UserWarning: Parsing '30-08-2022' in DD/MM/YYYY format. Provide format or specify infer_datetime_format=True for consistent parsing.\n",
      "  cache_array = _maybe_cache(arg, format, cache, convert_listlike)\n",
      "/opt/anaconda3/lib/python3.9/site-packages/pandas/core/tools/datetimes.py:1047: UserWarning: Parsing '28-08-2022' in DD/MM/YYYY format. Provide format or specify infer_datetime_format=True for consistent parsing.\n",
      "  cache_array = _maybe_cache(arg, format, cache, convert_listlike)\n",
      "/opt/anaconda3/lib/python3.9/site-packages/pandas/core/tools/datetimes.py:1047: UserWarning: Parsing '27-08-2022' in DD/MM/YYYY format. Provide format or specify infer_datetime_format=True for consistent parsing.\n",
      "  cache_array = _maybe_cache(arg, format, cache, convert_listlike)\n",
      "/opt/anaconda3/lib/python3.9/site-packages/pandas/core/tools/datetimes.py:1047: UserWarning: Parsing '26-08-2022' in DD/MM/YYYY format. Provide format or specify infer_datetime_format=True for consistent parsing.\n",
      "  cache_array = _maybe_cache(arg, format, cache, convert_listlike)\n",
      "/opt/anaconda3/lib/python3.9/site-packages/pandas/core/tools/datetimes.py:1047: UserWarning: Parsing '25-08-2022' in DD/MM/YYYY format. Provide format or specify infer_datetime_format=True for consistent parsing.\n",
      "  cache_array = _maybe_cache(arg, format, cache, convert_listlike)\n",
      "/opt/anaconda3/lib/python3.9/site-packages/pandas/core/tools/datetimes.py:1047: UserWarning: Parsing '24-08-2022' in DD/MM/YYYY format. Provide format or specify infer_datetime_format=True for consistent parsing.\n",
      "  cache_array = _maybe_cache(arg, format, cache, convert_listlike)\n",
      "/opt/anaconda3/lib/python3.9/site-packages/pandas/core/tools/datetimes.py:1047: UserWarning: Parsing '23-08-2022' in DD/MM/YYYY format. Provide format or specify infer_datetime_format=True for consistent parsing.\n",
      "  cache_array = _maybe_cache(arg, format, cache, convert_listlike)\n",
      "/opt/anaconda3/lib/python3.9/site-packages/pandas/core/tools/datetimes.py:1047: UserWarning: Parsing '21-08-2022' in DD/MM/YYYY format. Provide format or specify infer_datetime_format=True for consistent parsing.\n",
      "  cache_array = _maybe_cache(arg, format, cache, convert_listlike)\n",
      "/opt/anaconda3/lib/python3.9/site-packages/pandas/core/tools/datetimes.py:1047: UserWarning: Parsing '20-08-2022' in DD/MM/YYYY format. Provide format or specify infer_datetime_format=True for consistent parsing.\n",
      "  cache_array = _maybe_cache(arg, format, cache, convert_listlike)\n",
      "/opt/anaconda3/lib/python3.9/site-packages/pandas/core/tools/datetimes.py:1047: UserWarning: Parsing '19-08-2022' in DD/MM/YYYY format. Provide format or specify infer_datetime_format=True for consistent parsing.\n",
      "  cache_array = _maybe_cache(arg, format, cache, convert_listlike)\n",
      "/opt/anaconda3/lib/python3.9/site-packages/pandas/core/tools/datetimes.py:1047: UserWarning: Parsing '18-08-2022' in DD/MM/YYYY format. Provide format or specify infer_datetime_format=True for consistent parsing.\n",
      "  cache_array = _maybe_cache(arg, format, cache, convert_listlike)\n",
      "/opt/anaconda3/lib/python3.9/site-packages/pandas/core/tools/datetimes.py:1047: UserWarning: Parsing '17-08-2022' in DD/MM/YYYY format. Provide format or specify infer_datetime_format=True for consistent parsing.\n",
      "  cache_array = _maybe_cache(arg, format, cache, convert_listlike)\n",
      "/opt/anaconda3/lib/python3.9/site-packages/pandas/core/tools/datetimes.py:1047: UserWarning: Parsing '16-08-2022' in DD/MM/YYYY format. Provide format or specify infer_datetime_format=True for consistent parsing.\n",
      "  cache_array = _maybe_cache(arg, format, cache, convert_listlike)\n",
      "/opt/anaconda3/lib/python3.9/site-packages/pandas/core/tools/datetimes.py:1047: UserWarning: Parsing '14-08-2022' in DD/MM/YYYY format. Provide format or specify infer_datetime_format=True for consistent parsing.\n",
      "  cache_array = _maybe_cache(arg, format, cache, convert_listlike)\n",
      "/opt/anaconda3/lib/python3.9/site-packages/pandas/core/tools/datetimes.py:1047: UserWarning: Parsing '13-08-2022' in DD/MM/YYYY format. Provide format or specify infer_datetime_format=True for consistent parsing.\n",
      "  cache_array = _maybe_cache(arg, format, cache, convert_listlike)\n",
      "/opt/anaconda3/lib/python3.9/site-packages/pandas/core/tools/datetimes.py:1047: UserWarning: Parsing '31-07-2022' in DD/MM/YYYY format. Provide format or specify infer_datetime_format=True for consistent parsing.\n",
      "  cache_array = _maybe_cache(arg, format, cache, convert_listlike)\n",
      "/opt/anaconda3/lib/python3.9/site-packages/pandas/core/tools/datetimes.py:1047: UserWarning: Parsing '30-07-2022' in DD/MM/YYYY format. Provide format or specify infer_datetime_format=True for consistent parsing.\n",
      "  cache_array = _maybe_cache(arg, format, cache, convert_listlike)\n",
      "/opt/anaconda3/lib/python3.9/site-packages/pandas/core/tools/datetimes.py:1047: UserWarning: Parsing '29-07-2022' in DD/MM/YYYY format. Provide format or specify infer_datetime_format=True for consistent parsing.\n",
      "  cache_array = _maybe_cache(arg, format, cache, convert_listlike)\n",
      "/opt/anaconda3/lib/python3.9/site-packages/pandas/core/tools/datetimes.py:1047: UserWarning: Parsing '28-07-2022' in DD/MM/YYYY format. Provide format or specify infer_datetime_format=True for consistent parsing.\n",
      "  cache_array = _maybe_cache(arg, format, cache, convert_listlike)\n",
      "/opt/anaconda3/lib/python3.9/site-packages/pandas/core/tools/datetimes.py:1047: UserWarning: Parsing '27-07-2022' in DD/MM/YYYY format. Provide format or specify infer_datetime_format=True for consistent parsing.\n",
      "  cache_array = _maybe_cache(arg, format, cache, convert_listlike)\n",
      "/opt/anaconda3/lib/python3.9/site-packages/pandas/core/tools/datetimes.py:1047: UserWarning: Parsing '26-07-2022' in DD/MM/YYYY format. Provide format or specify infer_datetime_format=True for consistent parsing.\n",
      "  cache_array = _maybe_cache(arg, format, cache, convert_listlike)\n",
      "/opt/anaconda3/lib/python3.9/site-packages/pandas/core/tools/datetimes.py:1047: UserWarning: Parsing '24-07-2022' in DD/MM/YYYY format. Provide format or specify infer_datetime_format=True for consistent parsing.\n",
      "  cache_array = _maybe_cache(arg, format, cache, convert_listlike)\n",
      "/opt/anaconda3/lib/python3.9/site-packages/pandas/core/tools/datetimes.py:1047: UserWarning: Parsing '23-07-2022' in DD/MM/YYYY format. Provide format or specify infer_datetime_format=True for consistent parsing.\n",
      "  cache_array = _maybe_cache(arg, format, cache, convert_listlike)\n",
      "/opt/anaconda3/lib/python3.9/site-packages/pandas/core/tools/datetimes.py:1047: UserWarning: Parsing '22-07-2022' in DD/MM/YYYY format. Provide format or specify infer_datetime_format=True for consistent parsing.\n",
      "  cache_array = _maybe_cache(arg, format, cache, convert_listlike)\n",
      "/opt/anaconda3/lib/python3.9/site-packages/pandas/core/tools/datetimes.py:1047: UserWarning: Parsing '21-07-2022' in DD/MM/YYYY format. Provide format or specify infer_datetime_format=True for consistent parsing.\n",
      "  cache_array = _maybe_cache(arg, format, cache, convert_listlike)\n",
      "/opt/anaconda3/lib/python3.9/site-packages/pandas/core/tools/datetimes.py:1047: UserWarning: Parsing '20-07-2022' in DD/MM/YYYY format. Provide format or specify infer_datetime_format=True for consistent parsing.\n",
      "  cache_array = _maybe_cache(arg, format, cache, convert_listlike)\n",
      "/opt/anaconda3/lib/python3.9/site-packages/pandas/core/tools/datetimes.py:1047: UserWarning: Parsing '19-07-2022' in DD/MM/YYYY format. Provide format or specify infer_datetime_format=True for consistent parsing.\n",
      "  cache_array = _maybe_cache(arg, format, cache, convert_listlike)\n",
      "/opt/anaconda3/lib/python3.9/site-packages/pandas/core/tools/datetimes.py:1047: UserWarning: Parsing '17-07-2022' in DD/MM/YYYY format. Provide format or specify infer_datetime_format=True for consistent parsing.\n",
      "  cache_array = _maybe_cache(arg, format, cache, convert_listlike)\n",
      "/opt/anaconda3/lib/python3.9/site-packages/pandas/core/tools/datetimes.py:1047: UserWarning: Parsing '16-07-2022' in DD/MM/YYYY format. Provide format or specify infer_datetime_format=True for consistent parsing.\n",
      "  cache_array = _maybe_cache(arg, format, cache, convert_listlike)\n",
      "/opt/anaconda3/lib/python3.9/site-packages/pandas/core/tools/datetimes.py:1047: UserWarning: Parsing '15-07-2022' in DD/MM/YYYY format. Provide format or specify infer_datetime_format=True for consistent parsing.\n",
      "  cache_array = _maybe_cache(arg, format, cache, convert_listlike)\n",
      "/opt/anaconda3/lib/python3.9/site-packages/pandas/core/tools/datetimes.py:1047: UserWarning: Parsing '14-07-2022' in DD/MM/YYYY format. Provide format or specify infer_datetime_format=True for consistent parsing.\n",
      "  cache_array = _maybe_cache(arg, format, cache, convert_listlike)\n",
      "/opt/anaconda3/lib/python3.9/site-packages/pandas/core/tools/datetimes.py:1047: UserWarning: Parsing '13-07-2022' in DD/MM/YYYY format. Provide format or specify infer_datetime_format=True for consistent parsing.\n",
      "  cache_array = _maybe_cache(arg, format, cache, convert_listlike)\n",
      "/opt/anaconda3/lib/python3.9/site-packages/pandas/core/tools/datetimes.py:1047: UserWarning: Parsing '26-06-2022' in DD/MM/YYYY format. Provide format or specify infer_datetime_format=True for consistent parsing.\n",
      "  cache_array = _maybe_cache(arg, format, cache, convert_listlike)\n",
      "/opt/anaconda3/lib/python3.9/site-packages/pandas/core/tools/datetimes.py:1047: UserWarning: Parsing '25-06-2022' in DD/MM/YYYY format. Provide format or specify infer_datetime_format=True for consistent parsing.\n",
      "  cache_array = _maybe_cache(arg, format, cache, convert_listlike)\n",
      "/opt/anaconda3/lib/python3.9/site-packages/pandas/core/tools/datetimes.py:1047: UserWarning: Parsing '24-06-2022' in DD/MM/YYYY format. Provide format or specify infer_datetime_format=True for consistent parsing.\n",
      "  cache_array = _maybe_cache(arg, format, cache, convert_listlike)\n",
      "/opt/anaconda3/lib/python3.9/site-packages/pandas/core/tools/datetimes.py:1047: UserWarning: Parsing '23-06-2022' in DD/MM/YYYY format. Provide format or specify infer_datetime_format=True for consistent parsing.\n",
      "  cache_array = _maybe_cache(arg, format, cache, convert_listlike)\n",
      "/opt/anaconda3/lib/python3.9/site-packages/pandas/core/tools/datetimes.py:1047: UserWarning: Parsing '22-06-2022' in DD/MM/YYYY format. Provide format or specify infer_datetime_format=True for consistent parsing.\n",
      "  cache_array = _maybe_cache(arg, format, cache, convert_listlike)\n",
      "/opt/anaconda3/lib/python3.9/site-packages/pandas/core/tools/datetimes.py:1047: UserWarning: Parsing '21-06-2022' in DD/MM/YYYY format. Provide format or specify infer_datetime_format=True for consistent parsing.\n",
      "  cache_array = _maybe_cache(arg, format, cache, convert_listlike)\n",
      "/opt/anaconda3/lib/python3.9/site-packages/pandas/core/tools/datetimes.py:1047: UserWarning: Parsing '19-06-2022' in DD/MM/YYYY format. Provide format or specify infer_datetime_format=True for consistent parsing.\n",
      "  cache_array = _maybe_cache(arg, format, cache, convert_listlike)\n",
      "/opt/anaconda3/lib/python3.9/site-packages/pandas/core/tools/datetimes.py:1047: UserWarning: Parsing '18-06-2022' in DD/MM/YYYY format. Provide format or specify infer_datetime_format=True for consistent parsing.\n",
      "  cache_array = _maybe_cache(arg, format, cache, convert_listlike)\n",
      "/opt/anaconda3/lib/python3.9/site-packages/pandas/core/tools/datetimes.py:1047: UserWarning: Parsing '17-06-2022' in DD/MM/YYYY format. Provide format or specify infer_datetime_format=True for consistent parsing.\n",
      "  cache_array = _maybe_cache(arg, format, cache, convert_listlike)\n",
      "/opt/anaconda3/lib/python3.9/site-packages/pandas/core/tools/datetimes.py:1047: UserWarning: Parsing '16-06-2022' in DD/MM/YYYY format. Provide format or specify infer_datetime_format=True for consistent parsing.\n",
      "  cache_array = _maybe_cache(arg, format, cache, convert_listlike)\n",
      "/opt/anaconda3/lib/python3.9/site-packages/pandas/core/tools/datetimes.py:1047: UserWarning: Parsing '15-06-2022' in DD/MM/YYYY format. Provide format or specify infer_datetime_format=True for consistent parsing.\n",
      "  cache_array = _maybe_cache(arg, format, cache, convert_listlike)\n",
      "/opt/anaconda3/lib/python3.9/site-packages/pandas/core/tools/datetimes.py:1047: UserWarning: Parsing '14-06-2022' in DD/MM/YYYY format. Provide format or specify infer_datetime_format=True for consistent parsing.\n",
      "  cache_array = _maybe_cache(arg, format, cache, convert_listlike)\n",
      "/opt/anaconda3/lib/python3.9/site-packages/pandas/core/tools/datetimes.py:1047: UserWarning: Parsing '31-05-2022' in DD/MM/YYYY format. Provide format or specify infer_datetime_format=True for consistent parsing.\n",
      "  cache_array = _maybe_cache(arg, format, cache, convert_listlike)\n",
      "/opt/anaconda3/lib/python3.9/site-packages/pandas/core/tools/datetimes.py:1047: UserWarning: Parsing '29-05-2022' in DD/MM/YYYY format. Provide format or specify infer_datetime_format=True for consistent parsing.\n",
      "  cache_array = _maybe_cache(arg, format, cache, convert_listlike)\n",
      "/opt/anaconda3/lib/python3.9/site-packages/pandas/core/tools/datetimes.py:1047: UserWarning: Parsing '28-05-2022' in DD/MM/YYYY format. Provide format or specify infer_datetime_format=True for consistent parsing.\n",
      "  cache_array = _maybe_cache(arg, format, cache, convert_listlike)\n",
      "/opt/anaconda3/lib/python3.9/site-packages/pandas/core/tools/datetimes.py:1047: UserWarning: Parsing '27-05-2022' in DD/MM/YYYY format. Provide format or specify infer_datetime_format=True for consistent parsing.\n",
      "  cache_array = _maybe_cache(arg, format, cache, convert_listlike)\n",
      "/opt/anaconda3/lib/python3.9/site-packages/pandas/core/tools/datetimes.py:1047: UserWarning: Parsing '26-05-2022' in DD/MM/YYYY format. Provide format or specify infer_datetime_format=True for consistent parsing.\n",
      "  cache_array = _maybe_cache(arg, format, cache, convert_listlike)\n",
      "/opt/anaconda3/lib/python3.9/site-packages/pandas/core/tools/datetimes.py:1047: UserWarning: Parsing '25-05-2022' in DD/MM/YYYY format. Provide format or specify infer_datetime_format=True for consistent parsing.\n",
      "  cache_array = _maybe_cache(arg, format, cache, convert_listlike)\n",
      "/opt/anaconda3/lib/python3.9/site-packages/pandas/core/tools/datetimes.py:1047: UserWarning: Parsing '24-05-2022' in DD/MM/YYYY format. Provide format or specify infer_datetime_format=True for consistent parsing.\n",
      "  cache_array = _maybe_cache(arg, format, cache, convert_listlike)\n",
      "/opt/anaconda3/lib/python3.9/site-packages/pandas/core/tools/datetimes.py:1047: UserWarning: Parsing '22-05-2022' in DD/MM/YYYY format. Provide format or specify infer_datetime_format=True for consistent parsing.\n",
      "  cache_array = _maybe_cache(arg, format, cache, convert_listlike)\n",
      "/opt/anaconda3/lib/python3.9/site-packages/pandas/core/tools/datetimes.py:1047: UserWarning: Parsing '21-05-2022' in DD/MM/YYYY format. Provide format or specify infer_datetime_format=True for consistent parsing.\n",
      "  cache_array = _maybe_cache(arg, format, cache, convert_listlike)\n",
      "/opt/anaconda3/lib/python3.9/site-packages/pandas/core/tools/datetimes.py:1047: UserWarning: Parsing '20-05-2022' in DD/MM/YYYY format. Provide format or specify infer_datetime_format=True for consistent parsing.\n",
      "  cache_array = _maybe_cache(arg, format, cache, convert_listlike)\n",
      "/opt/anaconda3/lib/python3.9/site-packages/pandas/core/tools/datetimes.py:1047: UserWarning: Parsing '19-05-2022' in DD/MM/YYYY format. Provide format or specify infer_datetime_format=True for consistent parsing.\n",
      "  cache_array = _maybe_cache(arg, format, cache, convert_listlike)\n",
      "/opt/anaconda3/lib/python3.9/site-packages/pandas/core/tools/datetimes.py:1047: UserWarning: Parsing '18-05-2022' in DD/MM/YYYY format. Provide format or specify infer_datetime_format=True for consistent parsing.\n",
      "  cache_array = _maybe_cache(arg, format, cache, convert_listlike)\n",
      "/opt/anaconda3/lib/python3.9/site-packages/pandas/core/tools/datetimes.py:1047: UserWarning: Parsing '17-05-2022' in DD/MM/YYYY format. Provide format or specify infer_datetime_format=True for consistent parsing.\n",
      "  cache_array = _maybe_cache(arg, format, cache, convert_listlike)\n",
      "/opt/anaconda3/lib/python3.9/site-packages/pandas/core/tools/datetimes.py:1047: UserWarning: Parsing '16-05-2022' in DD/MM/YYYY format. Provide format or specify infer_datetime_format=True for consistent parsing.\n",
      "  cache_array = _maybe_cache(arg, format, cache, convert_listlike)\n",
      "/opt/anaconda3/lib/python3.9/site-packages/pandas/core/tools/datetimes.py:1047: UserWarning: Parsing '15-05-2022' in DD/MM/YYYY format. Provide format or specify infer_datetime_format=True for consistent parsing.\n",
      "  cache_array = _maybe_cache(arg, format, cache, convert_listlike)\n",
      "/opt/anaconda3/lib/python3.9/site-packages/pandas/core/tools/datetimes.py:1047: UserWarning: Parsing '14-05-2022' in DD/MM/YYYY format. Provide format or specify infer_datetime_format=True for consistent parsing.\n",
      "  cache_array = _maybe_cache(arg, format, cache, convert_listlike)\n",
      "/opt/anaconda3/lib/python3.9/site-packages/pandas/core/tools/datetimes.py:1047: UserWarning: Parsing '13-05-2022' in DD/MM/YYYY format. Provide format or specify infer_datetime_format=True for consistent parsing.\n",
      "  cache_array = _maybe_cache(arg, format, cache, convert_listlike)\n",
      "/opt/anaconda3/lib/python3.9/site-packages/pandas/core/tools/datetimes.py:1047: UserWarning: Parsing '30-04-2022' in DD/MM/YYYY format. Provide format or specify infer_datetime_format=True for consistent parsing.\n",
      "  cache_array = _maybe_cache(arg, format, cache, convert_listlike)\n",
      "/opt/anaconda3/lib/python3.9/site-packages/pandas/core/tools/datetimes.py:1047: UserWarning: Parsing '29-04-2022' in DD/MM/YYYY format. Provide format or specify infer_datetime_format=True for consistent parsing.\n",
      "  cache_array = _maybe_cache(arg, format, cache, convert_listlike)\n",
      "/opt/anaconda3/lib/python3.9/site-packages/pandas/core/tools/datetimes.py:1047: UserWarning: Parsing '28-04-2022' in DD/MM/YYYY format. Provide format or specify infer_datetime_format=True for consistent parsing.\n",
      "  cache_array = _maybe_cache(arg, format, cache, convert_listlike)\n",
      "/opt/anaconda3/lib/python3.9/site-packages/pandas/core/tools/datetimes.py:1047: UserWarning: Parsing '27-04-2022' in DD/MM/YYYY format. Provide format or specify infer_datetime_format=True for consistent parsing.\n",
      "  cache_array = _maybe_cache(arg, format, cache, convert_listlike)\n",
      "/opt/anaconda3/lib/python3.9/site-packages/pandas/core/tools/datetimes.py:1047: UserWarning: Parsing '26-04-2022' in DD/MM/YYYY format. Provide format or specify infer_datetime_format=True for consistent parsing.\n",
      "  cache_array = _maybe_cache(arg, format, cache, convert_listlike)\n",
      "/opt/anaconda3/lib/python3.9/site-packages/pandas/core/tools/datetimes.py:1047: UserWarning: Parsing '24-04-2022' in DD/MM/YYYY format. Provide format or specify infer_datetime_format=True for consistent parsing.\n",
      "  cache_array = _maybe_cache(arg, format, cache, convert_listlike)\n",
      "/opt/anaconda3/lib/python3.9/site-packages/pandas/core/tools/datetimes.py:1047: UserWarning: Parsing '23-04-2022' in DD/MM/YYYY format. Provide format or specify infer_datetime_format=True for consistent parsing.\n",
      "  cache_array = _maybe_cache(arg, format, cache, convert_listlike)\n",
      "/opt/anaconda3/lib/python3.9/site-packages/pandas/core/tools/datetimes.py:1047: UserWarning: Parsing '22-04-2022' in DD/MM/YYYY format. Provide format or specify infer_datetime_format=True for consistent parsing.\n",
      "  cache_array = _maybe_cache(arg, format, cache, convert_listlike)\n",
      "/opt/anaconda3/lib/python3.9/site-packages/pandas/core/tools/datetimes.py:1047: UserWarning: Parsing '21-04-2022' in DD/MM/YYYY format. Provide format or specify infer_datetime_format=True for consistent parsing.\n",
      "  cache_array = _maybe_cache(arg, format, cache, convert_listlike)\n",
      "/opt/anaconda3/lib/python3.9/site-packages/pandas/core/tools/datetimes.py:1047: UserWarning: Parsing '20-04-2022' in DD/MM/YYYY format. Provide format or specify infer_datetime_format=True for consistent parsing.\n",
      "  cache_array = _maybe_cache(arg, format, cache, convert_listlike)\n",
      "/opt/anaconda3/lib/python3.9/site-packages/pandas/core/tools/datetimes.py:1047: UserWarning: Parsing '19-04-2022' in DD/MM/YYYY format. Provide format or specify infer_datetime_format=True for consistent parsing.\n",
      "  cache_array = _maybe_cache(arg, format, cache, convert_listlike)\n",
      "/opt/anaconda3/lib/python3.9/site-packages/pandas/core/tools/datetimes.py:1047: UserWarning: Parsing '17-04-2022' in DD/MM/YYYY format. Provide format or specify infer_datetime_format=True for consistent parsing.\n",
      "  cache_array = _maybe_cache(arg, format, cache, convert_listlike)\n",
      "/opt/anaconda3/lib/python3.9/site-packages/pandas/core/tools/datetimes.py:1047: UserWarning: Parsing '16-04-2022' in DD/MM/YYYY format. Provide format or specify infer_datetime_format=True for consistent parsing.\n",
      "  cache_array = _maybe_cache(arg, format, cache, convert_listlike)\n",
      "/opt/anaconda3/lib/python3.9/site-packages/pandas/core/tools/datetimes.py:1047: UserWarning: Parsing '15-04-2022' in DD/MM/YYYY format. Provide format or specify infer_datetime_format=True for consistent parsing.\n",
      "  cache_array = _maybe_cache(arg, format, cache, convert_listlike)\n",
      "/opt/anaconda3/lib/python3.9/site-packages/pandas/core/tools/datetimes.py:1047: UserWarning: Parsing '14-04-2022' in DD/MM/YYYY format. Provide format or specify infer_datetime_format=True for consistent parsing.\n",
      "  cache_array = _maybe_cache(arg, format, cache, convert_listlike)\n",
      "/opt/anaconda3/lib/python3.9/site-packages/pandas/core/tools/datetimes.py:1047: UserWarning: Parsing '13-04-2022' in DD/MM/YYYY format. Provide format or specify infer_datetime_format=True for consistent parsing.\n",
      "  cache_array = _maybe_cache(arg, format, cache, convert_listlike)\n",
      "/opt/anaconda3/lib/python3.9/site-packages/pandas/core/tools/datetimes.py:1047: UserWarning: Parsing '22-03-2022' in DD/MM/YYYY format. Provide format or specify infer_datetime_format=True for consistent parsing.\n",
      "  cache_array = _maybe_cache(arg, format, cache, convert_listlike)\n",
      "/opt/anaconda3/lib/python3.9/site-packages/pandas/core/tools/datetimes.py:1047: UserWarning: Parsing '20-03-2022' in DD/MM/YYYY format. Provide format or specify infer_datetime_format=True for consistent parsing.\n",
      "  cache_array = _maybe_cache(arg, format, cache, convert_listlike)\n",
      "/opt/anaconda3/lib/python3.9/site-packages/pandas/core/tools/datetimes.py:1047: UserWarning: Parsing '19-03-2022' in DD/MM/YYYY format. Provide format or specify infer_datetime_format=True for consistent parsing.\n",
      "  cache_array = _maybe_cache(arg, format, cache, convert_listlike)\n",
      "/opt/anaconda3/lib/python3.9/site-packages/pandas/core/tools/datetimes.py:1047: UserWarning: Parsing '18-03-2022' in DD/MM/YYYY format. Provide format or specify infer_datetime_format=True for consistent parsing.\n",
      "  cache_array = _maybe_cache(arg, format, cache, convert_listlike)\n",
      "/opt/anaconda3/lib/python3.9/site-packages/pandas/core/tools/datetimes.py:1047: UserWarning: Parsing '16-03-2022' in DD/MM/YYYY format. Provide format or specify infer_datetime_format=True for consistent parsing.\n",
      "  cache_array = _maybe_cache(arg, format, cache, convert_listlike)\n",
      "/opt/anaconda3/lib/python3.9/site-packages/pandas/core/tools/datetimes.py:1047: UserWarning: Parsing '19-02-2022' in DD/MM/YYYY format. Provide format or specify infer_datetime_format=True for consistent parsing.\n",
      "  cache_array = _maybe_cache(arg, format, cache, convert_listlike)\n",
      "/opt/anaconda3/lib/python3.9/site-packages/pandas/core/tools/datetimes.py:1047: UserWarning: Parsing '18-02-2022' in DD/MM/YYYY format. Provide format or specify infer_datetime_format=True for consistent parsing.\n",
      "  cache_array = _maybe_cache(arg, format, cache, convert_listlike)\n",
      "/opt/anaconda3/lib/python3.9/site-packages/pandas/core/tools/datetimes.py:1047: UserWarning: Parsing '31-01-2022' in DD/MM/YYYY format. Provide format or specify infer_datetime_format=True for consistent parsing.\n",
      "  cache_array = _maybe_cache(arg, format, cache, convert_listlike)\n",
      "/opt/anaconda3/lib/python3.9/site-packages/pandas/core/tools/datetimes.py:1047: UserWarning: Parsing '30-01-2022' in DD/MM/YYYY format. Provide format or specify infer_datetime_format=True for consistent parsing.\n",
      "  cache_array = _maybe_cache(arg, format, cache, convert_listlike)\n",
      "/opt/anaconda3/lib/python3.9/site-packages/pandas/core/tools/datetimes.py:1047: UserWarning: Parsing '29-01-2022' in DD/MM/YYYY format. Provide format or specify infer_datetime_format=True for consistent parsing.\n",
      "  cache_array = _maybe_cache(arg, format, cache, convert_listlike)\n",
      "/opt/anaconda3/lib/python3.9/site-packages/pandas/core/tools/datetimes.py:1047: UserWarning: Parsing '28-01-2022' in DD/MM/YYYY format. Provide format or specify infer_datetime_format=True for consistent parsing.\n",
      "  cache_array = _maybe_cache(arg, format, cache, convert_listlike)\n",
      "/opt/anaconda3/lib/python3.9/site-packages/pandas/core/tools/datetimes.py:1047: UserWarning: Parsing '27-01-2022' in DD/MM/YYYY format. Provide format or specify infer_datetime_format=True for consistent parsing.\n",
      "  cache_array = _maybe_cache(arg, format, cache, convert_listlike)\n",
      "/opt/anaconda3/lib/python3.9/site-packages/pandas/core/tools/datetimes.py:1047: UserWarning: Parsing '26-01-2022' in DD/MM/YYYY format. Provide format or specify infer_datetime_format=True for consistent parsing.\n",
      "  cache_array = _maybe_cache(arg, format, cache, convert_listlike)\n",
      "/opt/anaconda3/lib/python3.9/site-packages/pandas/core/tools/datetimes.py:1047: UserWarning: Parsing '25-01-2022' in DD/MM/YYYY format. Provide format or specify infer_datetime_format=True for consistent parsing.\n",
      "  cache_array = _maybe_cache(arg, format, cache, convert_listlike)\n",
      "/opt/anaconda3/lib/python3.9/site-packages/pandas/core/tools/datetimes.py:1047: UserWarning: Parsing '24-01-2022' in DD/MM/YYYY format. Provide format or specify infer_datetime_format=True for consistent parsing.\n",
      "  cache_array = _maybe_cache(arg, format, cache, convert_listlike)\n",
      "/opt/anaconda3/lib/python3.9/site-packages/pandas/core/tools/datetimes.py:1047: UserWarning: Parsing '23-01-2022' in DD/MM/YYYY format. Provide format or specify infer_datetime_format=True for consistent parsing.\n",
      "  cache_array = _maybe_cache(arg, format, cache, convert_listlike)\n",
      "/opt/anaconda3/lib/python3.9/site-packages/pandas/core/tools/datetimes.py:1047: UserWarning: Parsing '22-01-2022' in DD/MM/YYYY format. Provide format or specify infer_datetime_format=True for consistent parsing.\n",
      "  cache_array = _maybe_cache(arg, format, cache, convert_listlike)\n",
      "/opt/anaconda3/lib/python3.9/site-packages/pandas/core/tools/datetimes.py:1047: UserWarning: Parsing '21-01-2022' in DD/MM/YYYY format. Provide format or specify infer_datetime_format=True for consistent parsing.\n",
      "  cache_array = _maybe_cache(arg, format, cache, convert_listlike)\n",
      "/opt/anaconda3/lib/python3.9/site-packages/pandas/core/tools/datetimes.py:1047: UserWarning: Parsing '20-01-2022' in DD/MM/YYYY format. Provide format or specify infer_datetime_format=True for consistent parsing.\n",
      "  cache_array = _maybe_cache(arg, format, cache, convert_listlike)\n",
      "/opt/anaconda3/lib/python3.9/site-packages/pandas/core/tools/datetimes.py:1047: UserWarning: Parsing '19-01-2022' in DD/MM/YYYY format. Provide format or specify infer_datetime_format=True for consistent parsing.\n",
      "  cache_array = _maybe_cache(arg, format, cache, convert_listlike)\n",
      "/opt/anaconda3/lib/python3.9/site-packages/pandas/core/tools/datetimes.py:1047: UserWarning: Parsing '18-01-2022' in DD/MM/YYYY format. Provide format or specify infer_datetime_format=True for consistent parsing.\n",
      "  cache_array = _maybe_cache(arg, format, cache, convert_listlike)\n",
      "/opt/anaconda3/lib/python3.9/site-packages/pandas/core/tools/datetimes.py:1047: UserWarning: Parsing '17-01-2022' in DD/MM/YYYY format. Provide format or specify infer_datetime_format=True for consistent parsing.\n",
      "  cache_array = _maybe_cache(arg, format, cache, convert_listlike)\n",
      "/opt/anaconda3/lib/python3.9/site-packages/pandas/core/tools/datetimes.py:1047: UserWarning: Parsing '16-01-2022' in DD/MM/YYYY format. Provide format or specify infer_datetime_format=True for consistent parsing.\n",
      "  cache_array = _maybe_cache(arg, format, cache, convert_listlike)\n",
      "/opt/anaconda3/lib/python3.9/site-packages/pandas/core/tools/datetimes.py:1047: UserWarning: Parsing '15-01-2022' in DD/MM/YYYY format. Provide format or specify infer_datetime_format=True for consistent parsing.\n",
      "  cache_array = _maybe_cache(arg, format, cache, convert_listlike)\n",
      "/opt/anaconda3/lib/python3.9/site-packages/pandas/core/tools/datetimes.py:1047: UserWarning: Parsing '14-01-2022' in DD/MM/YYYY format. Provide format or specify infer_datetime_format=True for consistent parsing.\n",
      "  cache_array = _maybe_cache(arg, format, cache, convert_listlike)\n",
      "/opt/anaconda3/lib/python3.9/site-packages/pandas/core/tools/datetimes.py:1047: UserWarning: Parsing '13-01-2022' in DD/MM/YYYY format. Provide format or specify infer_datetime_format=True for consistent parsing.\n",
      "  cache_array = _maybe_cache(arg, format, cache, convert_listlike)\n",
      "/opt/anaconda3/lib/python3.9/site-packages/pandas/core/tools/datetimes.py:1047: UserWarning: Parsing '31-12-2021' in DD/MM/YYYY format. Provide format or specify infer_datetime_format=True for consistent parsing.\n",
      "  cache_array = _maybe_cache(arg, format, cache, convert_listlike)\n",
      "/opt/anaconda3/lib/python3.9/site-packages/pandas/core/tools/datetimes.py:1047: UserWarning: Parsing '30-12-2021' in DD/MM/YYYY format. Provide format or specify infer_datetime_format=True for consistent parsing.\n",
      "  cache_array = _maybe_cache(arg, format, cache, convert_listlike)\n",
      "/opt/anaconda3/lib/python3.9/site-packages/pandas/core/tools/datetimes.py:1047: UserWarning: Parsing '29-12-2021' in DD/MM/YYYY format. Provide format or specify infer_datetime_format=True for consistent parsing.\n",
      "  cache_array = _maybe_cache(arg, format, cache, convert_listlike)\n",
      "/opt/anaconda3/lib/python3.9/site-packages/pandas/core/tools/datetimes.py:1047: UserWarning: Parsing '28-12-2021' in DD/MM/YYYY format. Provide format or specify infer_datetime_format=True for consistent parsing.\n",
      "  cache_array = _maybe_cache(arg, format, cache, convert_listlike)\n",
      "/opt/anaconda3/lib/python3.9/site-packages/pandas/core/tools/datetimes.py:1047: UserWarning: Parsing '27-12-2021' in DD/MM/YYYY format. Provide format or specify infer_datetime_format=True for consistent parsing.\n",
      "  cache_array = _maybe_cache(arg, format, cache, convert_listlike)\n",
      "/opt/anaconda3/lib/python3.9/site-packages/pandas/core/tools/datetimes.py:1047: UserWarning: Parsing '26-12-2021' in DD/MM/YYYY format. Provide format or specify infer_datetime_format=True for consistent parsing.\n",
      "  cache_array = _maybe_cache(arg, format, cache, convert_listlike)\n",
      "/opt/anaconda3/lib/python3.9/site-packages/pandas/core/tools/datetimes.py:1047: UserWarning: Parsing '25-12-2021' in DD/MM/YYYY format. Provide format or specify infer_datetime_format=True for consistent parsing.\n",
      "  cache_array = _maybe_cache(arg, format, cache, convert_listlike)\n",
      "/opt/anaconda3/lib/python3.9/site-packages/pandas/core/tools/datetimes.py:1047: UserWarning: Parsing '24-12-2021' in DD/MM/YYYY format. Provide format or specify infer_datetime_format=True for consistent parsing.\n",
      "  cache_array = _maybe_cache(arg, format, cache, convert_listlike)\n",
      "/opt/anaconda3/lib/python3.9/site-packages/pandas/core/tools/datetimes.py:1047: UserWarning: Parsing '23-12-2021' in DD/MM/YYYY format. Provide format or specify infer_datetime_format=True for consistent parsing.\n",
      "  cache_array = _maybe_cache(arg, format, cache, convert_listlike)\n",
      "/opt/anaconda3/lib/python3.9/site-packages/pandas/core/tools/datetimes.py:1047: UserWarning: Parsing '22-12-2021' in DD/MM/YYYY format. Provide format or specify infer_datetime_format=True for consistent parsing.\n",
      "  cache_array = _maybe_cache(arg, format, cache, convert_listlike)\n",
      "/opt/anaconda3/lib/python3.9/site-packages/pandas/core/tools/datetimes.py:1047: UserWarning: Parsing '21-12-2021' in DD/MM/YYYY format. Provide format or specify infer_datetime_format=True for consistent parsing.\n",
      "  cache_array = _maybe_cache(arg, format, cache, convert_listlike)\n",
      "/opt/anaconda3/lib/python3.9/site-packages/pandas/core/tools/datetimes.py:1047: UserWarning: Parsing '20-12-2021' in DD/MM/YYYY format. Provide format or specify infer_datetime_format=True for consistent parsing.\n",
      "  cache_array = _maybe_cache(arg, format, cache, convert_listlike)\n",
      "/opt/anaconda3/lib/python3.9/site-packages/pandas/core/tools/datetimes.py:1047: UserWarning: Parsing '19-12-2021' in DD/MM/YYYY format. Provide format or specify infer_datetime_format=True for consistent parsing.\n",
      "  cache_array = _maybe_cache(arg, format, cache, convert_listlike)\n",
      "/opt/anaconda3/lib/python3.9/site-packages/pandas/core/tools/datetimes.py:1047: UserWarning: Parsing '18-12-2021' in DD/MM/YYYY format. Provide format or specify infer_datetime_format=True for consistent parsing.\n",
      "  cache_array = _maybe_cache(arg, format, cache, convert_listlike)\n",
      "/opt/anaconda3/lib/python3.9/site-packages/pandas/core/tools/datetimes.py:1047: UserWarning: Parsing '17-12-2021' in DD/MM/YYYY format. Provide format or specify infer_datetime_format=True for consistent parsing.\n",
      "  cache_array = _maybe_cache(arg, format, cache, convert_listlike)\n",
      "/opt/anaconda3/lib/python3.9/site-packages/pandas/core/tools/datetimes.py:1047: UserWarning: Parsing '16-12-2021' in DD/MM/YYYY format. Provide format or specify infer_datetime_format=True for consistent parsing.\n",
      "  cache_array = _maybe_cache(arg, format, cache, convert_listlike)\n",
      "/opt/anaconda3/lib/python3.9/site-packages/pandas/core/tools/datetimes.py:1047: UserWarning: Parsing '15-12-2021' in DD/MM/YYYY format. Provide format or specify infer_datetime_format=True for consistent parsing.\n",
      "  cache_array = _maybe_cache(arg, format, cache, convert_listlike)\n",
      "/opt/anaconda3/lib/python3.9/site-packages/pandas/core/tools/datetimes.py:1047: UserWarning: Parsing '14-12-2021' in DD/MM/YYYY format. Provide format or specify infer_datetime_format=True for consistent parsing.\n",
      "  cache_array = _maybe_cache(arg, format, cache, convert_listlike)\n",
      "/opt/anaconda3/lib/python3.9/site-packages/pandas/core/tools/datetimes.py:1047: UserWarning: Parsing '13-12-2021' in DD/MM/YYYY format. Provide format or specify infer_datetime_format=True for consistent parsing.\n",
      "  cache_array = _maybe_cache(arg, format, cache, convert_listlike)\n",
      "/var/folders/pq/6k_969mj2vz2_1xd9b8z0wr00000gn/T/ipykernel_63595/902063438.py:1: SettingWithCopyWarning: \n",
      "A value is trying to be set on a copy of a slice from a DataFrame.\n",
      "Try using .loc[row_indexer,col_indexer] = value instead\n",
      "\n",
      "See the caveats in the documentation: https://pandas.pydata.org/pandas-docs/stable/user_guide/indexing.html#returning-a-view-versus-a-copy\n",
      "  cleaned_data[\"Date\"] = pd.to_datetime(cleaned_data[\"Date\"])\n"
     ]
    }
   ],
   "source": [
    "cleaned_data[\"Date\"] = pd.to_datetime(cleaned_data[\"Date\"])"
   ]
  },
  {
   "cell_type": "code",
   "execution_count": 4,
   "id": "c65fb4d5",
   "metadata": {
    "scrolled": false
   },
   "outputs": [
    {
     "name": "stderr",
     "output_type": "stream",
     "text": [
      "/var/folders/pq/6k_969mj2vz2_1xd9b8z0wr00000gn/T/ipykernel_63595/1486641209.py:16: SettingWithCopyWarning: \n",
      "A value is trying to be set on a copy of a slice from a DataFrame.\n",
      "Try using .loc[row_indexer,col_indexer] = value instead\n",
      "\n",
      "See the caveats in the documentation: https://pandas.pydata.org/pandas-docs/stable/user_guide/indexing.html#returning-a-view-versus-a-copy\n",
      "  cleaned_data[\"day_week\"] = day_of_week_array\n",
      "/var/folders/pq/6k_969mj2vz2_1xd9b8z0wr00000gn/T/ipykernel_63595/1486641209.py:17: SettingWithCopyWarning: \n",
      "A value is trying to be set on a copy of a slice from a DataFrame.\n",
      "Try using .loc[row_indexer,col_indexer] = value instead\n",
      "\n",
      "See the caveats in the documentation: https://pandas.pydata.org/pandas-docs/stable/user_guide/indexing.html#returning-a-view-versus-a-copy\n",
      "  cleaned_data['day_week'] = cleaned_data['day_week'].map(day_map)\n"
     ]
    }
   ],
   "source": [
    "day_of_week_array = []\n",
    "for datetime in cleaned_data[\"Date\"]:\n",
    "    day = datetime.dayofweek\n",
    "    day_of_week_array.append(day)\n",
    "    \n",
    "day_map = {\n",
    "    0: \"Monday\",\n",
    "    1: \"Tuesday\",\n",
    "    2: \"Wednesday\",\n",
    "    3: \"Thursday\",\n",
    "    4: \"Friday\",\n",
    "    5: \"Saturday\",\n",
    "    6: \"Sunday\"\n",
    "}\n",
    "\n",
    "cleaned_data[\"day_week\"] = day_of_week_array\n",
    "cleaned_data['day_week'] = cleaned_data['day_week'].map(day_map)\n",
    "\n",
    "    "
   ]
  },
  {
   "cell_type": "code",
   "execution_count": 5,
   "id": "4d6f301b",
   "metadata": {},
   "outputs": [],
   "source": [
    "cleaned_data = cleaned_data[(cleaned_data['Date'] >= \"2022/4/1\") & (cleaned_data['Date'] <= \"2022/12/31\")]"
   ]
  },
  {
   "cell_type": "code",
   "execution_count": 6,
   "id": "7bb732f0",
   "metadata": {},
   "outputs": [
    {
     "data": {
      "text/plain": [
       "array(['2022-12-31T00:00:00.000000000', '2022-12-24T00:00:00.000000000',\n",
       "       '2022-12-23T00:00:00.000000000', '2022-12-22T00:00:00.000000000',\n",
       "       '2022-12-21T00:00:00.000000000', '2022-12-20T00:00:00.000000000',\n",
       "       '2022-12-18T00:00:00.000000000', '2022-12-17T00:00:00.000000000',\n",
       "       '2022-12-16T00:00:00.000000000', '2022-12-15T00:00:00.000000000',\n",
       "       '2022-12-14T00:00:00.000000000', '2022-12-13T00:00:00.000000000',\n",
       "       '2022-11-12T00:00:00.000000000', '2022-10-12T00:00:00.000000000',\n",
       "       '2022-09-12T00:00:00.000000000', '2022-08-12T00:00:00.000000000',\n",
       "       '2022-07-12T00:00:00.000000000', '2022-06-12T00:00:00.000000000',\n",
       "       '2022-04-12T00:00:00.000000000', '2022-11-30T00:00:00.000000000',\n",
       "       '2022-11-29T00:00:00.000000000', '2022-11-27T00:00:00.000000000',\n",
       "       '2022-11-26T00:00:00.000000000', '2022-11-25T00:00:00.000000000',\n",
       "       '2022-11-24T00:00:00.000000000', '2022-11-23T00:00:00.000000000',\n",
       "       '2022-11-22T00:00:00.000000000', '2022-11-20T00:00:00.000000000',\n",
       "       '2022-11-19T00:00:00.000000000', '2022-11-18T00:00:00.000000000',\n",
       "       '2022-11-17T00:00:00.000000000', '2022-11-16T00:00:00.000000000',\n",
       "       '2022-11-15T00:00:00.000000000', '2022-11-13T00:00:00.000000000',\n",
       "       '2022-12-11T00:00:00.000000000', '2022-11-11T00:00:00.000000000',\n",
       "       '2022-10-11T00:00:00.000000000', '2022-09-11T00:00:00.000000000',\n",
       "       '2022-08-11T00:00:00.000000000', '2022-06-11T00:00:00.000000000',\n",
       "       '2022-05-11T00:00:00.000000000', '2022-04-11T00:00:00.000000000',\n",
       "       '2022-10-30T00:00:00.000000000', '2022-10-29T00:00:00.000000000',\n",
       "       '2022-10-28T00:00:00.000000000', '2022-10-27T00:00:00.000000000',\n",
       "       '2022-10-26T00:00:00.000000000', '2022-10-25T00:00:00.000000000',\n",
       "       '2022-10-24T00:00:00.000000000', '2022-10-23T00:00:00.000000000',\n",
       "       '2022-10-22T00:00:00.000000000', '2022-10-21T00:00:00.000000000',\n",
       "       '2022-10-20T00:00:00.000000000', '2022-10-19T00:00:00.000000000',\n",
       "       '2022-10-18T00:00:00.000000000', '2022-10-16T00:00:00.000000000',\n",
       "       '2022-10-15T00:00:00.000000000', '2022-09-10T00:00:00.000000000',\n",
       "       '2022-08-10T00:00:00.000000000', '2022-06-10T00:00:00.000000000',\n",
       "       '2022-04-10T00:00:00.000000000', '2022-09-25T00:00:00.000000000',\n",
       "       '2022-09-24T00:00:00.000000000', '2022-09-23T00:00:00.000000000',\n",
       "       '2022-09-22T00:00:00.000000000', '2022-09-21T00:00:00.000000000',\n",
       "       '2022-09-20T00:00:00.000000000', '2022-09-18T00:00:00.000000000',\n",
       "       '2022-09-17T00:00:00.000000000', '2022-09-16T00:00:00.000000000',\n",
       "       '2022-09-15T00:00:00.000000000', '2022-09-14T00:00:00.000000000',\n",
       "       '2022-09-13T00:00:00.000000000', '2022-11-09T00:00:00.000000000',\n",
       "       '2022-10-09T00:00:00.000000000', '2022-09-09T00:00:00.000000000',\n",
       "       '2022-08-09T00:00:00.000000000', '2022-07-09T00:00:00.000000000',\n",
       "       '2022-06-09T00:00:00.000000000', '2022-04-09T00:00:00.000000000',\n",
       "       '2022-08-31T00:00:00.000000000', '2022-08-30T00:00:00.000000000',\n",
       "       '2022-08-28T00:00:00.000000000', '2022-08-27T00:00:00.000000000',\n",
       "       '2022-08-26T00:00:00.000000000', '2022-08-25T00:00:00.000000000',\n",
       "       '2022-08-24T00:00:00.000000000', '2022-08-23T00:00:00.000000000',\n",
       "       '2022-08-21T00:00:00.000000000', '2022-08-20T00:00:00.000000000',\n",
       "       '2022-08-19T00:00:00.000000000', '2022-08-18T00:00:00.000000000',\n",
       "       '2022-08-17T00:00:00.000000000', '2022-08-16T00:00:00.000000000',\n",
       "       '2022-08-14T00:00:00.000000000', '2022-08-13T00:00:00.000000000',\n",
       "       '2022-12-08T00:00:00.000000000', '2022-11-08T00:00:00.000000000',\n",
       "       '2022-10-08T00:00:00.000000000', '2022-09-08T00:00:00.000000000',\n",
       "       '2022-07-08T00:00:00.000000000', '2022-06-08T00:00:00.000000000',\n",
       "       '2022-05-08T00:00:00.000000000', '2022-04-08T00:00:00.000000000',\n",
       "       '2022-07-31T00:00:00.000000000', '2022-07-30T00:00:00.000000000',\n",
       "       '2022-07-29T00:00:00.000000000', '2022-07-28T00:00:00.000000000',\n",
       "       '2022-07-27T00:00:00.000000000', '2022-07-26T00:00:00.000000000',\n",
       "       '2022-07-24T00:00:00.000000000', '2022-07-23T00:00:00.000000000',\n",
       "       '2022-07-22T00:00:00.000000000', '2022-07-21T00:00:00.000000000',\n",
       "       '2022-07-20T00:00:00.000000000', '2022-07-19T00:00:00.000000000',\n",
       "       '2022-07-17T00:00:00.000000000', '2022-07-16T00:00:00.000000000',\n",
       "       '2022-07-15T00:00:00.000000000', '2022-07-14T00:00:00.000000000',\n",
       "       '2022-07-13T00:00:00.000000000', '2022-12-07T00:00:00.000000000',\n",
       "       '2022-11-07T00:00:00.000000000', '2022-10-07T00:00:00.000000000',\n",
       "       '2022-09-07T00:00:00.000000000', '2022-08-07T00:00:00.000000000',\n",
       "       '2022-07-07T00:00:00.000000000', '2022-06-07T00:00:00.000000000',\n",
       "       '2022-05-07T00:00:00.000000000', '2022-06-26T00:00:00.000000000',\n",
       "       '2022-06-25T00:00:00.000000000', '2022-06-24T00:00:00.000000000',\n",
       "       '2022-06-23T00:00:00.000000000', '2022-06-22T00:00:00.000000000',\n",
       "       '2022-06-21T00:00:00.000000000', '2022-06-19T00:00:00.000000000',\n",
       "       '2022-06-18T00:00:00.000000000', '2022-06-17T00:00:00.000000000',\n",
       "       '2022-06-16T00:00:00.000000000', '2022-06-15T00:00:00.000000000',\n",
       "       '2022-06-14T00:00:00.000000000', '2022-12-06T00:00:00.000000000',\n",
       "       '2022-11-06T00:00:00.000000000', '2022-10-06T00:00:00.000000000',\n",
       "       '2022-09-06T00:00:00.000000000', '2022-08-06T00:00:00.000000000',\n",
       "       '2022-07-06T00:00:00.000000000', '2022-05-06T00:00:00.000000000',\n",
       "       '2022-04-06T00:00:00.000000000', '2022-05-31T00:00:00.000000000',\n",
       "       '2022-05-29T00:00:00.000000000', '2022-05-28T00:00:00.000000000',\n",
       "       '2022-05-27T00:00:00.000000000', '2022-05-26T00:00:00.000000000',\n",
       "       '2022-05-25T00:00:00.000000000', '2022-05-24T00:00:00.000000000',\n",
       "       '2022-05-22T00:00:00.000000000', '2022-05-21T00:00:00.000000000',\n",
       "       '2022-05-20T00:00:00.000000000', '2022-05-19T00:00:00.000000000',\n",
       "       '2022-05-18T00:00:00.000000000', '2022-05-17T00:00:00.000000000',\n",
       "       '2022-05-16T00:00:00.000000000', '2022-05-15T00:00:00.000000000',\n",
       "       '2022-05-14T00:00:00.000000000', '2022-05-13T00:00:00.000000000',\n",
       "       '2022-12-05T00:00:00.000000000', '2022-11-05T00:00:00.000000000',\n",
       "       '2022-10-05T00:00:00.000000000', '2022-08-05T00:00:00.000000000',\n",
       "       '2022-07-05T00:00:00.000000000', '2022-06-05T00:00:00.000000000',\n",
       "       '2022-04-05T00:00:00.000000000', '2022-04-30T00:00:00.000000000',\n",
       "       '2022-04-29T00:00:00.000000000', '2022-04-28T00:00:00.000000000',\n",
       "       '2022-04-27T00:00:00.000000000', '2022-04-26T00:00:00.000000000',\n",
       "       '2022-04-24T00:00:00.000000000', '2022-04-23T00:00:00.000000000',\n",
       "       '2022-04-22T00:00:00.000000000', '2022-04-21T00:00:00.000000000',\n",
       "       '2022-04-20T00:00:00.000000000', '2022-04-19T00:00:00.000000000',\n",
       "       '2022-04-17T00:00:00.000000000', '2022-04-16T00:00:00.000000000',\n",
       "       '2022-04-15T00:00:00.000000000', '2022-04-14T00:00:00.000000000',\n",
       "       '2022-04-13T00:00:00.000000000', '2022-12-04T00:00:00.000000000',\n",
       "       '2022-10-04T00:00:00.000000000', '2022-09-04T00:00:00.000000000',\n",
       "       '2022-08-04T00:00:00.000000000', '2022-07-04T00:00:00.000000000',\n",
       "       '2022-06-04T00:00:00.000000000', '2022-05-04T00:00:00.000000000',\n",
       "       '2022-12-02T00:00:00.000000000', '2022-11-02T00:00:00.000000000',\n",
       "       '2022-10-02T00:00:00.000000000', '2022-09-02T00:00:00.000000000',\n",
       "       '2022-08-02T00:00:00.000000000', '2022-07-02T00:00:00.000000000',\n",
       "       '2022-12-01T00:00:00.000000000', '2022-11-01T00:00:00.000000000',\n",
       "       '2022-10-01T00:00:00.000000000', '2022-09-01T00:00:00.000000000',\n",
       "       '2022-08-01T00:00:00.000000000', '2022-07-01T00:00:00.000000000',\n",
       "       '2022-06-01T00:00:00.000000000', '2022-05-01T00:00:00.000000000',\n",
       "       '2022-04-01T00:00:00.000000000'], dtype='datetime64[ns]')"
      ]
     },
     "execution_count": 6,
     "metadata": {},
     "output_type": "execute_result"
    }
   ],
   "source": [
    "cleaned_data['Date'].unique()"
   ]
  },
  {
   "cell_type": "markdown",
   "id": "6ed9aea7",
   "metadata": {},
   "source": [
    "At this point in the data cleaning, all entries that are before April and After December 2022 are removed. Now we need to move forward to remove all data entries that coincide with Monday, as Monday are outlier values that may skew the data (given that the shop is not open on all Mondays"
   ]
  },
  {
   "cell_type": "code",
   "execution_count": 7,
   "id": "4c8d8c26",
   "metadata": {},
   "outputs": [],
   "source": [
    "cleaned_data = cleaned_data[cleaned_data['day_week'] != \"Monday\"]"
   ]
  },
  {
   "cell_type": "code",
   "execution_count": 8,
   "id": "c46a369e",
   "metadata": {},
   "outputs": [
    {
     "data": {
      "text/plain": [
       "Sunday       992\n",
       "Saturday     991\n",
       "Friday       702\n",
       "Wednesday    684\n",
       "Tuesday      589\n",
       "Thursday     480\n",
       "Name: day_week, dtype: int64"
      ]
     },
     "execution_count": 8,
     "metadata": {},
     "output_type": "execute_result"
    }
   ],
   "source": [
    "cleaned_data['day_week'].value_counts()"
   ]
  },
  {
   "cell_type": "code",
   "execution_count": 9,
   "id": "45052f5c",
   "metadata": {},
   "outputs": [
    {
     "data": {
      "text/plain": [
       "(4438, 34)"
      ]
     },
     "execution_count": 9,
     "metadata": {},
     "output_type": "execute_result"
    }
   ],
   "source": [
    "cleaned_data.shape"
   ]
  },
  {
   "cell_type": "code",
   "execution_count": 10,
   "id": "4f140d5f",
   "metadata": {},
   "outputs": [
    {
     "data": {
      "text/plain": [
       "(202, 34)"
      ]
     },
     "execution_count": 10,
     "metadata": {},
     "output_type": "execute_result"
    }
   ],
   "source": [
    "cleaned_data[(cleaned_data['Client name'] == \"Amz\") | \\\n",
    "            (cleaned_data[\"Client name\"] == \"Aisyah Zainalabidin\")].shape"
   ]
  },
  {
   "cell_type": "markdown",
   "id": "36990342",
   "metadata": {},
   "source": [
    "Above, we have ascertained that Amz and Aisyah have entered a total of 202 entries out of 4438. We need to remove these entries because these entries are unable to reflect the specific customer that they have entered these entries on behalf of, and also because these are done with superadmin rights they are able to book more than a 1 hour slot at a time so these might skew the results"
   ]
  },
  {
   "cell_type": "code",
   "execution_count": 11,
   "id": "0f627027",
   "metadata": {},
   "outputs": [],
   "source": [
    "cleaned_data = cleaned_data[(cleaned_data['Client name'] != \"Amz\") \\\n",
    "                           & (cleaned_data['Client name'] != \"Aisyah Zainalabidin\")]"
   ]
  },
  {
   "cell_type": "code",
   "execution_count": 12,
   "id": "cc066e76",
   "metadata": {},
   "outputs": [
    {
     "data": {
      "text/plain": [
       "(4236, 34)"
      ]
     },
     "execution_count": 12,
     "metadata": {},
     "output_type": "execute_result"
    }
   ],
   "source": [
    "cleaned_data.shape"
   ]
  },
  {
   "cell_type": "markdown",
   "id": "b9c7a670",
   "metadata": {},
   "source": [
    "Because **4438 - 202 = 4236** we can know ascertain that all entries by **Amz** and **Aisyah Zainaladbidin** have been removed. As the dataset also includes cancelled classes, we should be removing them from the dataset."
   ]
  },
  {
   "cell_type": "code",
   "execution_count": 13,
   "id": "eebf455f",
   "metadata": {},
   "outputs": [
    {
     "data": {
      "text/plain": [
       "(833, 34)"
      ]
     },
     "execution_count": 13,
     "metadata": {},
     "output_type": "execute_result"
    }
   ],
   "source": [
    "cleaned_data[cleaned_data['Is cancelled'] == \"Yes\"].shape"
   ]
  },
  {
   "cell_type": "code",
   "execution_count": 14,
   "id": "d943c19d",
   "metadata": {},
   "outputs": [
    {
     "data": {
      "text/plain": [
       "(3403, 34)"
      ]
     },
     "execution_count": 14,
     "metadata": {},
     "output_type": "execute_result"
    }
   ],
   "source": [
    "cleaned_data = cleaned_data[cleaned_data['Is cancelled'] != \"Yes\"]\n",
    "cleaned_data.shape"
   ]
  },
  {
   "cell_type": "markdown",
   "id": "4831170f",
   "metadata": {},
   "source": [
    "All remaining entries are now entries that are uncancelled and were carried out during the time of study."
   ]
  },
  {
   "cell_type": "markdown",
   "id": "2d1f3b4c",
   "metadata": {},
   "source": [
    "# Exploration of Customer Profiles "
   ]
  },
  {
   "cell_type": "code",
   "execution_count": 15,
   "id": "fe8be777",
   "metadata": {
    "scrolled": true
   },
   "outputs": [
    {
     "data": {
      "text/plain": [
       "count    411.000000\n",
       "mean       8.250608\n",
       "std       13.482888\n",
       "min        1.000000\n",
       "25%        1.000000\n",
       "50%        3.000000\n",
       "75%       10.000000\n",
       "max      100.000000\n",
       "Name: Client name, dtype: float64"
      ]
     },
     "execution_count": 15,
     "metadata": {},
     "output_type": "execute_result"
    }
   ],
   "source": [
    "cleaned_data['Client name'].value_counts().describe()"
   ]
  },
  {
   "cell_type": "markdown",
   "id": "a8d03ebe",
   "metadata": {},
   "source": [
    "According to the cleaned dataset, 411 unique customers had sent their children to the facility between April and December 2022. \n",
    "\n",
    "From the months of April to December 2022, the average customer send their child to the facility 8.25 hours across 9 Months, translating to slightly less than 1 hour per month. There might be a few factors that are skewing the data \n",
    "\n",
    "* Since the business only started proper in April, it could be that the mean would start changing across months. We will look into this later \n",
    "\n",
    "* Outliers on the high end might be skewing the data, since the maximum count is 100 hours across the months of April to December 2022. \n",
    "\n",
    "We will now move to study \n",
    "\n",
    "* Top Customers across April to December\n",
    "* Trends of unique customer counts across months, to ascertain whether unique customer count is growing"
   ]
  },
  {
   "cell_type": "markdown",
   "id": "010eb886",
   "metadata": {},
   "source": [
    "# Exploration of Top Customers\n"
   ]
  },
  {
   "cell_type": "code",
   "execution_count": 16,
   "id": "33a20940",
   "metadata": {
    "scrolled": true
   },
   "outputs": [
    {
     "data": {
      "text/plain": [
       "Andrea Chong            0.029490\n",
       "Kimberly Wong           0.029490\n",
       "Jeffrey Francisco       0.022117\n",
       "Melissa Burgess         0.021822\n",
       "Shirlynn Lukey          0.020348\n",
       "Scarlet Li              0.020348\n",
       "Selene Cheng            0.020348\n",
       "Gabriella Oey           0.017989\n",
       "Amanda Rabot            0.016514\n",
       "Laura Tromans           0.015925\n",
       "Aude Giraud             0.013860\n",
       "Vivienne Tan            0.013565\n",
       "Kah nan Khoo            0.012976\n",
       "Lynn Soh                0.012681\n",
       "Melissa-Anne Bheem      0.011796\n",
       "Petrina Soh             0.010911\n",
       "Jessica Tse             0.010616\n",
       "Jacintha Plantenberg    0.010321\n",
       "Celine Trinh            0.010027\n",
       "Jaime Zhong             0.010027\n",
       "Name: Client name, dtype: float64"
      ]
     },
     "execution_count": 16,
     "metadata": {},
     "output_type": "execute_result"
    }
   ],
   "source": [
    "cleaned_data['Client name'].value_counts(normalize = True).sort_values(ascending = False).head(20)"
   ]
  },
  {
   "cell_type": "code",
   "execution_count": 17,
   "id": "8c66b595",
   "metadata": {},
   "outputs": [
    {
     "data": {
      "text/plain": [
       "Andrea Chong            100\n",
       "Kimberly Wong           100\n",
       "Jeffrey Francisco        75\n",
       "Melissa Burgess          74\n",
       "Shirlynn Lukey           69\n",
       "Scarlet Li               69\n",
       "Selene Cheng             69\n",
       "Gabriella Oey            61\n",
       "Amanda Rabot             56\n",
       "Laura Tromans            54\n",
       "Aude Giraud              47\n",
       "Vivienne Tan             46\n",
       "Kah nan Khoo             44\n",
       "Lynn Soh                 43\n",
       "Melissa-Anne Bheem       40\n",
       "Petrina Soh              37\n",
       "Jessica Tse              36\n",
       "Jacintha Plantenberg     35\n",
       "Celine Trinh             34\n",
       "Jaime Zhong              34\n",
       "Name: Client name, dtype: int64"
      ]
     },
     "execution_count": 17,
     "metadata": {},
     "output_type": "execute_result"
    }
   ],
   "source": [
    "cleaned_data['Client name'].value_counts().sort_values(ascending = False).head(20)"
   ]
  },
  {
   "cell_type": "markdown",
   "id": "cb242ec8",
   "metadata": {},
   "source": [
    "The top 20 customers from April to December 2022 are shown above. Of note, **Andrea Chong** - who has a certain amount of noteriety, has sent her child to the facility for 100 recorded hours from April to December. She and Kimberly Wong each make up approximately 3% of the billed hours during the time span of this study. \n",
    "\n",
    "**Possible Recommendations:**\n",
    "* Exploration of working with Andrea to be an ambassador for the facility, perhaps doing something in kind on a Monday specifically for a party for her kid (or something along that line) in exchange for social media coverage\n",
    "* Special thank you notes to the top (x) number of customers to be sent out or referral deals could be worked out with these parents who would definitely be great ambassadors for the facility"
   ]
  },
  {
   "cell_type": "code",
   "execution_count": 18,
   "id": "9e985a4c",
   "metadata": {},
   "outputs": [
    {
     "name": "stdout",
     "output_type": "stream",
     "text": [
      "Sophia Koh       1\n",
      "Jaclyn chow      1\n",
      "Merdin Yeoh      1\n",
      "Keh Hong Wei     1\n",
      "Rykiel Lun       1\n",
      "                ..\n",
      "Zoey             1\n",
      "Rhea Ong         1\n",
      "Charmayne Neo    1\n",
      "Namirah Naser    1\n",
      "Ming Xiu Koh     1\n",
      "Name: Client name, Length: 118, dtype: int64\n"
     ]
    }
   ],
   "source": [
    "before_dec = cleaned_data[cleaned_data['Date'] < '2022/12/1']['Client name'].value_counts()\n",
    "print(before_dec[before_dec == 1])"
   ]
  },
  {
   "cell_type": "code",
   "execution_count": 19,
   "id": "3860d357",
   "metadata": {},
   "outputs": [],
   "source": [
    "non_return = before_dec[before_dec == 1].index\n",
    "december_customers = cleaned_data[cleaned_data['Date'] >= '2022/12/1']['Client name'].value_counts().index"
   ]
  },
  {
   "cell_type": "code",
   "execution_count": 20,
   "id": "378f0131",
   "metadata": {},
   "outputs": [
    {
     "name": "stdout",
     "output_type": "stream",
     "text": [
      "Sophia Koh\n",
      "Jaclyn chow\n",
      "Merdin Yeoh\n",
      "Keh Hong Wei\n",
      "Rykiel Lun\n",
      "Danielle\n",
      "Sephine Goh\n",
      "Varun Sajwan\n",
      "Michael chui\n",
      "Steph\n",
      "Sharon Lim\n",
      "Amanda Björk\n",
      "Audrey\n",
      "Tan Wei Ling\n",
      "Lynn Han\n",
      "Jialin\n",
      "Jeanne Lim\n",
      "Tan wan ting\n",
      "Charlene Er\n",
      "Jiaying\n",
      "Cheryl Heng\n",
      "Cheryl Lee\n",
      "Ris Nurul\n",
      "KM TohKammui\n",
      "Denise Tan\n",
      "Pelecia\n",
      "Pan Ju Khuan\n",
      "Emilah\n",
      "Michelle Tan\n",
      "Huilyung Lee\n",
      "Jay\n",
      "Lim Hwee Ying\n",
      "Apple Ho\n",
      "Sophia Ng\n",
      "Joachim Liu\n",
      "Marouen Zelleg\n",
      "Audrey Thiam\n",
      "Phyllis\n",
      "Valerie Kuek\n",
      "Evelyn Peng\n",
      "Timothy\n",
      "Shane Tan\n",
      "Peiwen Soh\n",
      "Carmen Low\n",
      "Bernice Zhang\n",
      "Koh Teik Ling\n",
      "Ann Loh\n",
      "Christabel Tan\n",
      "Rina\n",
      "NG KAI MING MELVIN\n",
      "Bee leng\n",
      "Sapna ganglani\n",
      "Huang Xin\n",
      "Jerline\n",
      "Vanathi Eliora Ray\n",
      "Geraldine John\n",
      "Tan Weizhao\n",
      "Xin Jie\n",
      "Elizabeth Quek\n",
      "Emma\n",
      "Sky Kang\n",
      "Jazreel Lim\n",
      "Rouba Kouwatli\n",
      "Yumee\n",
      "Chloe Dunn-Lee\n",
      "Wendy How\n",
      "Stephanie Teo\n",
      "Sarah Ho\n",
      "Carine Liew\n",
      "Connie Lee\n",
      "Reina\n",
      "Rachel Wu\n",
      "Lily Phoa\n",
      "RFI Iskandar\n",
      "Neo Xian Zhen\n",
      "Ankita Varma\n",
      "Jeffrey Ng\n",
      "yingyi yeo\n",
      "Siyun\n",
      "Idy Chan\n",
      "Hui Cao\n",
      "Magdalene Goh\n",
      "Kush\n",
      "Huda Hanapiah\n",
      "FOO WEE YEN\n",
      "Grace Ng\n",
      "Joys Tan\n",
      "Zejun\n",
      "SYIKIN SHARIFF\n",
      "Valerie\n",
      "Eunice Png Jiamin\n",
      "Paul Leong\n",
      "Toby Henderson\n",
      "Chern Hui Soh\n",
      "Tze Lin Kwet\n",
      "jessica\n",
      "Lea Solimine\n",
      "Anastasia\n",
      "Lim Nyuk Khim\n",
      "Chang Yee Ling\n",
      "Gretchen Moore\n",
      "Joanna Tan\n",
      "Stacey Goh\n",
      "Daryl Boey\n",
      "CHEN YAHUEI\n",
      "Diane NG\n",
      "Liz Khoo\n",
      "Zoey\n",
      "Rhea Ong\n",
      "Namirah Naser\n",
      "Ming Xiu Koh\n",
      "number of customers who did not return: 111\n"
     ]
    }
   ],
   "source": [
    "non_return_list = []\n",
    "for name in non_return:\n",
    "    if name not in december_customers:\n",
    "        non_return_list.append(name)\n",
    "for name in non_return_list:\n",
    "    print(name)\n",
    "print(\"number of customers who did not return:\", len(non_return_list))"
   ]
  },
  {
   "cell_type": "markdown",
   "id": "a54a8f0b",
   "metadata": {},
   "source": [
    "# Non-Returning Customers \n",
    "From customers who had sent their children to the facility between April and November 2022, there were 111 customers in total who did not return by December 2022, which means that conversion rate for the facility for first time customers is standing at about 80%\n",
    "\n",
    "Certain possibilities could be contributing to this \n",
    "\n",
    "* Parents might be sending their children for initial trials, and for whatever reason, they might find that it's not for them\n",
    "* Some of these customers could have come in the early days of the business, where business operations may not have been as smooth yet\n",
    "\n",
    "**Possible Recommendations**\n",
    "* Since customer data has email records, it is possible to reach out to these customers to find out why they did not return, and possibly convince them to give the facility another chance. While painful to deal with, knowing that you have customers who are not returning and communicating with them might be a good way to get client feedback as to why for these customers in their minds there is not a product market fit\n",
    "\n",
    "\n",
    "* Not all feedback needs to be taken into consideration, but it should be heard as it's valuable market intel. For example, some people might find price point to be prohibitive, but if the facility has made a business decision that the economics of its business model requires a certain price point then it should stick by that. That being said, to not ask these customers and find out reasons would be to have the business willingly have a potential blind spot "
   ]
  },
  {
   "cell_type": "code",
   "execution_count": 39,
   "id": "935beaa1",
   "metadata": {},
   "outputs": [
    {
     "data": {
      "text/plain": [
       "Sophia Koh              s_khf@hotmail.com\n",
       "Jaclyn chow             jaccies@gmail.com\n",
       "Merdin Yeoh          merdinyeoh@gmail.com\n",
       "Keh Hong Wei       vesperlillet@gmail.com\n",
       "Rykiel Lun             Lunsuann@gmail.com\n",
       "                           ...           \n",
       "Liz Khoo             lizzyissy@hotmail.sg\n",
       "Zoey                mailforzoey@gmail.com\n",
       "Rhea Ong              rhea_87@hotmail.com\n",
       "Namirah Naser    namirahnaser23@gmail.com\n",
       "Ming Xiu Koh         mingxiukoh@gmail.com\n",
       "Length: 111, dtype: object"
      ]
     },
     "execution_count": 39,
     "metadata": {},
     "output_type": "execute_result"
    }
   ],
   "source": [
    "email_dictionary = {}\n",
    "\n",
    "\n",
    "for name in non_return_list:\n",
    "    if name not in email_dictionary:\n",
    "        email_dictionary[name] = cleaned_data[cleaned_data['Client name'] == name] \\\n",
    "        ['Client email'].iloc[0]\n",
    "\n",
    "email_df = pd.Series(email_dictionary)\n",
    "email_df.head(111)"
   ]
  },
  {
   "cell_type": "code",
   "execution_count": 41,
   "id": "72f32a6f",
   "metadata": {},
   "outputs": [],
   "source": [
    "email_df.to_csv('email_list.csv')"
   ]
  }
 ],
 "metadata": {
  "kernelspec": {
   "display_name": "Python 3 (ipykernel)",
   "language": "python",
   "name": "python3"
  },
  "language_info": {
   "codemirror_mode": {
    "name": "ipython",
    "version": 3
   },
   "file_extension": ".py",
   "mimetype": "text/x-python",
   "name": "python",
   "nbconvert_exporter": "python",
   "pygments_lexer": "ipython3",
   "version": "3.9.13"
  }
 },
 "nbformat": 4,
 "nbformat_minor": 5
}
