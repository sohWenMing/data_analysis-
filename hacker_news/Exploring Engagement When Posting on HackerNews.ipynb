{
 "cells": [
  {
   "cell_type": "markdown",
   "id": "54c9e293",
   "metadata": {},
   "source": [
    "# Exploring Engagement When Posting on HackerNews\n",
    "\n",
    "This project deals with a dataset provided by [DataQuest](http://www.dataquest.io). The original data can be found [here](https://www.kaggle.com/hacker-news/hacker-news-posts) but the data that was worked on was filtered in the following manner  \n",
    "\n",
    "* All posts that did not receive comments were removed\n",
    "* random sample of approx 20,000 rows was used for the Dataquest dataset\n",
    "\n",
    "In this project, we explore two specific types of posts: \n",
    "* Posts where questions are asked to HackerNews\n",
    "* Posts where work/information is shown to readers of HackerNews\n",
    "\n",
    "to look for what engagement numbers are like. From there we make recommendations on which of the two posts get more engagements and based on time of posting what the best times to be posting these posts based on Singapore's time zone are\n"
   ]
  },
  {
   "cell_type": "code",
   "execution_count": 1,
   "id": "73a821e6",
   "metadata": {
    "scrolled": false
   },
   "outputs": [
    {
     "name": "stdout",
     "output_type": "stream",
     "text": [
      "['id', 'title', 'url', 'num_points', 'num_comments', 'author', 'created_at']\n",
      "['12224879', 'Interactive Dynamic Video', 'http://www.interactivedynamicvideo.com/', '386', '52', 'ne0phyte', '8/4/2016 11:52']\n",
      "['10975351', 'How to Use Open Source and Shut the Fuck Up at the Same Time', 'http://hueniverse.com/2016/01/26/how-to-use-open-source-and-shut-the-fuck-up-at-the-same-time/', '39', '10', 'josep2', '1/26/2016 19:30']\n",
      "['11964716', \"Florida DJs May Face Felony for April Fools' Water Joke\", 'http://www.thewire.com/entertainment/2013/04/florida-djs-april-fools-water-joke/63798/', '2', '1', 'vezycash', '6/23/2016 22:20']\n",
      "['11919867', 'Technology ventures: From Idea to Enterprise', 'https://www.amazon.com/Technology-Ventures-Enterprise-Thomas-Byers/dp/0073523429', '3', '1', 'hswarna', '6/17/2016 0:01']\n"
     ]
    }
   ],
   "source": [
    "file = open('hacker_news.csv')\n",
    "from csv import reader \n",
    "read_file = reader(file)\n",
    "hn = list(read_file)\n",
    "for row in hn[0:5]:\n",
    "    print(row)\n",
    "import datetime as dt"
   ]
  },
  {
   "cell_type": "markdown",
   "id": "2b5015d7",
   "metadata": {},
   "source": [
    "Here is the beginning of loading the file into list format, so we can start working with the csv file"
   ]
  },
  {
   "cell_type": "code",
   "execution_count": 2,
   "id": "1c4ee488",
   "metadata": {},
   "outputs": [
    {
     "name": "stdout",
     "output_type": "stream",
     "text": [
      "Interactive Dynamic Video\n",
      "How to Use Open Source and Shut the Fuck Up at the Same Time\n",
      "Florida DJs May Face Felony for April Fools' Water Joke\n",
      "Technology ventures: From Idea to Enterprise\n",
      "Note by Note: The Making of Steinway L1037 (2007)\n",
      "['id', 'title', 'url', 'num_points', 'num_comments', 'author', 'created_at']\n"
     ]
    }
   ],
   "source": [
    "header = hn[0]\n",
    "hn = hn[1:]\n",
    "for row in hn[:5]:\n",
    "    print(row[1])\n",
    "print(header)"
   ]
  },
  {
   "cell_type": "markdown",
   "id": "cd3cfd26",
   "metadata": {},
   "source": [
    "Above, we removed the header into it's own variable **header** and then we sliced off the header from the whole dataset - **hn**"
   ]
  },
  {
   "cell_type": "code",
   "execution_count": 3,
   "id": "6e66b548",
   "metadata": {
    "scrolled": true
   },
   "outputs": [
    {
     "name": "stdout",
     "output_type": "stream",
     "text": [
      "1744 1162 17194\n",
      "['12296411', 'Ask HN: How to improve my personal website?', '', '2', '6', 'ahmedbaracat', '8/16/2016 9:55']\n",
      "['10610020', 'Ask HN: Am I the only one outraged by Twitter shutting down share counts?', '', '28', '29', 'tkfx', '11/22/2015 13:43']\n",
      "['11610310', 'Ask HN: Aby recent changes to CSS that broke mobile?', '', '1', '1', 'polskibus', '5/2/2016 10:14']\n",
      "['12210105', 'Ask HN: Looking for Employee #3 How do I do it?', '', '1', '3', 'sph130', '8/2/2016 14:20']\n",
      "['10394168', 'Ask HN: Someone offered to buy my browser extension from me. What now?', '', '28', '17', 'roykolak', '10/15/2015 16:38']\n",
      "\n",
      "\n",
      "['10627194', 'Show HN: Wio Link  ESP8266 Based Web of Things Hardware Development Platform', 'https://iot.seeed.cc', '26', '22', 'kfihihc', '11/25/2015 14:03']\n",
      "['10646440', 'Show HN: Something pointless I made', 'http://dn.ht/picklecat/', '747', '102', 'dhotson', '11/29/2015 22:46']\n",
      "['11590768', 'Show HN: Shanhu.io, a programming playground powered by e8vm', 'https://shanhu.io', '1', '1', 'h8liu', '4/28/2016 18:05']\n",
      "['12178806', 'Show HN: Webscope  Easy way for web developers to communicate with Clients', 'http://webscopeapp.com', '3', '3', 'fastbrick', '7/28/2016 7:11']\n",
      "['10872799', 'Show HN: GeoScreenshot  Easily test Geo-IP based web pages', 'https://www.geoscreenshot.com/', '1', '9', 'kpsychwave', '1/9/2016 20:45']\n",
      "\n",
      "\n",
      "['12224879', 'Interactive Dynamic Video', 'http://www.interactivedynamicvideo.com/', '386', '52', 'ne0phyte', '8/4/2016 11:52']\n",
      "['10975351', 'How to Use Open Source and Shut the Fuck Up at the Same Time', 'http://hueniverse.com/2016/01/26/how-to-use-open-source-and-shut-the-fuck-up-at-the-same-time/', '39', '10', 'josep2', '1/26/2016 19:30']\n",
      "['11964716', \"Florida DJs May Face Felony for April Fools' Water Joke\", 'http://www.thewire.com/entertainment/2013/04/florida-djs-april-fools-water-joke/63798/', '2', '1', 'vezycash', '6/23/2016 22:20']\n",
      "['11919867', 'Technology ventures: From Idea to Enterprise', 'https://www.amazon.com/Technology-Ventures-Enterprise-Thomas-Byers/dp/0073523429', '3', '1', 'hswarna', '6/17/2016 0:01']\n",
      "['10301696', 'Note by Note: The Making of Steinway L1037 (2007)', 'http://www.nytimes.com/2007/11/07/movies/07stein.html?_r=0', '8', '2', 'walterbell', '9/30/2015 4:12']\n"
     ]
    }
   ],
   "source": [
    "ask_posts = []\n",
    "show_posts = []\n",
    "other_posts = []\n",
    "\n",
    "for row in hn:\n",
    "    string_lower = row[1].lower().strip()\n",
    "    if string_lower.startswith('ask hn'):\n",
    "        ask_posts.append(row)\n",
    "    elif string_lower.startswith('show hn'):\n",
    "        show_posts.append(row)\n",
    "    else:\n",
    "        other_posts.append(row)\n",
    "\n",
    "print(len(ask_posts), len(show_posts), len(other_posts))\n",
    "for row in ask_posts[:5]:\n",
    "    print(row)\n",
    "print('\\n')\n",
    "for row in show_posts[:5]:\n",
    "    print(row)\n",
    "print('\\n')\n",
    "for row in other_posts[:5]:\n",
    "    print(row)\n"
   ]
  },
  {
   "cell_type": "markdown",
   "id": "8a6c181f",
   "metadata": {},
   "source": [
    "Above, we've seperated all the posts into different lists : \n",
    "\n",
    "* ask_posts\n",
    "* show_posts\n",
    "* other posts \n",
    "\n",
    "Specifically, we are concerned with the **ask_posts** and **show_posts** lists because these are posts where posters are either asking hackernews questions or showing their work to hackernews specifically"
   ]
  },
  {
   "cell_type": "code",
   "execution_count": 4,
   "id": "3d3514ab",
   "metadata": {},
   "outputs": [
    {
     "name": "stdout",
     "output_type": "stream",
     "text": [
      "['0: id', '1: title', '2: url', '3: num_points', '4: num_comments', '5: author', '6: created_at']\n"
     ]
    }
   ],
   "source": [
    "counter = 0\n",
    "index_header = []\n",
    "for index in header: \n",
    "    index_header.append(str(counter) + ': ' + index)\n",
    "    counter += 1\n",
    "print(index_header)\n",
    "\n",
    "    "
   ]
  },
  {
   "cell_type": "markdown",
   "id": "e2a0036d",
   "metadata": {},
   "source": [
    "Working through the header, for easy reference for index of each column when working with dataset hn"
   ]
  },
  {
   "cell_type": "code",
   "execution_count": 5,
   "id": "c19730c2",
   "metadata": {},
   "outputs": [
    {
     "name": "stdout",
     "output_type": "stream",
     "text": [
      "average ask:14.038417431192661 average show: 10.31669535283993 average other:26.8730371059672\n"
     ]
    }
   ],
   "source": [
    "def get_average(list):\n",
    "    total_comments = 0\n",
    "    for row in list:\n",
    "        total_comments += int(row[4])\n",
    "    avr_comments = total_comments / len(list)\n",
    "    return avr_comments\n",
    "\n",
    "avg_ask = get_average(ask_posts)\n",
    "avg_show = get_average(show_posts)\n",
    "avg_other = get_average(other_posts)\n",
    "\n",
    "print(\"average ask:\" + str(avg_ask),\"average show: \" + str(avg_show),\"average other:\" + str(avg_other))"
   ]
  },
  {
   "cell_type": "markdown",
   "id": "4eda3c12",
   "metadata": {},
   "source": [
    "On average, we find that posts where posters are asking questions to hackernews get more comments. A possible reason could be that questions garner more interactions that posts where people are simply showing their work. However, both on average do not get more comments that other posts.\n",
    "\n",
    "Since we find that **ask posts** get more comments than show posts, we're now going to try to see if the timing of creation of the posts affects the number of comments"
   ]
  },
  {
   "cell_type": "code",
   "execution_count": 6,
   "id": "654854dd",
   "metadata": {},
   "outputs": [
    {
     "name": "stdout",
     "output_type": "stream",
     "text": [
      "8/16/2016 9:55\n",
      "<class 'str'>\n",
      "11/22/2015 13:43\n",
      "<class 'str'>\n",
      "5/2/2016 10:14\n",
      "<class 'str'>\n",
      "8/2/2016 14:20\n",
      "<class 'str'>\n",
      "10/15/2015 16:38\n",
      "<class 'str'>\n"
     ]
    }
   ],
   "source": [
    "for row in ask_posts[:5]:\n",
    "    print(row[6])\n",
    "    print(type(row[6]))"
   ]
  },
  {
   "cell_type": "code",
   "execution_count": 7,
   "id": "3ac779c2",
   "metadata": {},
   "outputs": [
    {
     "name": "stdout",
     "output_type": "stream",
     "text": [
      "<class 'datetime.datetime'>\n",
      "<class 'datetime.datetime'>\n"
     ]
    }
   ],
   "source": [
    "trial = dt.datetime.strptime(ask_posts[0][6], '%m/%d/%Y %H:%M')\n",
    "for row in ask_posts:\n",
    "    datetime = dt.datetime.strptime(row[6],'%m/%d/%Y %H:%M')\n",
    "    row[6] = datetime\n",
    "\n",
    "for row in ask_posts[:2]:\n",
    "    print(type(row[6]))\n"
   ]
  },
  {
   "cell_type": "markdown",
   "id": "fef0719b",
   "metadata": {},
   "source": [
    "Above, we've converted all the values in the 6th index of ask_posts from strings to datetime objects so they can be manipulated as such"
   ]
  },
  {
   "cell_type": "code",
   "execution_count": 8,
   "id": "f5dcebca",
   "metadata": {},
   "outputs": [],
   "source": [
    "\n",
    "ask_posts_by_hour = []\n",
    "for row in ask_posts:\n",
    "    ask_posts_by_hour.append(row)\n",
    "test_hour = dt.datetime.strftime(ask_posts[2][6], \"%H\")\n",
    "for row in ask_posts_by_hour:\n",
    "    hour = dt.datetime.strftime(row[6], \"%H\")\n",
    "    row[6] = hour\n",
    "    "
   ]
  },
  {
   "cell_type": "markdown",
   "id": "c626ebfa",
   "metadata": {},
   "source": [
    "At this point, we have a new list - **ask_posts_by_hour** at which index six will show the hour in which the post was created. to note, both the **num_comments(index 4)** and ** **hour created(index 6)** are strings, so we would have to work with the values as such"
   ]
  },
  {
   "cell_type": "code",
   "execution_count": 9,
   "id": "37cfcff1",
   "metadata": {},
   "outputs": [
    {
     "name": "stdout",
     "output_type": "stream",
     "text": [
      "6 <class 'str'> comments\n",
      "09 <class 'str'> hour created\n",
      "29 <class 'str'> comments\n",
      "13 <class 'str'> hour created\n",
      "1 <class 'str'> comments\n",
      "10 <class 'str'> hour created\n"
     ]
    }
   ],
   "source": [
    "for row in ask_posts_by_hour[:3]:\n",
    "    print(row[4], type(row[4]), \"comments\")\n",
    "    print(row[6], type(row[6]), 'hour created')"
   ]
  },
  {
   "cell_type": "code",
   "execution_count": 10,
   "id": "305384f9",
   "metadata": {},
   "outputs": [
    {
     "name": "stdout",
     "output_type": "stream",
     "text": [
      "{'09': [45, 251], '13': [85, 1253], '10': [59, 793], '14': [107, 1416], '16': [108, 1814], '23': [68, 543], '12': [73, 687], '17': [100, 1146], '15': [116, 4477], '21': [109, 1745], '20': [80, 1722], '02': [58, 1381], '18': [109, 1439], '03': [54, 421], '05': [46, 464], '19': [110, 1188], '01': [60, 683], '22': [71, 479], '08': [48, 492], '04': [47, 337], '00': [55, 447], '06': [44, 397], '07': [34, 267], '11': [58, 641]}\n"
     ]
    }
   ],
   "source": [
    "ask_row_dict = {}\n",
    "for row in ask_posts_by_hour:\n",
    "    if row[6] not in ask_row_dict:\n",
    "        ask_row_dict[row[6]] = [1, int(row[4])]\n",
    "    else:\n",
    "        ask_row_dict[row[6]][0] += 1\n",
    "        ask_row_dict[row[6]][1] += int(row[4])\n",
    "print(ask_row_dict)\n"
   ]
  },
  {
   "cell_type": "code",
   "execution_count": 11,
   "id": "894a1086",
   "metadata": {},
   "outputs": [
    {
     "name": "stdout",
     "output_type": "stream",
     "text": [
      "{'09': 5.58, '13': 14.74, '10': 13.44, '14': 13.23, '16': 16.8, '23': 7.99, '12': 9.41, '17': 11.46, '15': 38.59, '21': 16.01, '20': 21.52, '02': 23.81, '18': 13.2, '03': 7.8, '05': 10.09, '19': 10.8, '01': 11.38, '22': 6.75, '08': 10.25, '04': 7.17, '00': 8.13, '06': 9.02, '07': 7.85, '11': 11.05}\n"
     ]
    }
   ],
   "source": [
    "ask_row_avg = {}\n",
    "\n",
    "for key, value in ask_row_dict.items():\n",
    "        ask_row_avg[key] = round(value[1] / value[0], 2)\n",
    "print(ask_row_avg)"
   ]
  },
  {
   "cell_type": "code",
   "execution_count": 12,
   "id": "78680f1c",
   "metadata": {},
   "outputs": [
    {
     "name": "stdout",
     "output_type": "stream",
     "text": [
      "[['09', 5.58], ['13', 14.74], ['10', 13.44], ['14', 13.23], ['16', 16.8], ['23', 7.99], ['12', 9.41], ['17', 11.46], ['15', 38.59], ['21', 16.01], ['20', 21.52], ['02', 23.81], ['18', 13.2], ['03', 7.8], ['05', 10.09], ['19', 10.8], ['01', 11.38], ['22', 6.75], ['08', 10.25], ['04', 7.17], ['00', 8.13], ['06', 9.02], ['07', 7.85], ['11', 11.05]]\n"
     ]
    }
   ],
   "source": [
    "ask_row_avg_list = []\n",
    "for key, value in ask_row_avg.items():\n",
    "    ask_row_avg_list.append([key, value])\n",
    "print(ask_row_avg_list)"
   ]
  },
  {
   "cell_type": "code",
   "execution_count": 20,
   "id": "fb4a009b",
   "metadata": {},
   "outputs": [
    {
     "name": "stdout",
     "output_type": "stream",
     "text": [
      "Top 5 Hours for Ask Posts Comments\n",
      "15:00 - 38.59 comments per hour\n",
      "02:00 - 23.81 comments per hour\n",
      "20:00 - 21.52 comments per hour\n",
      "16:00 - 16.8 comments per hour\n",
      "21:00 - 16.01 comments per hour\n"
     ]
    }
   ],
   "source": [
    "ask_row_avg_swapped = []\n",
    "for row in ask_row_avg_list:\n",
    "    ask_row_avg_swapped.append([row[1], row[0]])\n",
    "ask_row_avg_sorted = sorted(ask_row_avg_swapped, reverse = True)\n",
    "print(\"Top 5 Hours for Ask Posts Comments\")\n",
    "for row in ask_row_avg_sorted[:5]:\n",
    "    date_time = dt.datetime.strptime(row[1], \"%H\")\n",
    "    hour = date_time.strftime('%H')\n",
    "    print(hour + ':' + \"00 -\", row[0], \"comments per hour\")\n"
   ]
  },
  {
   "cell_type": "markdown",
   "id": "5b9aea2c",
   "metadata": {},
   "source": [
    "based on the eastern time zone in the US, the above are the best hours to be posting Ask Posts to get maximum comments. As Singapore's time zone is 13 hours ahead of this, we need to do some recalculations to make this relevant to us\n"
   ]
  },
  {
   "cell_type": "code",
   "execution_count": 29,
   "id": "10c8da23",
   "metadata": {},
   "outputs": [
    {
     "name": "stdout",
     "output_type": "stream",
     "text": [
      "04:00 - 38.59 comments per hour\n",
      "15:00 - 23.81 comments per hour\n",
      "09:00 - 21.52 comments per hour\n",
      "05:00 - 16.8 comments per hour\n",
      "10:00 - 16.01 comments per hour\n"
     ]
    }
   ],
   "source": [
    "timedelta = dt.timedelta(hours = 13)\n",
    "for row in ask_row_avg_sorted[:5]:\n",
    "    date_time = dt.datetime.strptime(row[1], \"%H\")\n",
    "    date_time = date_time + timedelta\n",
    "    hour = date_time.strftime('%H')\n",
    "    print(hour + ':' + \"00 -\", row[0], \"comments per hour\")\n"
   ]
  },
  {
   "cell_type": "markdown",
   "id": "d7041981",
   "metadata": {},
   "source": [
    "After conversion to Singapore time, we find that the best times to post ask posts on Hackernews to get comment interactions based on the data are :\n",
    "* 2:00 am\n",
    "* 3:00 pm\n",
    "* 9:00 am\n",
    "* 4:00 am\n",
    "* 10:00 am\n",
    "\n",
    "In descending order. Thus our recommendations for Singaporeans who are looking to gain maximum engagement for their posts if posting ask posts would be to post during these times.\n",
    "\n"
   ]
  }
 ],
 "metadata": {
  "kernelspec": {
   "display_name": "Python 3 (ipykernel)",
   "language": "python",
   "name": "python3"
  },
  "language_info": {
   "codemirror_mode": {
    "name": "ipython",
    "version": 3
   },
   "file_extension": ".py",
   "mimetype": "text/x-python",
   "name": "python",
   "nbconvert_exporter": "python",
   "pygments_lexer": "ipython3",
   "version": "3.9.13"
  }
 },
 "nbformat": 4,
 "nbformat_minor": 5
}
