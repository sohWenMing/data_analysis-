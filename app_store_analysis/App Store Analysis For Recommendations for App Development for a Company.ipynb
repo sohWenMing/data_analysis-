{
 "cells": [
  {
   "cell_type": "markdown",
   "id": "e6ffa05a",
   "metadata": {},
   "source": [
    "# App Store Analysis \n",
    "This analysis is for a company that only build free to download apps where main revenue drivers are in-app ads. \\\n",
    "This means that we need to analyse what types of apps are more likely to attract users \n",
    "\n",
    "The datasets and documentation can be found here here: \n",
    "* [Apple App Store Data](https://www.kaggle.com/datasets/ramamet4/app-store-apple-data-set-10k-apps)\n",
    "* [Google Play Store Data](https://www.kaggle.com/datasets/lava18/google-play-store-apps)\n",
    "\n",
    "## Key Points\n",
    "**Free to Play**\n",
    "Since the company only uses free to download apps, the initial analysis cannot be taking into account the statistics from paid apps as this skews the data\n",
    "\n",
    "**Data Points Across Both Apple and Google that can be used and are relevant**\n",
    "* number of total downloads \n",
    "* ratings\n",
    "* size of file\n",
    "* content_rating\n",
    "* genres\n",
    "* language - we only want to be looking at apps that are targeted at English speaking clientele\n",
    "\n",
    "**Data Point Relevant to Only Apple \n",
    "* screenshots shown for display \n",
    "\n",
    "\n"
   ]
  },
  {
   "cell_type": "markdown",
   "id": "9c60de40",
   "metadata": {},
   "source": [
    "## Initial Exploration and Data Cleaning \n"
   ]
  },
  {
   "cell_type": "code",
   "execution_count": 1,
   "id": "38b3b64d",
   "metadata": {},
   "outputs": [],
   "source": [
    "def explore_data(dataset, start, end, rows_and_column = False):\n",
    "    dataset_slice = dataset[start:end]\n",
    "    for row in dataset_slice:\n",
    "        print(row)\n",
    "        print('\\n') ##this will print a new line in between rows \n",
    "    \n",
    "    if rows_and_column == True: \n",
    "        print('Number of rows: ', len(dataset))\n",
    "        print('Number of columns' , len(dataset[0]))"
   ]
  },
  {
   "cell_type": "markdown",
   "id": "6a2ed2d7",
   "metadata": {},
   "source": [
    "The *explore_data* function has 4 params\n",
    "* dataset - the dataset that has been opened that is to be explored \n",
    "* start - the beginning index *(or row)* of the slice of data being explored \n",
    "* end - the end index *(or row)* where the slice is being explored. Note that the end index is ***non inclusive***\n",
    "* rows_and_columns - optional param to print information about nos of rows and columns of dataset\n",
    "\n",
    "Below, we access the actual csv databases"
   ]
  },
  {
   "cell_type": "code",
   "execution_count": 2,
   "id": "6fd8f5cc",
   "metadata": {},
   "outputs": [],
   "source": [
    "opened_apple = open('/Users/wenmingsoh/desktop/datasets/AppleStore.csv', encoding = 'utf8')\n",
    "opened_google = open('/Users/wenmingsoh/desktop/datasets/googleplaystore.csv',encoding = 'utf8')\n",
    "from csv import reader \n",
    "read_apple = reader(opened_apple)\n",
    "read_google = reader(opened_google)\n",
    "apple_list =  list(read_apple)\n",
    "google_list = list(read_google)\n",
    "\n",
    "\n"
   ]
  },
  {
   "cell_type": "code",
   "execution_count": 3,
   "id": "fe99d1bf",
   "metadata": {},
   "outputs": [],
   "source": [
    "def check_row_length(dataset):\n",
    "    error = []\n",
    "    header = dataset[0]\n",
    "    for row in dataset:\n",
    "        if len(row) != len(header):\n",
    "            print(row)\n",
    "            print(dataset.index(row, 0, len(dataset)))\n",
    "            error.append(row)\n",
    "    if error == []:\n",
    "        print('No More Errors')"
   ]
  },
  {
   "cell_type": "markdown",
   "id": "ee108e9f",
   "metadata": {},
   "source": [
    "## Cleaning the Google Data "
   ]
  },
  {
   "cell_type": "code",
   "execution_count": 4,
   "id": "1db80504",
   "metadata": {},
   "outputs": [
    {
     "name": "stdout",
     "output_type": "stream",
     "text": [
      "['Life Made WI-Fi Touchscreen Photo Frame', '1.9', '19', '3.0M', '1,000+', 'Free', '0', 'Everyone', '', 'February 11, 2018', '1.0.19', '4.0 and up']\n",
      "10473\n"
     ]
    }
   ],
   "source": [
    "check_row_length(google_list)"
   ]
  },
  {
   "cell_type": "markdown",
   "id": "f766f516",
   "metadata": {},
   "source": [
    "In the code blocks above, we first created the **check_row_length** function to be see if there are rows that are a different length from the corresponding header of the dataset. \\\n",
    "\n",
    "Above we found that there was one wrong row in the google dataset. Below we will proceed to delete that row, and then run the function one more time \n"
   ]
  },
  {
   "cell_type": "code",
   "execution_count": 5,
   "id": "6fe342f6",
   "metadata": {},
   "outputs": [
    {
     "name": "stdout",
     "output_type": "stream",
     "text": [
      "No More Errors\n"
     ]
    }
   ],
   "source": [
    "del(google_list[10473])\n",
    "check_row_length(google_list)"
   ]
  },
  {
   "cell_type": "markdown",
   "id": "d872d94b",
   "metadata": {},
   "source": [
    "After deleting the erroneous row, and then running the **check_row_list** function one more time, we now find there are no more errors in *google_list*. Now we will do the same for *apple_list*"
   ]
  },
  {
   "cell_type": "code",
   "execution_count": 6,
   "id": "b81b757e",
   "metadata": {},
   "outputs": [
    {
     "name": "stdout",
     "output_type": "stream",
     "text": [
      "No More Errors\n"
     ]
    }
   ],
   "source": [
    "check_row_length(apple_list)"
   ]
  },
  {
   "cell_type": "code",
   "execution_count": 7,
   "id": "cf19a8fd",
   "metadata": {},
   "outputs": [],
   "source": [
    "def check_for_duplicates(dataset, index):\n",
    "    first_occurence = []\n",
    "    duplicate = []\n",
    "    for row in dataset[1:]:\n",
    "        if row[index] in first_occurence:\n",
    "            duplicate.append(row[index])\n",
    "        else: \n",
    "            first_occurence.append(row[index])\n",
    "    if duplicate == []:\n",
    "        print(\"No Duplicates\")\n",
    "    else:\n",
    "        print('Number of Duplicate Apps: ', len(duplicate))\n",
    "        print('Examples of Duplicate Apps', duplicate[:15])"
   ]
  },
  {
   "cell_type": "markdown",
   "id": "934b3020",
   "metadata": {},
   "source": [
    "The **check_for_duplicates** function is used to check through an index of a dataset. \\\n",
    "The *index* param is used to give flexibility in how the function is used, as the index for the name of the app in each dataset might be different"
   ]
  },
  {
   "cell_type": "markdown",
   "id": "5bad42f6",
   "metadata": {},
   "source": [
    "For the *apple_list* dataset, the name is under **'track_name'**, index [1]\n",
    "For the *google_list* dataset, the name is under **'App'**, index [0]"
   ]
  },
  {
   "cell_type": "code",
   "execution_count": 8,
   "id": "e3760bde",
   "metadata": {
    "scrolled": true
   },
   "outputs": [
    {
     "name": "stdout",
     "output_type": "stream",
     "text": [
      "Duplicates for Google List\n",
      "\n",
      "\n",
      "Number of Duplicate Apps:  1181\n",
      "Examples of Duplicate Apps ['Quick PDF Scanner + OCR FREE', 'Box', 'Google My Business', 'ZOOM Cloud Meetings', 'join.me - Simple Meetings', 'Box', 'Zenefits', 'Google Ads', 'Google My Business', 'Slack', 'FreshBooks Classic', 'Insightly CRM', 'QuickBooks Accounting: Invoicing & Expenses', 'HipChat - Chat Built for Teams', 'Xero Accounting Software']\n"
     ]
    }
   ],
   "source": [
    "print('Duplicates for Google List')\n",
    "print('\\n')\n",
    "check_for_duplicates(google_list, 0)"
   ]
  },
  {
   "cell_type": "markdown",
   "id": "677be87f",
   "metadata": {},
   "source": [
    "Above, we see that there are multiple instances of duplicates in the google list. We need to investigate why. Examining the **Slack** app :"
   ]
  },
  {
   "cell_type": "code",
   "execution_count": 9,
   "id": "5963f2eb",
   "metadata": {},
   "outputs": [
    {
     "name": "stdout",
     "output_type": "stream",
     "text": [
      "['Slack', 'BUSINESS', '4.4', '51507', 'Varies with device', '5,000,000+', 'Free', '0', 'Everyone', 'Business', 'August 2, 2018', 'Varies with device', 'Varies with device']\n",
      "['Slack', 'BUSINESS', '4.4', '51507', 'Varies with device', '5,000,000+', 'Free', '0', 'Everyone', 'Business', 'August 2, 2018', 'Varies with device', 'Varies with device']\n",
      "['Slack', 'BUSINESS', '4.4', '51510', 'Varies with device', '5,000,000+', 'Free', '0', 'Everyone', 'Business', 'August 2, 2018', 'Varies with device', 'Varies with device']\n"
     ]
    }
   ],
   "source": [
    "for row in google_list: \n",
    "    if row[0] == 'Slack':\n",
    "        print(row)"
   ]
  },
  {
   "cell_type": "markdown",
   "id": "d3d82dd7",
   "metadata": {},
   "source": [
    "We can see that the fourth index, index[3] has variances of number of user ratings. So the criterion for selecting the instance of each app that we use in our data analysis will be based on using the instance with the highest number of reviews (since that would be the most recent)"
   ]
  },
  {
   "cell_type": "code",
   "execution_count": 10,
   "id": "9be954f6",
   "metadata": {},
   "outputs": [],
   "source": [
    "google_app_and_ratings = {}\n",
    "app = ''\n",
    "for row in google_list[1:]:\n",
    "    app = row[0]\n",
    "    if row[0] not in google_app_and_ratings:\n",
    "        google_app_and_ratings[app] = int(row[3])\n",
    "    else: \n",
    "        if int(row[3]) > google_app_and_ratings[app]:\n",
    "            google_app_and_ratings[app] = int(row[3])\n",
    "            \n",
    "            "
   ]
  },
  {
   "cell_type": "code",
   "execution_count": 11,
   "id": "425be47a",
   "metadata": {},
   "outputs": [
    {
     "name": "stdout",
     "output_type": "stream",
     "text": [
      "google_app_and_ratings length: 9659\n",
      "Expected final outcome: 9659\n"
     ]
    }
   ],
   "source": [
    "print(\"google_app_and_ratings length:\",len(google_app_and_ratings))\n",
    "print(\"Expected final outcome:\", len(google_list[1:]) - 1181)"
   ]
  },
  {
   "cell_type": "markdown",
   "id": "d288b6a3",
   "metadata": {},
   "source": [
    "The initial check_for_duplicates function which was run on the google_list showed that there were 1181 duplicates. So now we know that the dictionary google_app_and_ratings has the correct length"
   ]
  },
  {
   "cell_type": "code",
   "execution_count": 12,
   "id": "9fa81cca",
   "metadata": {},
   "outputs": [
    {
     "name": "stdout",
     "output_type": "stream",
     "text": [
      "9659\n",
      "[['Photo Editor & Candy Camera & Grid & ScrapBook', 'ART_AND_DESIGN', '4.1', '159', '19M', '10,000+', 'Free', '0', 'Everyone', 'Art & Design', 'January 7, 2018', '1.0.0', '4.0.3 and up'], ['U Launcher Lite – FREE Live Cool Themes, Hide Apps', 'ART_AND_DESIGN', '4.7', '87510', '8.7M', '5,000,000+', 'Free', '0', 'Everyone', 'Art & Design', 'August 1, 2018', '1.2.4', '4.0.3 and up']]\n"
     ]
    }
   ],
   "source": [
    "google_list_cleaned = []\n",
    "already_added = []\n",
    "for row in google_list[1:]:\n",
    "    app_name = row[0]\n",
    "    rating = row[3]\n",
    "    if google_app_and_ratings[app_name] == int(row[3]) and app_name not in already_added:\n",
    "        already_added.append(app_name)\n",
    "        google_list_cleaned.append(row)\n",
    "\n",
    "print(len(google_list_cleaned))\n",
    "print(google_list_cleaned[0:2])"
   ]
  },
  {
   "cell_type": "markdown",
   "id": "86b23905",
   "metadata": {},
   "source": [
    "From here, we can deduce that the number of entries in the list is correct. Now we just need to add the header, and then do one more check."
   ]
  },
  {
   "cell_type": "code",
   "execution_count": 13,
   "id": "7ddce1ae",
   "metadata": {
    "scrolled": true
   },
   "outputs": [
    {
     "name": "stdout",
     "output_type": "stream",
     "text": [
      "9660\n",
      "[['App', 'Category', 'Rating', 'Reviews', 'Size', 'Installs', 'Type', 'Price', 'Content Rating', 'Genres', 'Last Updated', 'Current Ver', 'Android Ver'], ['Photo Editor & Candy Camera & Grid & ScrapBook', 'ART_AND_DESIGN', '4.1', '159', '19M', '10,000+', 'Free', '0', 'Everyone', 'Art & Design', 'January 7, 2018', '1.0.0', '4.0.3 and up'], ['U Launcher Lite – FREE Live Cool Themes, Hide Apps', 'ART_AND_DESIGN', '4.7', '87510', '8.7M', '5,000,000+', 'Free', '0', 'Everyone', 'Art & Design', 'August 1, 2018', '1.2.4', '4.0.3 and up']]\n"
     ]
    }
   ],
   "source": [
    "google_list_cleaned.insert(0, google_list[0])\n",
    "print(len(google_list_cleaned))\n",
    "print(google_list_cleaned[0:3])"
   ]
  },
  {
   "cell_type": "markdown",
   "id": "fcc65d69",
   "metadata": {},
   "source": [
    "## Cleaning the Apple Data "
   ]
  },
  {
   "cell_type": "markdown",
   "id": "b755ec6f",
   "metadata": {},
   "source": [
    "We now run the same initial proceses through the apple data, where we check the row length, and also check for duplicates. "
   ]
  },
  {
   "cell_type": "code",
   "execution_count": 14,
   "id": "d4542f3b",
   "metadata": {},
   "outputs": [
    {
     "name": "stdout",
     "output_type": "stream",
     "text": [
      "Duplicates for Apple List\n",
      "\n",
      "\n",
      "Number of Duplicate Apps:  2\n",
      "Examples of Duplicate Apps ['Mannequin Challenge', 'VR Roller Coaster']\n"
     ]
    }
   ],
   "source": [
    "print('Duplicates for Apple List')\n",
    "print('\\n')\n",
    "check_for_duplicates(apple_list, 1)"
   ]
  },
  {
   "cell_type": "code",
   "execution_count": 15,
   "id": "cf2129a6",
   "metadata": {
    "scrolled": true
   },
   "outputs": [
    {
     "name": "stdout",
     "output_type": "stream",
     "text": [
      "No More Errors\n"
     ]
    }
   ],
   "source": [
    "check_row_length(apple_list)"
   ]
  },
  {
   "cell_type": "markdown",
   "id": "bdfb2b7e",
   "metadata": {},
   "source": [
    "From here, we can see that the apple list has the correct row lengths, so we don't need to fix that. However, there seem to be duplicate apps. So let's examine why"
   ]
  },
  {
   "cell_type": "code",
   "execution_count": 16,
   "id": "32a95464",
   "metadata": {},
   "outputs": [
    {
     "name": "stdout",
     "output_type": "stream",
     "text": [
      "['1173990889', 'Mannequin Challenge', '109705216', 'USD', '0.0', '668', '87', '3.0', '3.0', '1.4', '9+', 'Games', '37', '4', '1', '1']\n",
      "['952877179', 'VR Roller Coaster', '169523200', 'USD', '0.0', '107', '102', '3.5', '3.5', '2.0.0', '4+', 'Games', '37', '5', '1', '1']\n",
      "['1178454060', 'Mannequin Challenge', '59572224', 'USD', '0.0', '105', '58', '4.0', '4.5', '1.0.1', '4+', 'Games', '38', '5', '1', '1']\n",
      "['1089824278', 'VR Roller Coaster', '240964608', 'USD', '0.0', '67', '44', '3.5', '4.0', '0.81', '4+', 'Games', '38', '0', '1', '1']\n"
     ]
    }
   ],
   "source": [
    "for row in apple_list: \n",
    "    if row[1] == \"Mannequin Challenge\" or row[1] == \"VR Roller Coaster\":\n",
    "        print(row)"
   ]
  },
  {
   "cell_type": "markdown",
   "id": "f31b3621",
   "metadata": {},
   "source": [
    "The sixth index (*or index[5]*) is the user count across all versions. Using the same logic, we should take it that the one with the highest user count should be the most recent version, and the one that we would keep"
   ]
  },
  {
   "cell_type": "code",
   "execution_count": 17,
   "id": "44c6e9b7",
   "metadata": {},
   "outputs": [],
   "source": [
    "mannequin_ratings = []\n",
    "vr_roller_coaster_ratings = []\n",
    "\n",
    "for row in apple_list:\n",
    "    if row[1] == \"Mannequin Challenge\":\n",
    "        mannequin_ratings.append(int(row[5]))\n",
    "    elif row[1] == \"VR Roller Coaster\":\n",
    "        vr_roller_coaster_ratings.append(int(row[5]))\n",
    "\n",
    "mannequin_min = min(mannequin_ratings)\n",
    "roller_coaster_min = min(vr_roller_coaster_ratings)\n",
    "\n",
    "for row in apple_list: \n",
    "    if row[1] == \"Mannequin Challenge\" and int(row[5]) == mannequin_min:\n",
    "        apple_list.remove(row)\n",
    "    elif row[1] == \"VR Roller Coaster\" and int(row[5]) == roller_coaster_min:\n",
    "        apple_list.remove(row)"
   ]
  },
  {
   "cell_type": "markdown",
   "id": "5472a21c",
   "metadata": {},
   "source": [
    "The above block code is executed to remove the duplicates with the lower count of ratings. Now we do one more check to ascertain accuracy."
   ]
  },
  {
   "cell_type": "code",
   "execution_count": 18,
   "id": "ab595e39",
   "metadata": {},
   "outputs": [
    {
     "name": "stdout",
     "output_type": "stream",
     "text": [
      "Duplicates for Apple List\n",
      "\n",
      "\n",
      "No Duplicates\n"
     ]
    }
   ],
   "source": [
    "print('Duplicates for Apple List')\n",
    "print('\\n')\n",
    "check_for_duplicates(apple_list, 1)"
   ]
  },
  {
   "cell_type": "markdown",
   "id": "e147ab1e",
   "metadata": {},
   "source": [
    "Now we know there are no more duplicates in apple_list. To reiterate, now we will be working with the two datasets:\n",
    "\n",
    "* apple_list (still the same variable name as the initial list, but we've cleaned the data)\n",
    "* google_list_cleaned (the completely cleaned google_list) \n",
    "\n",
    "For the sake of uniformity, we will now make a new list called apple_list_cleaned"
   ]
  },
  {
   "cell_type": "code",
   "execution_count": 19,
   "id": "20b606b0",
   "metadata": {},
   "outputs": [
    {
     "name": "stdout",
     "output_type": "stream",
     "text": [
      "7196\n",
      "7196\n"
     ]
    }
   ],
   "source": [
    "apple_list_cleaned = []\n",
    "for row in apple_list:\n",
    "    apple_list_cleaned.append(row)\n",
    "    \n",
    "print(len(apple_list))\n",
    "print(len(apple_list_cleaned))"
   ]
  },
  {
   "cell_type": "markdown",
   "id": "e823a200",
   "metadata": {},
   "source": [
    "As the two rows *apple_list* and *apple_list_cleaned* have the same number of rows, we know everything has copied over correctly. From here on we will be working with:\n",
    "\n",
    "* apple_list_cleaned\n",
    "* google_list_cleaned \n",
    "\n",
    "Now we will go on to remove all paid apps from these lists\n",
    "\n",
    "## Removing Paid Apps from Apple Data"
   ]
  },
  {
   "cell_type": "code",
   "execution_count": 20,
   "id": "822e1c40",
   "metadata": {},
   "outputs": [
    {
     "name": "stdout",
     "output_type": "stream",
     "text": [
      "Number of Free Apple Apps expected to be removed:  3141\n",
      "Difference between apple_list_cleaned and apple_list_free: 3141\n"
     ]
    }
   ],
   "source": [
    "apple_list_free = []\n",
    "google_list_free = []\n",
    "\n",
    "def append_free(dataset, index, list_to_append):\n",
    "    list_to_append.append(dataset[0])\n",
    "    for row in dataset[1:]:\n",
    "        if float(row[index]) == 0.0:\n",
    "            row[index] = float(row[index])\n",
    "            list_to_append.append(row)\n",
    "            \n",
    "append_free(apple_list_cleaned, 4, apple_list_free)\n",
    "\n",
    "apple_count = 0\n",
    "for row in apple_list_cleaned[1:]:\n",
    "    if row[4] != float('0.0'):\n",
    "        apple_count += 1\n",
    "\n",
    "print('Number of Free Apple Apps expected to be removed: ', apple_count)\n",
    "print('Difference between apple_list_cleaned and apple_list_free:', \n",
    "     len(apple_list_cleaned) - len(apple_list_free))\n",
    "\n",
    "for row in apple_list_free[1:]:\n",
    "    if row[4] != 0.0:\n",
    "        print('Error')\n",
    "    \n"
   ]
  },
  {
   "cell_type": "markdown",
   "id": "b7032c21",
   "metadata": {},
   "source": [
    "Having already done a check on all datatypes for price in the apple apps, and done a correlation check of number of expected items to be removed, we can ascertain that *apple_list_free* now has all the free apps accounted for.\n",
    "\n",
    "## Removing Paid Apps from google_list_cleaned\n"
   ]
  },
  {
   "cell_type": "code",
   "execution_count": 21,
   "id": "149d57a9",
   "metadata": {},
   "outputs": [
    {
     "name": "stdout",
     "output_type": "stream",
     "text": [
      "Number of paid apps in google:  754\n",
      "Check: 754\n"
     ]
    }
   ],
   "source": [
    "for row in google_list_cleaned[1:]:\n",
    "    if row[7] == '0':\n",
    "        google_list_free.append(row)\n",
    "        \n",
    "google_count = 0 \n",
    "\n",
    "for row in google_list_cleaned[1:]:\n",
    "    if row[7] != '0':\n",
    "        google_count += 1\n",
    "        \n",
    "print(\"Number of paid apps in google: \", google_count)\n",
    "print(\"Check:\", len(google_list_cleaned) - len(google_list_free) -1 )\n",
    "\n",
    "        \n",
    "        \n",
    "        "
   ]
  },
  {
   "cell_type": "markdown",
   "id": "3bd981fc",
   "metadata": {},
   "source": [
    "## Checking for Language of App Using Unicode\n"
   ]
  },
  {
   "cell_type": "code",
   "execution_count": 22,
   "id": "e8fc0829",
   "metadata": {},
   "outputs": [],
   "source": [
    "def check_string(string):\n",
    "    counter = 0\n",
    "    for character in string:\n",
    "      if ord(character) > 127:\n",
    "        counter += 1\n",
    "    if counter >= 3:\n",
    "        return False\n",
    "    else:\n",
    "        return True \n",
    "    "
   ]
  },
  {
   "cell_type": "code",
   "execution_count": 23,
   "id": "0e4f7aef",
   "metadata": {},
   "outputs": [
    {
     "name": "stdout",
     "output_type": "stream",
     "text": [
      "False\n",
      "True\n",
      "True\n"
     ]
    }
   ],
   "source": [
    "print(check_string('爱奇艺PPS -《欢乐颂2》电视剧热播'))\n",
    "print(check_string('Instagram'))\n",
    "print(check_string('Docs To Go™ Free Office Suite'))"
   ]
  },
  {
   "cell_type": "markdown",
   "id": "82d4d1c7",
   "metadata": {},
   "source": [
    "The function above is built to run through all characters in a string - the filter is built to count the amount of unicode characters that are not in the native English language and will filter out any strings that have more than 3 unicode characters that have value greater than 127. This is to take into account certain peculiarities like emojis  "
   ]
  },
  {
   "cell_type": "code",
   "execution_count": 24,
   "id": "24a43d41",
   "metadata": {},
   "outputs": [
    {
     "name": "stdout",
     "output_type": "stream",
     "text": [
      "Truyện Vui Tý Quậy\n",
      "Flame - درب عقلك يوميا\n",
      "At home - rental · real estate · room finding application such as apartment · apartment\n",
      "乐屋网: Buying a house, selling a house, renting a house\n",
      "သိင်္ Astrology - Min Thein Kha BayDin\n"
     ]
    }
   ],
   "source": [
    "for row in google_list_free[:2000]:\n",
    "    check_english = check_string(row[0])\n",
    "    if check_english == False:\n",
    "        print(row[0])\n",
    "        "
   ]
  },
  {
   "cell_type": "code",
   "execution_count": 25,
   "id": "63ac470d",
   "metadata": {},
   "outputs": [
    {
     "name": "stdout",
     "output_type": "stream",
     "text": [
      "Cleaning Google Data\n",
      "----------\n",
      "Non English Apps Removed: 57\n",
      "Length of original dataset: 8905\n",
      "Length of dataset cleaned for non English apps 8848\n",
      "Difference in Entries: 57\n",
      "----------\n",
      "Cleaning Apple Data\n",
      "----------\n",
      "Non English Apps Removed: 853\n",
      "Length of original dataset: 4055\n",
      "Length of dataset cleaned for non English apps 3202\n",
      "Difference in Entries: 853\n",
      "----------\n"
     ]
    }
   ],
   "source": [
    "def remove_non_english(dataset, index, target_list):\n",
    "    data_cleaned = f'{dataset=}'.split('=')[0]\n",
    "    non_english_counter = 0\n",
    "    for row in dataset:\n",
    "        check_english = check_string(row[index])\n",
    "        if check_english == False:\n",
    "            non_english_counter += 1\n",
    "        if check_english == True:\n",
    "            target_list.append(row)\n",
    "    print('-' * 10)\n",
    "    print('Non English Apps Removed:', non_english_counter)\n",
    "    print('Length of original dataset:', len(dataset))\n",
    "    print('Length of dataset cleaned for non English apps', len(target_list))\n",
    "    print('Difference in Entries:', len(dataset) - len(target_list))\n",
    "    print('-' * 10)\n",
    "\n",
    "google_list_free_english = []\n",
    "apple_list_free_english = []\n",
    "\n",
    "print('Cleaning Google Data')\n",
    "remove_non_english(google_list_free, 0, google_list_free_english)\n",
    "print('Cleaning Apple Data')\n",
    "remove_non_english(apple_list_free, 1, apple_list_free_english)\n",
    "\n",
    "            "
   ]
  },
  {
   "cell_type": "code",
   "execution_count": 26,
   "id": "01f2e3fc",
   "metadata": {
    "scrolled": false
   },
   "outputs": [
    {
     "name": "stdout",
     "output_type": "stream",
     "text": [
      "['App', 'Category', 'Rating', 'Reviews', 'Size', 'Installs', 'Type', 'Price', 'Content Rating', 'Genres', 'Last Updated', 'Current Ver', 'Android Ver']\n",
      "[['App', 'Category', 'Rating', 'Reviews', 'Size', 'Installs', 'Type', 'Price', 'Content Rating', 'Genres', 'Last Updated', 'Current Ver', 'Android Ver'], ['Photo Editor & Candy Camera & Grid & ScrapBook', 'ART_AND_DESIGN', '4.1', '159', '19M', '10,000+', 'Free', 0.0, 'Everyone', 'Art & Design', 'January 7, 2018', '1.0.0', '4.0.3 and up']]\n",
      "[['id', 'track_name', 'size_bytes', 'currency', 'price', 'rating_count_tot', 'rating_count_ver', 'user_rating', 'user_rating_ver', 'ver', 'cont_rating', 'prime_genre', 'sup_devices.num', 'ipadSc_urls.num', 'lang.num', 'vpp_lic'], ['284882215', 'Facebook', '389879808', 'USD', 0.0, '2974676', '212', '3.5', '3.5', '95.0', '4+', 'Social Networking', '37', '1', '29', '1']]\n"
     ]
    }
   ],
   "source": [
    "for row in google_list_free_english: \n",
    "    row[7] = float(row[7])\n",
    "\n",
    "google_header = google_list_cleaned[0]\n",
    "print(google_header)\n",
    "\n",
    "google_list_free_english.insert(0, google_header)\n",
    "print(google_list_free_english[:2])\n",
    "print(apple_list_free_english[:2])\n",
    "        "
   ]
  },
  {
   "cell_type": "markdown",
   "id": "0540076b",
   "metadata": {},
   "source": [
    "we want to ensure that both lists have headers, and also that all prices have been converted to floats. \n",
    "\n",
    "At this point, we have cleaned the data for both the apple and google related data. The data should now take into account apps that are :\n",
    "\n",
    "* Only in English\n",
    "* Only Free\n",
    "\n",
    "As a final check, we run through the data in the cleaned lists, which will show errors if there are any apps that don't adhere to these conditions"
   ]
  },
  {
   "cell_type": "code",
   "execution_count": 27,
   "id": "01318e4b",
   "metadata": {
    "scrolled": true
   },
   "outputs": [
    {
     "name": "stdout",
     "output_type": "stream",
     "text": [
      "Checking Apple\n",
      "Non English Apps Found -  0\n",
      "Non Free Apps Found -  0\n",
      "Checking Google\n",
      "Non English Apps Found -  0\n",
      "Non Free Apps Found -  0\n"
     ]
    }
   ],
   "source": [
    "def check_errors(dataset, name_index, price_index):\n",
    "    non_english_count = 0\n",
    "    non_free_count = 0\n",
    "    for row in dataset:\n",
    "        name = row[name_index]\n",
    "        price = row[price_index]\n",
    "        if check_string(name) == False:\n",
    "            non_english_count += 1\n",
    "        if price != 0.0:\n",
    "            non_free_count += 1\n",
    "    print(\"Non English Apps Found - \", non_english_count)\n",
    "    print(\"Non Free Apps Found - \", non_free_count)\n",
    "\n",
    "print(\"Checking Apple\")\n",
    "check_errors(apple_list_free_english[1:], 1, 4)\n",
    "print(\"Checking Google\")\n",
    "check_errors(google_list_free_english[1:], 0, 7)\n",
    "        \n",
    "    "
   ]
  },
  {
   "cell_type": "markdown",
   "id": "d94af358",
   "metadata": {},
   "source": [
    "At this point , are working with:\n",
    "* apple_list_free_english\n",
    "* google_list_free_english\n",
    "\n",
    "From here, making an assumption that the company's strategy in building out new apps is :\n",
    "* Build a minimal Android version of the app, and add it to Google Play.\n",
    "* If the app has a good response from users, we develop it further.\n",
    "* If the app is profitable after six months, we build an iOS version of the app and add it to the App Store.\n",
    "\n",
    "Since the end goal is to have a profitable app on both google and apple, research has to be done with the end goal in mind so that the buildout of the app has a better chance of being successful in both markets. \n",
    "\n",
    "**Relevant Categories from Apple:**\n",
    "* rating_count-tot - User rating count for all versions\n",
    "* user_rating - average user rating for all versions \n",
    "* cont_rating - content(age) rating \n",
    "* prime_rating = primary genre\n",
    "\n",
    "**Relevant Categories from Google**\n",
    "* Rating - Overall User Rating of app (as when scraped)\n",
    "* Category - Main Category of app (like the main grouping on genres)\n",
    "* Reviews - number of user reviews \n",
    "* Content Rating - Age group where app is targeted at\n",
    "* *Genres - app can belong to multiple genres*\n",
    "\n",
    "\n"
   ]
  },
  {
   "cell_type": "code",
   "execution_count": 28,
   "id": "e6c0d293",
   "metadata": {},
   "outputs": [],
   "source": [
    "def freq_table(dataset, index):\n",
    "    result_table = {}\n",
    "    for row in dataset[1:]:\n",
    "        if row[index] not in result_table:\n",
    "            result_table[row[index]] = 1\n",
    "        else:\n",
    "            result_table[row[index]] += 1\n",
    "    return result_table\n",
    "\n",
    "def display_table(dataset, index):\n",
    "    table = freq_table(dataset, index)\n",
    "    display_table = []\n",
    "    for key in table:\n",
    "        key_val_as_tuple = (table[key], key)\n",
    "        display_table.append(key_val_as_tuple) \n",
    "        \n",
    "    table_sorted = sorted(display_table, reverse = True)\n",
    "    for entry in table_sorted:\n",
    "        print(entry[1], \" \", entry[0])\n"
   ]
  },
  {
   "cell_type": "markdown",
   "id": "751c577f",
   "metadata": {},
   "source": [
    "Two functions above \n",
    "**freq_table** - takes in a dataset and an index to create a dictionary that serves as a frequency table (number of occurences of the key in the key value pair occuring\n",
    "\n",
    "**display_table** - takes the table created by **freq_table** function, extracts each key value pair into a tuple where the value as the first value into a tuple and each tuple is stored in the list display table. \n",
    "> This is required because of the need to sort the table later in descending order of occurences of frequency, which the initial dictionary format of the freq_table doesn't allow us to do because the keys are not the value that we are using to sort the entries by \n",
    "\n",
    "Once the sorting is done through the *sorted()* function, the result is stored in table_sorted which is a list of tuples with index[0] being the number of times entry has occured\n",
    "Finally, the **display_table** function prints out index[1] then index index[0] of each list\n",
    "\n",
    "\n",
    "\n"
   ]
  },
  {
   "cell_type": "code",
   "execution_count": 29,
   "id": "62cd227d",
   "metadata": {},
   "outputs": [
    {
     "name": "stdout",
     "output_type": "stream",
     "text": [
      "Games   1864\n",
      "Entertainment   251\n",
      "Photo & Video   160\n",
      "Education   118\n",
      "Social Networking   106\n",
      "Shopping   83\n",
      "Utilities   79\n",
      "Sports   69\n",
      "Music   66\n",
      "Health & Fitness   65\n",
      "Productivity   56\n",
      "Lifestyle   50\n",
      "News   43\n",
      "Travel   40\n",
      "Finance   35\n",
      "Weather   28\n",
      "Food & Drink   26\n",
      "Reference   17\n",
      "Business   17\n",
      "Book   12\n",
      "Navigation   6\n",
      "Medical   6\n",
      "Catalogs   4\n"
     ]
    }
   ],
   "source": [
    "display_table(apple_list_free_english, 11)"
   ]
  },
  {
   "cell_type": "code",
   "execution_count": 30,
   "id": "6e4c7a53",
   "metadata": {},
   "outputs": [
    {
     "name": "stdout",
     "output_type": "stream",
     "text": [
      "Tools   747\n",
      "Entertainment   538\n",
      "Education   474\n",
      "Business   407\n",
      "Productivity   345\n",
      "Lifestyle   343\n",
      "Finance   328\n",
      "Medical   313\n",
      "Sports   306\n",
      "Personalization   294\n",
      "Communication   286\n",
      "Action   274\n",
      "Health & Fitness   273\n",
      "Photography   261\n",
      "News & Magazines   248\n",
      "Social   236\n",
      "Travel & Local   206\n",
      "Shopping   199\n",
      "Books & Reference   189\n",
      "Simulation   181\n",
      "Dating   165\n",
      "Arcade   163\n",
      "Video Players & Editors   157\n",
      "Casual   156\n",
      "Maps & Navigation   123\n",
      "Food & Drink   110\n",
      "Puzzle   100\n",
      "Racing   88\n",
      "Role Playing   83\n",
      "Libraries & Demo   83\n",
      "Auto & Vehicles   82\n",
      "Strategy   81\n",
      "House & Home   71\n",
      "Weather   70\n",
      "Events   63\n",
      "Adventure   59\n",
      "Comics   53\n",
      "Beauty   53\n",
      "Art & Design   53\n",
      "Parenting   44\n",
      "Card   40\n",
      "Trivia   37\n",
      "Casino   37\n",
      "Educational;Education   35\n",
      "Board   34\n",
      "Educational   33\n",
      "Education;Education   30\n",
      "Word   23\n",
      "Casual;Pretend Play   21\n",
      "Music   18\n",
      "Racing;Action & Adventure   15\n",
      "Puzzle;Brain Games   15\n",
      "Entertainment;Music & Video   15\n",
      "Casual;Brain Games   12\n",
      "Casual;Action & Adventure   12\n",
      "Arcade;Action & Adventure   11\n",
      "Action;Action & Adventure   9\n",
      "Educational;Pretend Play   8\n",
      "Simulation;Action & Adventure   7\n",
      "Parenting;Education   7\n",
      "Entertainment;Brain Games   7\n",
      "Board;Brain Games   7\n",
      "Parenting;Music & Video   6\n",
      "Educational;Brain Games   6\n",
      "Casual;Creativity   6\n",
      "Art & Design;Creativity   6\n",
      "Education;Pretend Play   5\n",
      "Role Playing;Pretend Play   4\n",
      "Education;Creativity   4\n",
      "Role Playing;Action & Adventure   3\n",
      "Puzzle;Action & Adventure   3\n",
      "Entertainment;Creativity   3\n",
      "Entertainment;Action & Adventure   3\n",
      "Educational;Creativity   3\n",
      "Educational;Action & Adventure   3\n",
      "Education;Music & Video   3\n",
      "Education;Brain Games   3\n",
      "Education;Action & Adventure   3\n",
      "Adventure;Action & Adventure   3\n",
      "Video Players & Editors;Music & Video   2\n",
      "Sports;Action & Adventure   2\n",
      "Simulation;Pretend Play   2\n",
      "Puzzle;Creativity   2\n",
      "Music;Music & Video   2\n",
      "Entertainment;Pretend Play   2\n",
      "Casual;Education   2\n",
      "Board;Action & Adventure   2\n",
      "Video Players & Editors;Creativity   1\n",
      "Trivia;Education   1\n",
      "Travel & Local;Action & Adventure   1\n",
      "Tools;Education   1\n",
      "Strategy;Education   1\n",
      "Strategy;Creativity   1\n",
      "Strategy;Action & Adventure   1\n",
      "Simulation;Education   1\n",
      "Role Playing;Brain Games   1\n",
      "Racing;Pretend Play   1\n",
      "Puzzle;Education   1\n",
      "Parenting;Brain Games   1\n",
      "Music & Audio;Music & Video   1\n",
      "Lifestyle;Pretend Play   1\n",
      "Lifestyle;Education   1\n",
      "Health & Fitness;Education   1\n",
      "Health & Fitness;Action & Adventure   1\n",
      "Entertainment;Education   1\n",
      "Communication;Creativity   1\n",
      "Comics;Creativity   1\n",
      "Casual;Music & Video   1\n",
      "Card;Action & Adventure   1\n",
      "Books & Reference;Education   1\n",
      "Art & Design;Pretend Play   1\n",
      "Art & Design;Action & Adventure   1\n",
      "Arcade;Pretend Play   1\n",
      "Adventure;Education   1\n"
     ]
    }
   ],
   "source": [
    "display_table(google_list_free_english, 9)"
   ]
  },
  {
   "cell_type": "markdown",
   "id": "107bc01c",
   "metadata": {},
   "source": [
    "The initial investigation shows that in terms of available apps, Apple has a large predisposition towards games and entertainment, but on google there is a bit more of an even distribution towards tools, education, business, productivity in addition to entertainment. \n",
    "\n",
    "As we are concerned with user engagement, we should be looking at correlating genres with metrics that would signify eyeballs/user engagement. These would be \n",
    "\n",
    "**Apple:**\n",
    "* ratings_count_tot - used as a proxy for downloads since there are no stats for actual downloads\n",
    "* user_rating - average user rating for all users (secondary metric) \n",
    "\n",
    "**Google:**\n",
    "* Installs - number of installs\n",
    "* Rating - Overall user rating of app\n",
    "\n",
    "The first step would be to check the average number of engagements per app per genre for each platform"
   ]
  },
  {
   "cell_type": "code",
   "execution_count": 31,
   "id": "a8e9c8d2",
   "metadata": {},
   "outputs": [],
   "source": [
    "# #cleaning up google engagement values - at first engagement values are stored as strings, we need to change them\n",
    "# to floats: \n",
    "for row in google_list_free_english[1:]:\n",
    "    row[5] = row[5].replace('+', '')\n",
    "    row[5] = row[5].replace(',', '')\n",
    "    row[5] = float(row[5])\n",
    "\n",
    "for row in google_list_free_english[1:]:\n",
    "    if type(row[5]) != float:\n",
    "        print(row)\n",
    "    "
   ]
  },
  {
   "cell_type": "code",
   "execution_count": 32,
   "id": "fea7fd77",
   "metadata": {},
   "outputs": [],
   "source": [
    "#cleaning up apple engagement values = like above, all engagement numbers are stored as strings, we need to change\n",
    "#them to floats \n",
    "\n",
    "for row in apple_list_free_english[1:]:\n",
    "    row[5] = float(row[5])\n",
    "    \n"
   ]
  },
  {
   "cell_type": "code",
   "execution_count": 33,
   "id": "30cdf334",
   "metadata": {},
   "outputs": [],
   "source": [
    "def generating_avg_ratings(dataset, genre_index, interaction_index):\n",
    "    total_ratings = {}##this will end up data in format key(genre): [total_interactions, app_count]\n",
    "    for row in dataset[1:]:\n",
    "        if row[genre_index] not in total_ratings: \n",
    "            total_ratings[row[genre_index]] = [row[interaction_index], 1]\n",
    "        else:\n",
    "            total_ratings[row[genre_index]][0] += row[interaction_index]\n",
    "            total_ratings[row[genre_index]][1] += 1\n",
    "    \n",
    "    avr_rating_list = []\n",
    "    \n",
    "    for key, value in total_ratings.items():\n",
    "        category = key\n",
    "        data = value\n",
    "        avr_rating_list.append([value[0] / value[1], key])\n",
    "    \n",
    "    return sorted(avr_rating_list, reverse = True)\n",
    "    "
   ]
  },
  {
   "cell_type": "markdown",
   "id": "a27290af",
   "metadata": {},
   "source": [
    "The above function *generating_avg_ratings* has parameters for the dataset, genre, and the index that we will use metrics to track interaction. Using this function, we will extract the following data: \n",
    "\n",
    "* Apple Dataset: (dataset = apple_list_free_english, genre_index = 11(prime_genre), interaction_index = 5\n",
    "* Google Dataset: (dataset = google_list_free_english, genre_index = 1(category), interaction_index = 5\n",
    "* Google Dataset: (dataset = google_list_free_english, genre_index = 9(genres), interaction_index = 5\n",
    "\n"
   ]
  },
  {
   "cell_type": "code",
   "execution_count": 34,
   "id": "2bcfcab2",
   "metadata": {},
   "outputs": [
    {
     "name": "stdout",
     "output_type": "stream",
     "text": [
      "COMMUNICATION | 38590581.08741259\n",
      "VIDEO_PLAYERS | 24727872.452830188\n",
      "SOCIAL | 23253652.127118643\n",
      "PHOTOGRAPHY | 17840110.40229885\n",
      "PRODUCTIVITY | 16787331.344927534\n",
      "GAME | 15544014.51048951\n",
      "TRAVEL_AND_LOCAL | 13984077.710144928\n",
      "ENTERTAINMENT | 11640705.88235294\n",
      "TOOLS | 10830251.970588235\n",
      "NEWS_AND_MAGAZINES | 9549178.467741935\n"
     ]
    }
   ],
   "source": [
    "google_by_category = generating_avg_ratings(google_list_free_english, 1, 5)\n",
    "for row in google_by_category[:10]:\n",
    "    print(row[1], '|', row[0])"
   ]
  },
  {
   "cell_type": "code",
   "execution_count": 35,
   "id": "ba165e07",
   "metadata": {},
   "outputs": [
    {
     "name": "stdout",
     "output_type": "stream",
     "text": [
      "Communication | 38590581.08741259\n",
      "Adventure;Action & Adventure | 35333333.333333336\n",
      "Video Players & Editors | 24947335.796178345\n",
      "Social | 23253652.127118643\n",
      "Arcade | 23028171.411042944\n",
      "Casual | 19569221.602564104\n",
      "Puzzle;Action & Adventure | 18366666.666666668\n",
      "Photography | 17840110.40229885\n",
      "Educational;Action & Adventure | 17016666.666666668\n",
      "Productivity | 16787331.344927534\n"
     ]
    }
   ],
   "source": [
    "google_by_genre = generating_avg_ratings(google_list_free_english, 9, 5)\n",
    "for row in google_by_genre[:10]:\n",
    "    print(row[1], '|', row[0])"
   ]
  },
  {
   "cell_type": "code",
   "execution_count": 36,
   "id": "00c98168",
   "metadata": {},
   "outputs": [
    {
     "name": "stdout",
     "output_type": "stream",
     "text": [
      "Navigation | 86090.33333333333\n",
      "Reference | 79350.4705882353\n",
      "Social Networking | 71548.34905660378\n",
      "Music | 57326.530303030304\n",
      "Weather | 52279.892857142855\n",
      "Book | 46384.916666666664\n",
      "Food & Drink | 33333.92307692308\n",
      "Finance | 32367.02857142857\n",
      "Photo & Video | 28441.54375\n",
      "Travel | 28243.8\n"
     ]
    }
   ],
   "source": [
    "apple_by_prime_genre = generating_avg_ratings(apple_list_free_english, 11, 5)\n",
    "for row in apple_by_prime_genre[:10]:\n",
    "     print(row[1], '|', row[0])"
   ]
  },
  {
   "cell_type": "markdown",
   "id": "324af0ee",
   "metadata": {},
   "source": [
    "## Working Through the Categories\n",
    "While initial results show large engagement in the areas of communication and social networking across all datasets, we need also need to do a deeper analysis of the numbers to see if the numbers are being skewed by 'mega-apps' that are being run by competitors that we would have a tough time gaining market share from. \n",
    "\n",
    "As the company is also in the experimental phase or rolling out apps, we might not want to go into games which are known to be notoriously resource intensive to produce.\n",
    "\n",
    "Navigation looks to be the highest score in terms of average engagement per app on IOS, and we should look through the data a bit more also\n"
   ]
  },
  {
   "cell_type": "code",
   "execution_count": 37,
   "id": "cdf20712",
   "metadata": {
    "scrolled": true
   },
   "outputs": [],
   "source": [
    "def find_outlier_values(dataset, engagement_index, app_index):\n",
    "    total_engagement_count = 0\n",
    "    list = []\n",
    "    for row in dataset[1:]:\n",
    "        total_engagement_count += row[engagement_index]\n",
    "        if row[engagement_index] not in list:\n",
    "            list.append([row[engagement_index], row[app_index]])\n",
    "    \n",
    "    sorted_list = sorted(list, reverse = True)\n",
    "    truncated_sorted_list = sorted_list[0:20]\n",
    "    for row in truncated_sorted_list:\n",
    "        print(row[1], \" : \", row[0], \"|\", round(row[0] * 100 / total_engagement_count, 2), '%')\n",
    "\n",
    "\n"
   ]
  },
  {
   "cell_type": "code",
   "execution_count": 38,
   "id": "8f31385d",
   "metadata": {},
   "outputs": [
    {
     "name": "stdout",
     "output_type": "stream",
     "text": [
      "Apple Data\n",
      "----------\n",
      "Facebook  :  2974676.0 | 3.72 %\n",
      "Instagram  :  2161558.0 | 2.7 %\n",
      "Clash of Clans  :  2130805.0 | 2.66 %\n",
      "Temple Run  :  1724546.0 | 2.16 %\n",
      "Pandora - Music & Radio  :  1126879.0 | 1.41 %\n",
      "Pinterest  :  1061624.0 | 1.33 %\n",
      "Bible  :  985920.0 | 1.23 %\n",
      "Candy Crush Saga  :  961794.0 | 1.2 %\n",
      "Spotify Music  :  878563.0 | 1.1 %\n",
      "Angry Birds  :  824451.0 | 1.03 %\n",
      "Subway Surfers  :  706110.0 | 0.88 %\n",
      "Solitaire  :  679055.0 | 0.85 %\n",
      "CSR Racing  :  677247.0 | 0.85 %\n",
      "Crossy Road - Endless Arcade Hopper  :  669079.0 | 0.84 %\n",
      "Injustice: Gods Among Us  :  612532.0 | 0.77 %\n",
      "Hay Day  :  567344.0 | 0.71 %\n",
      "PAC-MAN  :  508808.0 | 0.64 %\n",
      "Calorie Counter & Diet Tracker by MyFitnessPal  :  507706.0 | 0.63 %\n",
      "DragonVale  :  503230.0 | 0.63 %\n",
      "The Weather Channel: Forecast, Radar & Alerts  :  495626.0 | 0.62 %\n"
     ]
    }
   ],
   "source": [
    "print('Apple Data')\n",
    "print('-' * 10)\n",
    "\n",
    "find_outlier_values(apple_list_free_english, 5, 1)"
   ]
  },
  {
   "cell_type": "code",
   "execution_count": 39,
   "id": "e47da5a5",
   "metadata": {},
   "outputs": [
    {
     "name": "stdout",
     "output_type": "stream",
     "text": [
      "Google Data by Category\n",
      "----------\n",
      "YouTube  :  1000000000.0 | 1.33 %\n",
      "WhatsApp Messenger  :  1000000000.0 | 1.33 %\n",
      "Subway Surfers  :  1000000000.0 | 1.33 %\n",
      "Skype - free IM & video calls  :  1000000000.0 | 1.33 %\n",
      "Messenger – Text and Video Chat for Free  :  1000000000.0 | 1.33 %\n",
      "Maps - Navigate & Explore  :  1000000000.0 | 1.33 %\n",
      "Instagram  :  1000000000.0 | 1.33 %\n",
      "Hangouts  :  1000000000.0 | 1.33 %\n",
      "Google+  :  1000000000.0 | 1.33 %\n",
      "Google Street View  :  1000000000.0 | 1.33 %\n",
      "Google Play Movies & TV  :  1000000000.0 | 1.33 %\n",
      "Google Play Games  :  1000000000.0 | 1.33 %\n",
      "Google Play Books  :  1000000000.0 | 1.33 %\n",
      "Google Photos  :  1000000000.0 | 1.33 %\n",
      "Google News  :  1000000000.0 | 1.33 %\n",
      "Google Drive  :  1000000000.0 | 1.33 %\n",
      "Google Chrome: Fast & Secure  :  1000000000.0 | 1.33 %\n",
      "Google  :  1000000000.0 | 1.33 %\n",
      "Gmail  :  1000000000.0 | 1.33 %\n",
      "Facebook  :  1000000000.0 | 1.33 %\n"
     ]
    }
   ],
   "source": [
    "print('Google Data by Category')\n",
    "print('-' * 10)\n",
    "find_outlier_values(google_list_free_english, 5, 0)"
   ]
  },
  {
   "cell_type": "markdown",
   "id": "1e014743",
   "metadata": {},
   "source": [
    "An initial look through shows that Facebook and Instagram score very high in terms of average engagement scores both on google and apple. Let's dive a bit deeper into the **social networking** category for apple\n"
   ]
  },
  {
   "cell_type": "code",
   "execution_count": 40,
   "id": "5eca224d",
   "metadata": {},
   "outputs": [
    {
     "name": "stdout",
     "output_type": "stream",
     "text": [
      "lowest score:  0.0\n",
      "max score:  2974676.0\n",
      "total social engagement count:  7584125.0\n"
     ]
    }
   ],
   "source": [
    "def check_low_max_total_engagement(dataset, category_index, category_name):\n",
    "    social_engagement_array = []\n",
    "    social_engagement_count = 0\n",
    "    for row in apple_list_free_english[1:]:\n",
    "        if row[11] == category_name:\n",
    "            social_engagement_array.append(row[category_index])\n",
    "            social_engagement_count += row[category_index]\n",
    "    print(\"lowest score: \", min(social_engagement_array))\n",
    "    print(\"max score: \", max(social_engagement_array))\n",
    "    print(\"total social engagement count: \", social_engagement_count)\n",
    "\n",
    "check_low_max_total_engagement(apple_list_free_english, 5, \"Social Networking\")\n",
    "        "
   ]
  },
  {
   "cell_type": "code",
   "execution_count": 41,
   "id": "cb6b9a7e",
   "metadata": {
    "scrolled": true
   },
   "outputs": [
    {
     "name": "stdout",
     "output_type": "stream",
     "text": [
      "Facebook 2974676.0\n",
      "Pinterest 1061624.0\n"
     ]
    }
   ],
   "source": [
    "def check_high_engagement_apps(dataset, category, category_index, count_index, engagement_count, name_index):\n",
    "    for row in dataset[1:]:\n",
    "        if row[category_index] == category and row[count_index] > engagement_count:\n",
    "            print(row[name_index], row[count_index])\n",
    "\n",
    "check_high_engagement_apps(apple_list_free_english, \"Social Networking\",11, 5, 1000000.0, 1)"
   ]
  },
  {
   "cell_type": "code",
   "execution_count": 42,
   "id": "ffa9c02e",
   "metadata": {},
   "outputs": [
    {
     "name": "stdout",
     "output_type": "stream",
     "text": [
      "Facebook and Pinterest take up  53.22037809239695 % of engagement counts\n"
     ]
    }
   ],
   "source": [
    "print(\"Facebook and Pinterest take up \", (2974676.0 + 1061624.0) / 7584125.0 *100, \"% of engagement counts\")"
   ]
  },
  {
   "cell_type": "markdown",
   "id": "fcab91be",
   "metadata": {},
   "source": [
    "This shows us that two of the apps related to **Social Networking** on Apple already take up more than 50% of the total engagement counts - it is highly likely that these apps are skewing the data and that it will be very difficult to compete for market share "
   ]
  },
  {
   "cell_type": "code",
   "execution_count": 43,
   "id": "8a5eae80",
   "metadata": {},
   "outputs": [
    {
     "name": "stdout",
     "output_type": "stream",
     "text": [
      "lowest score:  5.0\n",
      "max score:  345046.0\n",
      "total social engagement count:  516542.0\n",
      "\n",
      "\n",
      "Waze - GPS Navigation, Maps & Real-time Traffic 345046.0\n",
      "Google Maps - Navigation & Transit 154911.0\n",
      "Waze and Google Maps take up  96.78922527112994 % of engagement counts\n"
     ]
    }
   ],
   "source": [
    "check_low_max_total_engagement(apple_list_free_english, 5, \"Navigation\")\n",
    "print(\"\\n\")\n",
    "check_high_engagement_apps(apple_list_free_english, \"Navigation\", 11, 5, 100000.0, 1)\n",
    "print(\"Waze and Google Maps take up \", (345046.0 + 154911.0) / 516542.0 *100, \"% of engagement counts\")"
   ]
  },
  {
   "cell_type": "markdown",
   "id": "99ba1cdb",
   "metadata": {},
   "source": [
    "The skew for **Navigation** is even greater on Apple, where Waze and Google account for approx 97% of all engagement counts"
   ]
  },
  {
   "cell_type": "code",
   "execution_count": 44,
   "id": "1245591e",
   "metadata": {},
   "outputs": [
    {
     "name": "stdout",
     "output_type": "stream",
     "text": [
      "lowest score:  0.0\n",
      "max score:  985920.0\n",
      "total social engagement count:  1348958.0\n",
      "Bible 985920.0\n",
      "Bible takes up  73.08752385174334 % of engagement counts\n"
     ]
    }
   ],
   "source": [
    "check_low_max_total_engagement(apple_list_free_english, 5, \"Reference\")\n",
    "check_high_engagement_apps(apple_list_free_english, \"Reference\", 11, 5, 250000.0, 1)\n",
    "print(\"Bible takes up \", 985920.0 / 1348958.0 * 100, '% of engagement counts')"
   ]
  },
  {
   "cell_type": "markdown",
   "id": "ce4c2c4a",
   "metadata": {},
   "source": [
    "The same pattern occurs in **Reference** - where Bible alone accounts for approx 73% of all engagement counts"
   ]
  },
  {
   "cell_type": "code",
   "execution_count": 45,
   "id": "fafd6d25",
   "metadata": {},
   "outputs": [
    {
     "name": "stdout",
     "output_type": "stream",
     "text": [
      "lowest score:  0.0\n",
      "max score:  1126879.0\n",
      "total social engagement count:  3783551.0\n",
      "Pandora - Music & Radio 1126879.0\n",
      "Spotify Music 878563.0\n",
      "Pandora and Spotify Music take up  53.004228038686406 % of engagement counts\n"
     ]
    }
   ],
   "source": [
    "check_low_max_total_engagement(apple_list_free_english, 5, \"Music\")\n",
    "check_high_engagement_apps(apple_list_free_english, \"Music\", 11, 5, 500000.0, 1)\n",
    "print(\"Pandora and Spotify Music take up \", (1126879.0 + 878563.0) / 3783551.0 *100, \"% of engagement counts\")"
   ]
  },
  {
   "cell_type": "markdown",
   "id": "c00b9519",
   "metadata": {},
   "source": [
    "Same in **Music**"
   ]
  },
  {
   "cell_type": "code",
   "execution_count": 46,
   "id": "a0f447cf",
   "metadata": {},
   "outputs": [
    {
     "name": "stdout",
     "output_type": "stream",
     "text": [
      "lowest score:  0.0\n",
      "max score:  495626.0\n",
      "total social engagement count:  1463837.0\n",
      "The Weather Channel: Forecast, Radar & Alerts 495626.0\n",
      "The Weather Channel App for iPad – best local forecast, radar map, and storm tracking 208648.0\n",
      "WeatherBug - Local Weather, Radar, Maps, Alerts 188583.0\n",
      "MyRadar NOAA Weather Radar Forecast 150158.0\n",
      "AccuWeather - Weather for Life 144214.0\n",
      "Yahoo Weather 112603.0\n"
     ]
    }
   ],
   "source": [
    "check_low_max_total_engagement(apple_list_free_english, 5, \"Weather\")\n",
    "check_high_engagement_apps(apple_list_free_english, \"Weather\", 11, 5, 100000.0, 1)\n"
   ]
  },
  {
   "cell_type": "markdown",
   "id": "231ce992",
   "metadata": {},
   "source": [
    "The **weather** category shows a bit more promise, while the highest scoring app The Weather Channel: Forecast, Radar & Alerts takes up a large chunk of the total engagements, we see a fairly better distribution of engagement across apps as we move down the list"
   ]
  },
  {
   "cell_type": "code",
   "execution_count": 47,
   "id": "0385c4e3",
   "metadata": {},
   "outputs": [
    {
     "name": "stdout",
     "output_type": "stream",
     "text": [
      "lowest score:  0.0\n",
      "max score:  252076.0\n",
      "total social engagement count:  556619.0\n",
      "Kindle – Read eBooks, Magazines & Textbooks 252076.0\n",
      "Audible – audio books, original series & podcasts 105274.0\n"
     ]
    }
   ],
   "source": [
    "check_low_max_total_engagement(apple_list_free_english, 5, \"Book\")\n",
    "check_high_engagement_apps(apple_list_free_english, \"Book\", 11, 5, 100000.0, 1)\n",
    "\n"
   ]
  },
  {
   "cell_type": "markdown",
   "id": "11aacc8a",
   "metadata": {},
   "source": [
    "Here we see two things: \n",
    "* **Kindle** and **Audible** account for a large chunk of the **Book** Engagements\n",
    "* Apple categorizes **Book** more as book management apps, which means that it may be storing actual books under **Reference**\n",
    "\n",
    "Let's further examine **Weather** and **Reference** and see what the engagement counts are like if we remove the counts for both category's top apps"
   ]
  },
  {
   "cell_type": "code",
   "execution_count": 48,
   "id": "cd56f7db",
   "metadata": {},
   "outputs": [
    {
     "name": "stdout",
     "output_type": "stream",
     "text": [
      "-Weather-\n",
      "Total Engagement: 1463837.0\n",
      "Highest Engagement:  495626.0\n",
      "Total - Highest Engagement : 968211.0\n",
      "-Reference-\n",
      "Total Engagement: 1348958.0\n",
      "Highest Engagement:  985920.0\n",
      "Total - Highest Engagement : 363038.0\n"
     ]
    }
   ],
   "source": [
    "def remove_top_app(dataset, category_index, engagement_index, category_name):\n",
    "    total_engagement = 0\n",
    "    highest_engagement = 0\n",
    "    for row in dataset[1:]:\n",
    "        if row[category_index] == category_name:\n",
    "            total_engagement += row[engagement_index]\n",
    "            if row[engagement_index] > highest_engagement:\n",
    "                highest_engagement = row[engagement_index]\n",
    "    print(\"Total Engagement:\", total_engagement)\n",
    "    print(\"Highest Engagement: \", highest_engagement)\n",
    "    print(\"Total - Highest Engagement :\", total_engagement - highest_engagement)\n",
    "    \n",
    "print('-Weather-')\n",
    "remove_top_app(apple_list_free_english, 11, 5, \"Weather\")\n",
    "print('-Reference-')\n",
    "remove_top_app(apple_list_free_english, 11, 5, \"Reference\")\n"
   ]
  },
  {
   "cell_type": "markdown",
   "id": "bfc940dd",
   "metadata": {},
   "source": [
    "Based on what we see above - it looks like **weather** might be worth investgating. But we can also keep **reference** in our back pocket"
   ]
  },
  {
   "cell_type": "code",
   "execution_count": 49,
   "id": "6609fb70",
   "metadata": {},
   "outputs": [
    {
     "name": "stdout",
     "output_type": "stream",
     "text": [
      "The Weather Channel: Rain Forecast & Storm Alerts\n",
      "Weather forecast\n",
      "AccuWeather: Daily Forecast & Live Weather Reports\n",
      "Live Weather Pro\n",
      "Weather by WeatherBug: Forecast, Radar & Alerts\n",
      "weather - weather forecast\n",
      "MyRadar NOAA Weather Radar\n",
      "SMHI Weather\n",
      "Free live weather on screen\n",
      "Weather Radar Widget\n",
      "Weather –Simple weather forecast\n",
      "Weather Crave\n",
      "Klara weather\n",
      "Yahoo Weather\n",
      "Real time Weather Forecast\n",
      "METEO FRANCE\n",
      "APE Weather ( Live Forecast)\n",
      "Live Weather & Daily Local Weather Forecast\n",
      "Weather\n",
      "Rainfall radar - weather\n",
      "Yahoo! Weather for SH Forecast for understanding the approach of rain clouds Free\n",
      "The Weather Network\n",
      "Klart.se - Sweden's best weather\n",
      "GO Weather - Widget, Theme, Wallpaper, Efficient\n",
      "Info BMKG\n",
      "Weather From DMI/YR\n",
      "wetter.com - Weather and Radar\n",
      "Storm Radar: Tornado Tracker & Hurricane Alerts\n",
      "Yandex.Weather\n",
      "Local Weather Forecast & Visual Widget\n",
      "Wetter by t-online.de\n",
      "HTC Weather\n",
      "AEMET's time\n",
      "New 2018 Weather App & Widget\n",
      "Météociel\n",
      "Climatempo Lite - 15 day weather forecast\n",
      "ForecaWeather\n",
      "HumorCast - Authentic Weather\n",
      "W - Weather Forecast & Animated Radar Maps\n",
      "Weather & Clock Widget for Android\n",
      "WeatherClear - Ad-free Weather, Minute forecast\n",
      "Ag Weather Tools\n",
      "Wind & Weather Meter for Ag\n",
      "Au Weather Free\n",
      "Amber Weather\n",
      "ByssWeather for Wear OS\n",
      "Sun & Moon AR Locator\n",
      "RadarNow!\n",
      "Skywatch BL\n",
      "Weather BZ\n",
      "Fu*** Weather (Funny Weather)\n",
      "WebCams\n",
      "Windguru Lite\n",
      "World Webcams\n",
      "DS Barometer - Altimeter and Weather Information\n",
      "DS Thermometer\n",
      "Local weather Forecast\n",
      "Weather 14 Days\n",
      "Weather by eltiempo.es\n",
      "Storm Shield\n",
      "GO Weather EX Theme White\n",
      "MIUI Style GO Weather EX\n",
      "Moonlight GO Weather EX\n",
      "EZ Clock & Weather Widget\n",
      "Florida Storms\n",
      "Clearwater, FL - weather and more\n",
      "St. Petersburg, FL - weather and more\n",
      "WSVN • South Florida's Source for Weather\n",
      "My Earthquake Alerts - US & Worldwide Earthquakes\n",
      "FR Tides\n"
     ]
    }
   ],
   "source": [
    "for row in google_list_free_english[1:]:\n",
    "    if row[1] == \"WEATHER\":\n",
    "        print(row[0])\n"
   ]
  },
  {
   "cell_type": "markdown",
   "id": "0b89a285",
   "metadata": {},
   "source": [
    "The main issue with proposing developing an app for the **weather** category, even though there seems to be a good spread of interactions is that from a business perspective it would be difficult to differentiate the product to get users to download and interact over the current apps that are available.\n",
    "\n",
    "Knowing that in a lot of categories, the top 2 apps seem to skew the statistics for engagement per app (on a category basis), let's reexamine the data to see what happens when we remove the top 2 apps from each category. We'll work with the **Apple** dataset first, since engagement numbers are more granular"
   ]
  },
  {
   "cell_type": "code",
   "execution_count": 116,
   "id": "e82b46db",
   "metadata": {},
   "outputs": [],
   "source": [
    "def delete_top_2(dataset, engagement_index, category_index):\n",
    "    category_dict = {}\n",
    "    for row in dataset[1:]:\n",
    "        if row[category_index] not in category_dict:\n",
    "            category_dict[row[category_index]] = [row[engagement_index]]\n",
    "        else:\n",
    "            category_dict[row[category_index]].append(row[engagement_index])\n",
    "           \n",
    "    for key in category_dict:\n",
    "        category_dict[key] = sorted(category_dict[key], reverse = True)\n",
    "        category_dict[key] = category_dict[key][2:]\n",
    "   \n",
    "    sorted_list = []\n",
    "    counter = 0.0\n",
    "    summer = 0.0\n",
    "    for key, value in category_dict.items():\n",
    "        for entry in value:\n",
    "            counter += 1\n",
    "            summer += entry\n",
    "        sorted_list.append([summer/counter, key])\n",
    "        counter = 0.0\n",
    "        summer = 0.0\n",
    "    \n",
    "    sorted_list = sorted(sorted_list, reverse = True)\n",
    "    for row in sorted_list[:10]:\n",
    "        print(row[1], '|', row[0])\n",
    "    \n",
    "            \n",
    "            \n",
    "        \n",
    "\n",
    "         "
   ]
  },
  {
   "cell_type": "code",
   "execution_count": 117,
   "id": "402d6013",
   "metadata": {},
   "outputs": [
    {
     "name": "stdout",
     "output_type": "stream",
     "text": [
      "Social Networking | 34113.70192307692\n",
      "Weather | 29213.96153846154\n",
      "Music | 27782.953125\n",
      "Games | 20864.89688506982\n",
      "Finance | 20201.090909090908\n",
      "Book | 19926.9\n",
      "Shopping | 19507.79012345679\n",
      "Sports | 16506.68656716418\n",
      "Productivity | 16306.74074074074\n",
      "Photo & Video | 13070.784810126583\n"
     ]
    }
   ],
   "source": [
    "delete_top_2(apple_list_free_english, 5, 11)"
   ]
  },
  {
   "cell_type": "markdown",
   "id": "c89c1058",
   "metadata": {},
   "source": [
    "## Apple Statistics\n",
    "|With all Apps Counted|Avr Eng Per App Per Category|With Top 2 Apps Rem|Avr Eng Per App Per Category|\n",
    "|   :---:    |            :---:     |  :---:                       |:---:|\n",
    "|Navigation | 86090.33333333333                |Social Networking | 34113.70192307692|\n",
    "|Reference | 79350.4705882353                  |Weather | 29213.96153846154|\n",
    "|Social Networking | 71548.34905660378         |Music | 27782.953125|\n",
    "|Music | 57326.530303030304|Games | 20864.89688506982|\n",
    "|Weather | 52279.892857142855|Finance | 20201.090909090908|\n",
    "|Book | 46384.916666666664|Book | 19926.9|\n",
    "|Food & Drink | 33333.92307692308|Shopping | 19507.79012345679|\n",
    "|Finance | 32367.02857142857| Sports | 16506.68656716418|\n",
    "|Photo & Video | 28441.54375| Productivity | 16306.74074074074|\n",
    "|Travel | 28243.8| Photo & Video | 13070.784810126583|"
   ]
  },
  {
   "cell_type": "markdown",
   "id": "3a9f8787",
   "metadata": {},
   "source": [
    "Eliminating the top 2 Apps for each category and recalcuating the average engagements per app per customer, interestingly we find out a few things \n",
    "\n",
    "* The book category remains at rank 6, however from a pure quantum perspective, the difference between the book category and the top app category is approx 40000 engagements per app without discounting the top 2 apps, but when we discount the top 2 apps the difference between the book category and the top app category is approx 14000 engagements\n",
    "* Finance moves up the ranks to rank 5 in Avr Eng Per App Per Category when we eliminate the top 2 apps in each category \n",
    "\n",
    "Given that we see the relative strength of the **Book** category after running this exercise, we should investigate the book category more, and also look into the google data for more information"
   ]
  },
  {
   "cell_type": "code",
   "execution_count": 128,
   "id": "4d1b6e6f",
   "metadata": {
    "scrolled": true
   },
   "outputs": [
    {
     "name": "stdout",
     "output_type": "stream",
     "text": [
      "Kindle – Read eBooks, Magazines & Textbooks\n",
      "Audible – audio books, original series & podcasts\n",
      "Color Therapy Adult Coloring Book for Adults\n",
      "OverDrive – Library eBooks and Audiobooks\n",
      "HOOKED - Chat Stories\n",
      "BookShout: Read eBooks & Track Your Reading Goals\n",
      "Dr. Seuss Treasury — 50 best kids books\n",
      "Green Riding Hood\n",
      "Weirdwood Manor\n",
      "MangaZERO - comic reader\n",
      "ikouhoushi\n",
      "MangaTiara - love comic reader\n"
     ]
    }
   ],
   "source": [
    "book_list = []\n",
    "for row in apple_list_free_english[1:]:\n",
    "    if row[11] == \"Book\":\n",
    "       book_list.append(row[1])\n",
    "for row in book_list:\n",
    "    print(row)"
   ]
  },
  {
   "cell_type": "code",
   "execution_count": 129,
   "id": "21397f8f",
   "metadata": {},
   "outputs": [
    {
     "name": "stdout",
     "output_type": "stream",
     "text": [
      "Bible\n",
      "Dictionary.com Dictionary & Thesaurus\n",
      "Dictionary.com Dictionary & Thesaurus for iPad\n",
      "Google Translate\n",
      "Muslim Pro: Ramadan 2017 Prayer Times, Azan, Quran\n",
      "New Furniture Mods - Pocket Wiki & Game Tools for Minecraft PC Edition\n",
      "Merriam-Webster Dictionary\n",
      "Night Sky\n",
      "City Maps for Minecraft PE - The Best Maps for Minecraft Pocket Edition (MCPE)\n",
      "LUCKY BLOCK MOD ™ for Minecraft PC Edition - The Best Pocket Wiki & Mods Installer Tools\n",
      "GUNS MODS for Minecraft PC Edition - Mods Tools\n",
      "Guides for Pokémon GO - Pokemon GO News and Cheats\n",
      "WWDC\n",
      "Horror Maps for Minecraft PE - Download The Scariest Maps for Minecraft Pocket Edition (MCPE) Free\n",
      "VPN Express\n",
      "Real Bike Traffic Rider Virtual Reality Glasses\n",
      "Jishokun-Japanese English Dictionary & Translator\n"
     ]
    }
   ],
   "source": [
    "book_list = []\n",
    "for row in apple_list_free_english[1:]:\n",
    "    if row[11] == \"Reference\":\n",
    "       book_list.append(row[1])\n",
    "for row in book_list:\n",
    "    print(row)"
   ]
  },
  {
   "cell_type": "markdown",
   "id": "6b7c20e0",
   "metadata": {},
   "source": [
    "Looking through the categories for **Books** and **Reference**, we find that there are some peculiarities in categorization - technically the Bible and Dictionaries could be categorized as books, but we see them appear in reference. \n",
    "\n",
    "We see in the **Books** category that there might be an opportunity to create focused, small apps that feature either a singular book, or a small collection of books that is part of popular culture. If the app covers a smaller breadth of subject matter, perhaps we could build additional features into the app to drive engagement such as \n",
    "\n",
    "* Quizzes\n",
    "* Graphical Interaction\n",
    "* Social Elements in Reading (read with your friends)\n",
    "\n",
    "Let's now look through the google data to take another look. \n"
   ]
  },
  {
   "cell_type": "code",
   "execution_count": 132,
   "id": "f8b7bad3",
   "metadata": {},
   "outputs": [
    {
     "name": "stdout",
     "output_type": "stream",
     "text": [
      "E-Book Read - Read Book for free\n",
      "Download free book with green book\n",
      "Wikipedia\n",
      "Cool Reader\n",
      "Free Panda Radio Music\n",
      "Book store\n",
      "FBReader: Favorite Book Reader\n",
      "English Grammar Complete Handbook\n",
      "Free Books - Spirit Fanfiction and Stories\n",
      "Google Play Books\n",
      "AlReader -any text book reader\n",
      "Offline English Dictionary\n",
      "Offline: English to Tagalog Dictionary\n",
      "FamilySearch Tree\n",
      "Cloud of Books\n",
      "Recipes of Prophetic Medicine for free\n",
      "ReadEra – free ebook reader\n",
      "Anonymous caller detection\n",
      "Ebook Reader\n",
      "Litnet - E-books\n",
      "Read books online\n",
      "English to Urdu Dictionary\n",
      "eBoox: book reader fb2 epub zip\n",
      "English Persian Dictionary\n",
      "Flybook\n",
      "All Maths Formulas\n",
      "Ancestry\n",
      "HTC Help\n",
      "English translation from Bengali\n",
      "Pdf Book Download - Read Pdf Book\n",
      "Free Book Reader\n",
      "eBoox new: Reader for fb2 epub zip books\n",
      "Only 30 days in English, the guideline is guaranteed\n",
      "Moon+ Reader\n",
      "SH-02J Owner's Manual (Android 8.0)\n",
      "English-Myanmar Dictionary\n",
      "Golden Dictionary (EN-AR)\n",
      "All Language Translator Free\n",
      "Azpen eReader\n",
      "URBANO V 02 instruction manual\n",
      "Bible\n",
      "C Programs and Reference\n",
      "C Offline Tutorial\n",
      "C Programs Handbook\n",
      "Amazon Kindle\n",
      "Aab e Hayat Full Novel\n",
      "Aldiko Book Reader\n",
      "Google I/O 2018\n",
      "R Language Reference Guide\n",
      "Learn R Programming Full\n",
      "R Programing Offline Tutorial\n",
      "Guide for R Programming\n",
      "Learn R Programming\n",
      "R Quick Reference Big Data\n",
      "V Made\n",
      "Wattpad 📖 Free Books\n",
      "Dictionary - WordWeb\n",
      "Guide (for X-MEN)\n",
      "AC Air condition Troubleshoot,Repair,Maintenance\n",
      "AE Bulletins\n",
      "Ae Allah na Dai (Rasa)\n",
      "50000 Free eBooks & Free AudioBooks\n",
      "Ag PhD Field Guide\n",
      "Ag PhD Deficiencies\n",
      "Ag PhD Planting Population Calculator\n",
      "Ag PhD Soybean Diseases\n",
      "Fertilizer Removal By Crop\n",
      "A-J Media Vault\n",
      "Al-Quran (Free)\n",
      "Al Quran (Tafsir & by Word)\n",
      "Al Quran Indonesia\n",
      "Al'Quran Bahasa Indonesia\n",
      "Al Quran Al karim\n",
      "Al-Muhaffiz\n",
      "Al Quran : EAlim - Translations & MP3 Offline\n",
      "Al-Quran 30 Juz free copies\n",
      "Koran Read &MP3 30 Juz Offline\n",
      "Hafizi Quran 15 lines per page\n",
      "Quran for Android\n",
      "Surah Al-Waqiah\n",
      "Hisnul Al Muslim - Hisn Invocations & Adhkaar\n",
      "Satellite AR\n",
      "Audiobooks from Audible\n",
      "Kinot & Eichah for Tisha B'Av\n",
      "AW Tozer Devotionals - Daily\n",
      "Tozer Devotional -Series 1\n",
      "The Pursuit of God\n",
      "AY Sing\n",
      "Ay Hasnain k Nana Milad Naat\n",
      "Ay Mohabbat Teri Khatir Novel\n",
      "Arizona Statutes, ARS (AZ Law)\n",
      "Oxford A-Z of English Usage\n",
      "BD Fishpedia\n",
      "BD All Sim Offer\n",
      "Youboox - Livres, BD et magazines\n",
      "B&H Kids AR\n",
      "B y H Niños ES\n",
      "Dictionary.com: Find Definitions for English Words\n",
      "English Dictionary - Offline\n",
      "Bible KJV\n",
      "Borneo Bible, BM Bible\n",
      "MOD Black for BM\n",
      "BM Box\n",
      "Anime Mod for BM\n",
      "NOOK: Read eBooks & Magazines\n",
      "NOOK Audiobooks\n",
      "NOOK App for NOOK Devices\n",
      "Browsery by Barnes & Noble\n",
      "bp e-store\n",
      "Brilliant Quotes: Life, Love, Family & Motivation\n",
      "BR Ambedkar Biography & Quotes\n",
      "BU Alsace\n",
      "Catholic La Bu Zo Kam\n",
      "Khrifa Hla Bu (Solfa)\n",
      "Kristian Hla Bu\n",
      "SA HLA BU\n",
      "Learn SAP BW\n",
      "Learn SAP BW on HANA\n",
      "CA Laws 2018 (California Laws and Codes)\n",
      "Bootable Methods(USB-CD-DVD)\n",
      "cloudLibrary\n",
      "SDA Collegiate Quarterly\n",
      "Sabbath School\n",
      "Cypress College Library\n",
      "Stats Royale for Clash Royale\n",
      "GATE 21 years CS Papers(2011-2018 Solved)\n",
      "Learn CT Scan Of Head\n",
      "Easy Cv maker 2018\n",
      "How to Write CV\n",
      "CW Nuclear\n",
      "CY Spray nozzle\n",
      "BibleRead En Cy Zh Yue\n",
      "CZ-Help\n",
      "Guide for DB Xenoverse\n",
      "Guide for DB Xenoverse 2\n",
      "Guide for IMS DB\n",
      "DC HSEMA\n",
      "DC Public Library\n",
      "Painting Lulu DC Super Friends\n",
      "Dictionary\n",
      "Fix Error Google Playstore\n",
      "D. H. Lawrence Poems FREE\n",
      "Bilingual Dictionary Audio App\n",
      "DM Screen\n",
      "wikiHow: how to do anything\n",
      "Dr. Doug's Tips\n",
      "Bible du Semeur-BDS (French)\n",
      "La citadelle du musulman\n",
      "DV 2019 Entry Guide\n",
      "DV 2019 - EDV Photo & Form\n",
      "DV 2018 Winners Guide\n",
      "EB Annual Meetings\n",
      "EC - AP & Telangana\n",
      "TN Patta Citta & EC\n",
      "AP Stamps and Registration\n",
      "CompactiMa EC pH Calibration\n",
      "EGW Writings 2\n",
      "EGW Writings\n",
      "Bible with EGW Comments\n",
      "My Little Pony AR Guide\n",
      "SDA Sabbath School Quarterly\n",
      "Duaa Ek Ibaadat\n",
      "Spanish English Translator\n",
      "Dictionary - Merriam-Webster\n",
      "JW Library\n",
      "Oxford Dictionary of English : Free\n",
      "English Hindi Dictionary\n",
      "English to Hindi Dictionary\n",
      "EP Research Service\n",
      "Hymnes et Louanges\n",
      "EU Charter\n",
      "EU Data Protection\n",
      "EU IP Codes\n",
      "EW PDF\n",
      "BakaReader EX\n",
      "EZ Quran\n",
      "FA Part 1 & 2 Past Papers Solved Free – Offline\n",
      "La Fe de Jesus\n",
      "La Fe de Jesús\n",
      "Le Fe de Jesus\n",
      "Florida - Pocket Brainbook\n",
      "Florida Statutes (FL Code)\n",
      "English To Shona Dictionary\n",
      "Greek Bible FP (Audio)\n",
      "Golden Dictionary (FR-AR)\n",
      "Fanfic-FR\n",
      "Bulgarian French Dictionary Fr\n",
      "Chemin (fr)\n",
      "The SCP Foundation DB fr nn5n\n"
     ]
    }
   ],
   "source": [
    "book_list = []\n",
    "for row in google_list_free_english[1:]:\n",
    "    if row[9] == \"Books & Reference\":\n",
    "       book_list.append(row[0])\n",
    "for row in book_list:\n",
    "    print(row)"
   ]
  },
  {
   "cell_type": "markdown",
   "id": "f91f4113",
   "metadata": {},
   "source": [
    "Here we see the topics are varied, however there are multiple examples of books that cover the subject matter of \n",
    "\n",
    "* The Quran\n",
    "* Computer Programming\n",
    "\n",
    "It would seem that there is opportunity in the market for having multiple books that cover the same subject matter, but perhaps have differentiation in in app features to drive greater engagement\n"
   ]
  },
  {
   "cell_type": "markdown",
   "id": "ccdd8f6f",
   "metadata": {},
   "source": [
    "### Conclusion\n",
    "\n",
    "Having taken all the data points that have been mined into consideration and adding a certain amount of market understanding of the app market in general, we recommend that the **Book** Category gives the highest chance of ROI if the company is looking to experiment with developing apps that are :\n",
    "\n",
    "* Free\n",
    "* Targeted to English Speaking Customers\n",
    "* Not in a category that is highly dominated by competitors with large market share and a large amount of resources \n",
    "* Not in a category where the development process can be highly resource intensive \n",
    "\n",
    "The recommendation is to focus on building book apps that have cover a concentrated subject matter - book apps that have mass appeal (such as books that would be relevant to popular culture) would provide such opportunities, with opportunities for product differentiation through features discussed earlier. \n"
   ]
  }
 ],
 "metadata": {
  "kernelspec": {
   "display_name": "Python 3 (ipykernel)",
   "language": "python",
   "name": "python3"
  },
  "language_info": {
   "codemirror_mode": {
    "name": "ipython",
    "version": 3
   },
   "file_extension": ".py",
   "mimetype": "text/x-python",
   "name": "python",
   "nbconvert_exporter": "python",
   "pygments_lexer": "ipython3",
   "version": "3.9.13"
  }
 },
 "nbformat": 4,
 "nbformat_minor": 5
}
