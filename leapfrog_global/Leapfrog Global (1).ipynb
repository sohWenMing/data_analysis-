{
 "cells": [
  {
   "cell_type": "markdown",
   "id": "640cdf48",
   "metadata": {},
   "source": [
    "This jupyter notebook was put together in to get to better know the product line of the company **Leapfrog Global**. All information was personally scraped from the website https://leapfroglobal.com/ on date **21/12/2022**.\n",
    "\n",
    "The information was scraped using the BeautifulSoup Library, and the codebase is included in the Github. As there was no way to scrape the categorical information from the main website, this notebook will be mainly a study in \n",
    "\n",
    "* The current line of products that Leapfrog Global has based on the website information\n",
    "* Website design of the main Products page of the Leapfrog Global "
   ]
  },
  {
   "cell_type": "code",
   "execution_count": 1,
   "id": "6503f643",
   "metadata": {},
   "outputs": [],
   "source": [
    "import pandas as pd\n",
    "import numpy as np\n",
    "\n",
    "data = pd.read_csv('leapfrog.csv', index_col = 0)\n",
    "data.index.name = None"
   ]
  },
  {
   "cell_type": "code",
   "execution_count": 2,
   "id": "3a24168c",
   "metadata": {
    "scrolled": true
   },
   "outputs": [
    {
     "name": "stdout",
     "output_type": "stream",
     "text": [
      "<class 'pandas.core.frame.DataFrame'>\n",
      "Index: 479 entries, Armaggeddon AK-666 to SCARLET SABER 120MM LED FAN\n",
      "Data columns (total 1 columns):\n",
      " #   Column      Non-Null Count  Dtype \n",
      "---  ------      --------------  ----- \n",
      " 0   price_info  479 non-null    object\n",
      "dtypes: object(1)\n",
      "memory usage: 7.5+ KB\n"
     ]
    }
   ],
   "source": [
    "data.info()"
   ]
  },
  {
   "cell_type": "markdown",
   "id": "89985137",
   "metadata": {},
   "source": [
    "The data prepared had scraped 479 items off the Leapfrog Global website, pulling price information of product lines across all its brands. Below we show the first 10 entries based of the csv file was was scraped."
   ]
  },
  {
   "cell_type": "code",
   "execution_count": 3,
   "id": "dfe64662",
   "metadata": {},
   "outputs": [
    {
     "data": {
      "text/html": [
       "<div>\n",
       "<style scoped>\n",
       "    .dataframe tbody tr th:only-of-type {\n",
       "        vertical-align: middle;\n",
       "    }\n",
       "\n",
       "    .dataframe tbody tr th {\n",
       "        vertical-align: top;\n",
       "    }\n",
       "\n",
       "    .dataframe thead th {\n",
       "        text-align: right;\n",
       "    }\n",
       "</style>\n",
       "<table border=\"1\" class=\"dataframe\">\n",
       "  <thead>\n",
       "    <tr style=\"text-align: right;\">\n",
       "      <th></th>\n",
       "      <th>price_info</th>\n",
       "    </tr>\n",
       "  </thead>\n",
       "  <tbody>\n",
       "    <tr>\n",
       "      <th>Armaggeddon AK-666</th>\n",
       "      <td>SGD24.90</td>\n",
       "    </tr>\n",
       "    <tr>\n",
       "      <th>Thunderbolt | 5600G</th>\n",
       "      <td>SGD999.00</td>\n",
       "    </tr>\n",
       "    <tr>\n",
       "      <th>26 ASSAULT AS-33H</th>\n",
       "      <td>SGD9.90</td>\n",
       "    </tr>\n",
       "    <tr>\n",
       "      <th>27 AS-33R</th>\n",
       "      <td>Out Of Stock</td>\n",
       "    </tr>\n",
       "    <tr>\n",
       "      <th>28 AS-29R</th>\n",
       "      <td>SGD19.90</td>\n",
       "    </tr>\n",
       "    <tr>\n",
       "      <th>AERO III Black</th>\n",
       "      <td>SGD59.90</td>\n",
       "    </tr>\n",
       "    <tr>\n",
       "      <th>AERO VII Black</th>\n",
       "      <td>SGD69.90</td>\n",
       "    </tr>\n",
       "    <tr>\n",
       "      <th>AIR SHARK 2.4G</th>\n",
       "      <td>SGD9.90</td>\n",
       "    </tr>\n",
       "    <tr>\n",
       "      <th>AIRBAND 3</th>\n",
       "      <td>SGD19.90</td>\n",
       "    </tr>\n",
       "    <tr>\n",
       "      <th>Airmouse</th>\n",
       "      <td>SGD6.90</td>\n",
       "    </tr>\n",
       "  </tbody>\n",
       "</table>\n",
       "</div>"
      ],
      "text/plain": [
       "                       price_info\n",
       "Armaggeddon AK-666       SGD24.90\n",
       "Thunderbolt | 5600G     SGD999.00\n",
       "26 ASSAULT AS-33H         SGD9.90\n",
       "27 AS-33R            Out Of Stock\n",
       "28 AS-29R                SGD19.90\n",
       "AERO III Black           SGD59.90\n",
       "AERO VII Black           SGD69.90\n",
       "AIR SHARK 2.4G            SGD9.90\n",
       "AIRBAND 3                SGD19.90\n",
       "Airmouse                  SGD6.90"
      ]
     },
     "execution_count": 3,
     "metadata": {},
     "output_type": "execute_result"
    }
   ],
   "source": [
    "data.head(10)"
   ]
  },
  {
   "cell_type": "markdown",
   "id": "beb0c644",
   "metadata": {},
   "source": [
    "At the time of scraping, there were items that were listed on the website but were shown to be out of stock. \n",
    "\n",
    "The html tags for these items did not have any price information\n",
    "\n",
    "Below are the items that were out of stock at time of scraping"
   ]
  },
  {
   "cell_type": "code",
   "execution_count": 4,
   "id": "acceffa4",
   "metadata": {},
   "outputs": [
    {
     "name": "stdout",
     "output_type": "stream",
     "text": [
      "                                                      price_info\n",
      "27 AS-33R                                           Out Of Stock\n",
      "Airmouse LFX Silent                                 Out Of Stock\n",
      "Armaggeddon Pixxel+ Xtreme XF27HD SS                Out Of Stock\n",
      "Armaggeddon Pixxel+ Xtreme XF27HD Super             Out Of Stock\n",
      "BBX 500 TWS                                         Out Of Stock\n",
      "BBX 800 TWS                                         Out Of Stock\n",
      "Elysium IRON Mini                                   Out Of Stock\n",
      "EVO 7 PRO BTMI                                      Out Of Stock\n",
      "Hagane H-7                                          Out Of Stock\n",
      "Inno3d Geforce RTX 3060 Ichill Red X 3              Out Of Stock\n",
      "Inno3d Geforce RTX 3070 Twin X 2 OC LHR             Out Of Stock\n",
      "INNO3D GEFORCE RTX 3090 GAMING X3                   Out Of Stock\n",
      "MKA 2C                                              Out Of Stock\n",
      "MKA-17 Avenger                                      Out Of Stock\n",
      "NEOPLUG NOZZ                                        Out Of Stock\n",
      "NEOPLUG TREON                                       Out Of Stock\n",
      "PANDORA NEO CLASSIC 1000                            Out Of Stock\n",
      "SEMI-AUTOMATIC T1                                   Out Of Stock\n",
      "SonicGear SonicGo! 1 | Portable Wireless Speake...  Out Of Stock\n",
      "SPARKPLUG TURBINE                                   Out Of Stock\n",
      "Tessaraxx Command - 8.2R ARGB controller- R1        Out Of Stock\n",
      "TESSERACT Core 2                                    Out Of Stock\n",
      "The Comet | 3200G                                   Out Of Stock\n",
      "TITAN 11 pro btmi                                   Out Of Stock\n",
      "TITAN 5 BTMI                                        Out Of Stock\n",
      "TITAN 9 BTMI                                        Out Of Stock\n",
      "TRON 1x Black                                       Out Of Stock\n",
      "TRON 1x White                                       Out Of Stock\n",
      "TRON HOLO-5 ATX Black                               Out Of Stock\n",
      "X-Craft Air Twilight 2000                           Out Of Stock\n",
      "X-CRAFT HP 1000X                                    Out Of Stock\n",
      "X-CRAFT HP 5 PRO                                    Out Of Stock\n",
      "X-Craft HP- 2000X                                   Out Of Stock\n",
      "X-Craft HP- 5000X                                   Out Of Stock\n",
      "X-Craft HP- 7000X                                   Out Of Stock\n",
      "X-Craft HP- 8000X                                   Out Of Stock\n",
      "Xplorer 2000SL                                      Out Of Stock\n",
      "YK001 Infrared Thermometer                          Out Of Stock\n",
      "Inno3D GTX 1660 Super Twin X2 OC RGB                Out Of Stock\n",
      "AZURE BLADE                                         Out Of Stock\n",
      "AZURE SABER 120MM LED FAN                           Out Of Stock\n",
      "JADE BLADE                                          Out Of Stock\n",
      "JADE SABER 120MM LED FAN                            Out Of Stock\n",
      "SCARLET SABER 120MM LED FAN                         Out Of Stock\n"
     ]
    }
   ],
   "source": [
    "print(data.loc[data[\"price_info\"] == \"Out Of Stock\"])"
   ]
  },
  {
   "cell_type": "code",
   "execution_count": 5,
   "id": "9c32a828",
   "metadata": {},
   "outputs": [
    {
     "name": "stdout",
     "output_type": "stream",
     "text": [
      "price_info  \n",
      "Out Of Stock    44\n",
      "dtype: int64\n"
     ]
    }
   ],
   "source": [
    "print(data.loc[data['price_info'] == \"Out Of Stock\"].value_counts())"
   ]
  },
  {
   "attachments": {
    "Screenshot%202022-12-21%20at%2011.26.54%20PM.png": {
     "image/png": "[encoded data removed]"
    }
   },
   "cell_type": "markdown",
   "id": "4ffe0313",
   "metadata": {},
   "source": [
    "At time of scraping, there were also entries on the website that seemed to be erroneous, where there was \n",
    "\n",
    "* no price data\n",
    "* no graphical information of the product\n",
    "* no indication of out of stock \n",
    "![Screenshot%202022-12-21%20at%2011.26.54%20PM.png](attachment:Screenshot%202022-12-21%20at%2011.26.54%20PM.png)\n"
   ]
  },
  {
   "cell_type": "code",
   "execution_count": 6,
   "id": "58e5a771",
   "metadata": {
    "scrolled": true
   },
   "outputs": [
    {
     "data": {
      "text/plain": [
       "price_info  \n",
       "Missing Data    2\n",
       "dtype: int64"
      ]
     },
     "execution_count": 6,
     "metadata": {},
     "output_type": "execute_result"
    }
   ],
   "source": [
    "data.loc[data['price_info'] == \"Missing Data\"].value_counts()"
   ]
  },
  {
   "cell_type": "markdown",
   "id": "8aaf7614",
   "metadata": {},
   "source": [
    "In total, there are :\n",
    "* 2 erroneous entries \n",
    "* 44 out of stock items \n",
    "\n",
    "As this translates to less than 10% of total items scraped, we can now move towards removing these entries from the dataset"
   ]
  },
  {
   "cell_type": "code",
   "execution_count": 7,
   "id": "eb3986b4",
   "metadata": {},
   "outputs": [],
   "source": [
    "cleaned_data = data[(data['price_info'] != \"Missing Data\") \\\n",
    "                    & (data['price_info'] != \"Out Of Stock\")]"
   ]
  },
  {
   "cell_type": "code",
   "execution_count": 8,
   "id": "30aa6d5d",
   "metadata": {},
   "outputs": [
    {
     "name": "stdout",
     "output_type": "stream",
     "text": [
      "<class 'pandas.core.frame.DataFrame'>\n",
      "Index: 433 entries, Armaggeddon AK-666 to SCARLET DUAL SABER\n",
      "Data columns (total 1 columns):\n",
      " #   Column      Non-Null Count  Dtype \n",
      "---  ------      --------------  ----- \n",
      " 0   price_info  433 non-null    object\n",
      "dtypes: object(1)\n",
      "memory usage: 6.8+ KB\n"
     ]
    }
   ],
   "source": [
    "cleaned_data.info()"
   ]
  },
  {
   "cell_type": "markdown",
   "id": "defd6444",
   "metadata": {},
   "source": [
    "After checking the information for cleaned data that shows there are now 433 items, we can confirm that we have removed a total of 46 entries from the initial 479 items scraped.\n",
    "\n",
    "To be able to work through the rest of the information, the datatype of the price_info column has to be converted into a numerical value we can use for comparisons"
   ]
  },
  {
   "cell_type": "code",
   "execution_count": 9,
   "id": "96fa9ddd",
   "metadata": {},
   "outputs": [
    {
     "data": {
      "text/plain": [
       "array(['SGD24.90', 'SGD999.00', 'SGD9.90', 'SGD19.90', 'SGD59.90',\n",
       "       'SGD69.90', 'SGD6.90', 'SGD8.90', 'SGD22.90', 'SGD29.90',\n",
       "       'SGD44.90', 'SGD16.90', 'SGD39.90', 'SGD49.90', 'SGD99.90',\n",
       "       'SGD5.90', 'SGD1.80', 'SGD2.90', 'SGD13.90', 'SGD1,99', 'SGD1,92',\n",
       "       'SGD2,10', 'SGD2,21', 'SGD2,99', 'SGD2,39', 'SGD109.00',\n",
       "       'SGD25.00', 'SGD189.00', 'SGD79.90', 'SGD12.90', 'SGD14.90',\n",
       "       'SGD29.00', 'SGD8.00', 'SGD30.00', 'SGD199.00', 'SGD129.90',\n",
       "       'SGD99.00', 'SGD1,07', 'SGD1,21', 'SGD32.90', 'SGD47.90',\n",
       "       'SGD20.90', 'SGD35.00', 'SGD55.00', 'SGD249.00', 'SGD3,77',\n",
       "       'SGD149.00', 'SGD219.00', 'SGD289.00', 'SGD599.00', 'SGD1,05',\n",
       "       'SGD1,70', 'SGD1,68', 'SGD2,15', 'SGD70.00', 'SGD15.00',\n",
       "       'SGD89.90', 'SGD339.00', 'SGD16.00', 'SGD1,16', 'SGD1,37',\n",
       "       'SGD679.00', 'SGD149.90', 'SGD799.90', 'SGD45.00', 'SGD40.00',\n",
       "       'SGD139.00', 'SGD279.00', 'SGD269.00', 'SGD299.00', 'SGD369.00',\n",
       "       'SGD20.00', 'SGD23.90', 'SGD259.00', 'SGD89.00', 'SGD129.00',\n",
       "       'SGD28.90', 'SGD34.90', 'SGD18.90', 'SGD1,09', 'SGD1,76',\n",
       "       'SGD1,71', 'SGD1,32', 'SGD1,57', 'SGD18.00', 'SGD19.00',\n",
       "       'SGD229.00', 'SGD139.90', 'SGD169.90', 'SGD22.00', 'SGD10.90',\n",
       "       'SGD17.90', 'SGD399.00', 'SGD1,59', 'SGD11.90'], dtype=object)"
      ]
     },
     "execution_count": 9,
     "metadata": {},
     "output_type": "execute_result"
    }
   ],
   "source": [
    "cleaned_data[\"price_info\"].unique()"
   ]
  },
  {
   "cell_type": "code",
   "execution_count": 10,
   "id": "16eea688",
   "metadata": {},
   "outputs": [
    {
     "data": {
      "text/html": [
       "<div>\n",
       "<style scoped>\n",
       "    .dataframe tbody tr th:only-of-type {\n",
       "        vertical-align: middle;\n",
       "    }\n",
       "\n",
       "    .dataframe tbody tr th {\n",
       "        vertical-align: top;\n",
       "    }\n",
       "\n",
       "    .dataframe thead th {\n",
       "        text-align: right;\n",
       "    }\n",
       "</style>\n",
       "<table border=\"1\" class=\"dataframe\">\n",
       "  <thead>\n",
       "    <tr style=\"text-align: right;\">\n",
       "      <th></th>\n",
       "      <th>price_info</th>\n",
       "    </tr>\n",
       "  </thead>\n",
       "  <tbody>\n",
       "    <tr>\n",
       "      <th>Aqua Hue AMD | 5600X - 3080</th>\n",
       "      <td>SGD1,99</td>\n",
       "    </tr>\n",
       "    <tr>\n",
       "      <th>Aqua Hue Intel | 12600KF - 3080</th>\n",
       "      <td>SGD1,99</td>\n",
       "    </tr>\n",
       "    <tr>\n",
       "      <th>Nimbus Pro Intel | 12400F - 3060</th>\n",
       "      <td>SGD1,37</td>\n",
       "    </tr>\n",
       "  </tbody>\n",
       "</table>\n",
       "</div>"
      ],
      "text/plain": [
       "                                 price_info\n",
       "Aqua Hue AMD | 5600X - 3080         SGD1,99\n",
       "Aqua Hue Intel | 12600KF - 3080     SGD1,99\n",
       "Nimbus Pro Intel | 12400F - 3060    SGD1,37"
      ]
     },
     "execution_count": 10,
     "metadata": {},
     "output_type": "execute_result"
    }
   ],
   "source": [
    "cleaned_data[(cleaned_data[\"price_info\"] == \"SGD1,37\") \\\n",
    "            |(cleaned_data[\"price_info\"] == \"SGD1,99\")]"
   ]
  },
  {
   "cell_type": "markdown",
   "id": "5681b7ff",
   "metadata": {},
   "source": [
    "The prices of the items we see where price was scraped as the string *\"SGD(x),(x)(x)\"* are as follows (taking a sample of all the unique values that were found in the price_info column afer cleaning \n",
    "\n",
    "as per website :\n",
    "* Aqua Hue AMD | 5600X - 3080 - **SGD1,999.00** (recorded from scrape as SGD1,99)\n",
    "* Aqua Hue Intel | 12600KF - 3080 - **SGD1,999.00** (recorded from scrape as SGD1,99)\n",
    "* Nimbus Pro Intel | 12400F - 3060 - **SGD1,379.00** (recorded from scrape as SGD1,37)\n",
    "\n",
    "We can thus ascertain that for price data that has been scraped that contains a **\",\"** , what we should be doing is removing the comma, and then adding a 9 behind the numerical value to get the actual list price of the item"
   ]
  },
  {
   "cell_type": "code",
   "execution_count": 11,
   "id": "8134bfff",
   "metadata": {},
   "outputs": [],
   "source": [
    "cleaned_price = [] #data structure to hold cleaned price data\n",
    "for price in cleaned_data['price_info']:\n",
    "    if \",\" in price: \n",
    "        #if \",\" is in the entry, this is one of the entries that is over value 1,000\n",
    "        #price is to be cleaned as detailed above, then SGD to be removed, whitespace to be removed and typecast to\n",
    "        #float\n",
    "        price = price.strip()\n",
    "        price = price.replace(',', '')\n",
    "        price = price + \"9\"\n",
    "        price = price.replace(\"SGD\", \"\")\n",
    "        cleaned_price.append(float(price))\n",
    "    else: \n",
    "        # if not, it is a normal price entry, then procedure is to only clean whitespace, remove the SGD and typecast\n",
    "        # float (numerical value)\n",
    "        price = price.strip()\n",
    "        price = price.replace(\"SGD\", \"\")\n",
    "        cleaned_price.append(float(price))\n",
    "        "
   ]
  },
  {
   "cell_type": "markdown",
   "id": "ec7b77be",
   "metadata": {},
   "source": [
    "The code block above goes through all the price data in the dataset **cleaned_data** and cleans it according to the comments in the codeblock, storing all the cleaned data first in the cleaned_price list to await transferring over and overwriting the previous price data in the cleaned_data dataset\n",
    "\n",
    "To confirm that we have gotten price data to be cleaned and lined up properly, first we inspect the top 5 and bottom 5 entries of price data before replacing with cleaned price"
   ]
  },
  {
   "cell_type": "markdown",
   "id": "eb3baa08",
   "metadata": {},
   "source": [
    "# PRICE DATA BEFORE - TOP AND BOTTOM 5 ENTRIES "
   ]
  },
  {
   "cell_type": "code",
   "execution_count": 12,
   "id": "f62bdcdf",
   "metadata": {},
   "outputs": [
    {
     "data": {
      "text/html": [
       "<div>\n",
       "<style scoped>\n",
       "    .dataframe tbody tr th:only-of-type {\n",
       "        vertical-align: middle;\n",
       "    }\n",
       "\n",
       "    .dataframe tbody tr th {\n",
       "        vertical-align: top;\n",
       "    }\n",
       "\n",
       "    .dataframe thead th {\n",
       "        text-align: right;\n",
       "    }\n",
       "</style>\n",
       "<table border=\"1\" class=\"dataframe\">\n",
       "  <thead>\n",
       "    <tr style=\"text-align: right;\">\n",
       "      <th></th>\n",
       "      <th>price_info</th>\n",
       "    </tr>\n",
       "  </thead>\n",
       "  <tbody>\n",
       "    <tr>\n",
       "      <th>Armaggeddon AK-666</th>\n",
       "      <td>SGD24.90</td>\n",
       "    </tr>\n",
       "    <tr>\n",
       "      <th>Thunderbolt | 5600G</th>\n",
       "      <td>SGD999.00</td>\n",
       "    </tr>\n",
       "    <tr>\n",
       "      <th>26 ASSAULT AS-33H</th>\n",
       "      <td>SGD9.90</td>\n",
       "    </tr>\n",
       "    <tr>\n",
       "      <th>28 AS-29R</th>\n",
       "      <td>SGD19.90</td>\n",
       "    </tr>\n",
       "    <tr>\n",
       "      <th>AERO III Black</th>\n",
       "      <td>SGD59.90</td>\n",
       "    </tr>\n",
       "  </tbody>\n",
       "</table>\n",
       "</div>"
      ],
      "text/plain": [
       "                    price_info\n",
       "Armaggeddon AK-666    SGD24.90\n",
       "Thunderbolt | 5600G  SGD999.00\n",
       "26 ASSAULT AS-33H      SGD9.90\n",
       "28 AS-29R             SGD19.90\n",
       "AERO III Black        SGD59.90"
      ]
     },
     "execution_count": 12,
     "metadata": {},
     "output_type": "execute_result"
    }
   ],
   "source": [
    "cleaned_data.head()"
   ]
  },
  {
   "cell_type": "code",
   "execution_count": 13,
   "id": "ba1b492f",
   "metadata": {
    "scrolled": true
   },
   "outputs": [
    {
     "data": {
      "text/html": [
       "<div>\n",
       "<style scoped>\n",
       "    .dataframe tbody tr th:only-of-type {\n",
       "        vertical-align: middle;\n",
       "    }\n",
       "\n",
       "    .dataframe tbody tr th {\n",
       "        vertical-align: top;\n",
       "    }\n",
       "\n",
       "    .dataframe thead th {\n",
       "        text-align: right;\n",
       "    }\n",
       "</style>\n",
       "<table border=\"1\" class=\"dataframe\">\n",
       "  <thead>\n",
       "    <tr style=\"text-align: right;\">\n",
       "      <th></th>\n",
       "      <th>price_info</th>\n",
       "    </tr>\n",
       "  </thead>\n",
       "  <tbody>\n",
       "    <tr>\n",
       "      <th>Asic 7 RGB FX</th>\n",
       "      <td>SGD6.90</td>\n",
       "    </tr>\n",
       "    <tr>\n",
       "      <th>AZURE DUAL SABER</th>\n",
       "      <td>SGD13.90</td>\n",
       "    </tr>\n",
       "    <tr>\n",
       "      <th>JADE DUAL SABER</th>\n",
       "      <td>SGD13.90</td>\n",
       "    </tr>\n",
       "    <tr>\n",
       "      <th>SCARLET BLADE</th>\n",
       "      <td>SGD9.90</td>\n",
       "    </tr>\n",
       "    <tr>\n",
       "      <th>SCARLET DUAL SABER</th>\n",
       "      <td>SGD13.90</td>\n",
       "    </tr>\n",
       "  </tbody>\n",
       "</table>\n",
       "</div>"
      ],
      "text/plain": [
       "                   price_info\n",
       "Asic 7 RGB FX         SGD6.90\n",
       "AZURE DUAL SABER     SGD13.90\n",
       "JADE DUAL SABER      SGD13.90\n",
       "SCARLET BLADE         SGD9.90\n",
       "SCARLET DUAL SABER   SGD13.90"
      ]
     },
     "execution_count": 13,
     "metadata": {},
     "output_type": "execute_result"
    }
   ],
   "source": [
    "cleaned_data.tail()"
   ]
  },
  {
   "cell_type": "markdown",
   "id": "e30135a0",
   "metadata": {},
   "source": [
    "# PRICE AFTER CLEANING - TOP AND BOTTOM 5 ENTRIES"
   ]
  },
  {
   "cell_type": "code",
   "execution_count": 14,
   "id": "c4d2787a",
   "metadata": {},
   "outputs": [
    {
     "name": "stderr",
     "output_type": "stream",
     "text": [
      "/var/folders/pq/6k_969mj2vz2_1xd9b8z0wr00000gn/T/ipykernel_49426/1833700874.py:1: SettingWithCopyWarning: \n",
      "A value is trying to be set on a copy of a slice from a DataFrame.\n",
      "Try using .loc[row_indexer,col_indexer] = value instead\n",
      "\n",
      "See the caveats in the documentation: https://pandas.pydata.org/pandas-docs/stable/user_guide/indexing.html#returning-a-view-versus-a-copy\n",
      "  cleaned_data[\"price_info\"] = cleaned_price\n"
     ]
    },
    {
     "data": {
      "text/html": [
       "<div>\n",
       "<style scoped>\n",
       "    .dataframe tbody tr th:only-of-type {\n",
       "        vertical-align: middle;\n",
       "    }\n",
       "\n",
       "    .dataframe tbody tr th {\n",
       "        vertical-align: top;\n",
       "    }\n",
       "\n",
       "    .dataframe thead th {\n",
       "        text-align: right;\n",
       "    }\n",
       "</style>\n",
       "<table border=\"1\" class=\"dataframe\">\n",
       "  <thead>\n",
       "    <tr style=\"text-align: right;\">\n",
       "      <th></th>\n",
       "      <th>price_info</th>\n",
       "    </tr>\n",
       "  </thead>\n",
       "  <tbody>\n",
       "    <tr>\n",
       "      <th>Armaggeddon AK-666</th>\n",
       "      <td>24.9</td>\n",
       "    </tr>\n",
       "    <tr>\n",
       "      <th>Thunderbolt | 5600G</th>\n",
       "      <td>999.0</td>\n",
       "    </tr>\n",
       "    <tr>\n",
       "      <th>26 ASSAULT AS-33H</th>\n",
       "      <td>9.9</td>\n",
       "    </tr>\n",
       "    <tr>\n",
       "      <th>28 AS-29R</th>\n",
       "      <td>19.9</td>\n",
       "    </tr>\n",
       "    <tr>\n",
       "      <th>AERO III Black</th>\n",
       "      <td>59.9</td>\n",
       "    </tr>\n",
       "  </tbody>\n",
       "</table>\n",
       "</div>"
      ],
      "text/plain": [
       "                     price_info\n",
       "Armaggeddon AK-666         24.9\n",
       "Thunderbolt | 5600G       999.0\n",
       "26 ASSAULT AS-33H           9.9\n",
       "28 AS-29R                  19.9\n",
       "AERO III Black             59.9"
      ]
     },
     "execution_count": 14,
     "metadata": {},
     "output_type": "execute_result"
    }
   ],
   "source": [
    "cleaned_data[\"price_info\"] = cleaned_price\n",
    "cleaned_data.head()"
   ]
  },
  {
   "cell_type": "code",
   "execution_count": 15,
   "id": "7899b623",
   "metadata": {},
   "outputs": [
    {
     "data": {
      "text/html": [
       "<div>\n",
       "<style scoped>\n",
       "    .dataframe tbody tr th:only-of-type {\n",
       "        vertical-align: middle;\n",
       "    }\n",
       "\n",
       "    .dataframe tbody tr th {\n",
       "        vertical-align: top;\n",
       "    }\n",
       "\n",
       "    .dataframe thead th {\n",
       "        text-align: right;\n",
       "    }\n",
       "</style>\n",
       "<table border=\"1\" class=\"dataframe\">\n",
       "  <thead>\n",
       "    <tr style=\"text-align: right;\">\n",
       "      <th></th>\n",
       "      <th>price_info</th>\n",
       "    </tr>\n",
       "  </thead>\n",
       "  <tbody>\n",
       "    <tr>\n",
       "      <th>Asic 7 RGB FX</th>\n",
       "      <td>6.9</td>\n",
       "    </tr>\n",
       "    <tr>\n",
       "      <th>AZURE DUAL SABER</th>\n",
       "      <td>13.9</td>\n",
       "    </tr>\n",
       "    <tr>\n",
       "      <th>JADE DUAL SABER</th>\n",
       "      <td>13.9</td>\n",
       "    </tr>\n",
       "    <tr>\n",
       "      <th>SCARLET BLADE</th>\n",
       "      <td>9.9</td>\n",
       "    </tr>\n",
       "    <tr>\n",
       "      <th>SCARLET DUAL SABER</th>\n",
       "      <td>13.9</td>\n",
       "    </tr>\n",
       "  </tbody>\n",
       "</table>\n",
       "</div>"
      ],
      "text/plain": [
       "                    price_info\n",
       "Asic 7 RGB FX              6.9\n",
       "AZURE DUAL SABER          13.9\n",
       "JADE DUAL SABER           13.9\n",
       "SCARLET BLADE              9.9\n",
       "SCARLET DUAL SABER        13.9"
      ]
     },
     "execution_count": 15,
     "metadata": {},
     "output_type": "execute_result"
    }
   ],
   "source": [
    "cleaned_data.tail()"
   ]
  },
  {
   "cell_type": "markdown",
   "id": "b7b12ecf",
   "metadata": {},
   "source": [
    "We can ascertain from looking through the top and bottom 5 rows of the data both before and after the price information has been cleaned that the price info has transferred properly in line \n",
    "\n",
    "We should now also check through some of the previous items that has commas in them, to ensure that those have been converted properly.\n",
    "\n",
    "**BEFORE**\n",
    "\n",
    "array(['SGD24.90', 'SGD999.00', 'SGD9.90', 'SGD19.90', 'SGD59.90',\n",
    "       'SGD69.90', 'SGD6.90', 'SGD8.90', 'SGD22.90', 'SGD29.90',\n",
    "       'SGD44.90', 'SGD16.90', 'SGD39.90', 'SGD49.90', 'SGD99.90',\n",
    "       'SGD5.90', 'SGD1.80', 'SGD2.90', 'SGD13.90', 'SGD1,99', 'SGD1,92',\n",
    "       'SGD2,10', 'SGD2,21', 'SGD2,99', 'SGD2,39', 'SGD109.00',\n",
    "       'SGD25.00', 'SGD189.00', 'SGD79.90', 'SGD12.90', 'SGD14.90',\n",
    "       'SGD29.00', 'SGD8.00', 'SGD30.00', 'SGD199.00', 'SGD129.90',\n",
    "       'SGD99.00', 'SGD1,07', 'SGD1,21', 'SGD32.90', 'SGD47.90',\n",
    "       'SGD20.90', 'SGD35.00', 'SGD55.00', 'SGD249.00', 'SGD3,77',\n",
    "       'SGD149.00', 'SGD219.00', 'SGD289.00', 'SGD599.00', 'SGD1,05',\n",
    "       'SGD1,70', 'SGD1,68', 'SGD2,15', 'SGD70.00', 'SGD15.00',\n",
    "       'SGD89.90', 'SGD339.00', 'SGD16.00', 'SGD1,16', 'SGD1,37',\n",
    "       'SGD679.00', 'SGD149.90', 'SGD799.90', 'SGD45.00', 'SGD40.00',\n",
    "       'SGD139.00', 'SGD279.00', 'SGD269.00', 'SGD299.00', 'SGD369.00',\n",
    "       'SGD20.00', 'SGD23.90', 'SGD259.00', 'SGD89.00', 'SGD129.00',\n",
    "       'SGD28.90', 'SGD34.90', 'SGD18.90', 'SGD1,09', 'SGD1,76',\n",
    "       'SGD1,71', 'SGD1,32', 'SGD1,57', 'SGD18.00', 'SGD19.00',\n",
    "       'SGD229.00', 'SGD139.90', 'SGD169.90', 'SGD22.00', 'SGD10.90',\n",
    "       'SGD17.90', 'SGD399.00', 'SGD1,59', 'SGD11.90'], dtype=object)\n",
    "       \n",
    "**AFTER**\n"
   ]
  },
  {
   "cell_type": "code",
   "execution_count": 16,
   "id": "0b7afe1f",
   "metadata": {},
   "outputs": [
    {
     "data": {
      "text/plain": [
       "array([  24.9,  999. ,    9.9,   19.9,   59.9,   69.9,    6.9,    8.9,\n",
       "         22.9,   29.9,   44.9,   16.9,   39.9,   49.9,   99.9,    5.9,\n",
       "          1.8,    2.9,   13.9, 1999. , 1929. , 2109. , 2219. , 2999. ,\n",
       "       2399. ,  109. ,   25. ,  189. ,   79.9,   12.9,   14.9,   29. ,\n",
       "          8. ,   30. ,  199. ,  129.9,   99. , 1079. , 1219. ,   32.9,\n",
       "         47.9,   20.9,   35. ,   55. ,  249. , 3779. ,  149. ,  219. ,\n",
       "        289. ,  599. , 1059. , 1709. , 1689. , 2159. ,   70. ,   15. ,\n",
       "         89.9,  339. ,   16. , 1169. , 1379. ,  679. ,  149.9,  799.9,\n",
       "         45. ,   40. ,  139. ,  279. ,  269. ,  299. ,  369. ,   20. ,\n",
       "         23.9,  259. ,   89. ,  129. ,   28.9,   34.9,   18.9, 1099. ,\n",
       "       1769. , 1719. , 1329. , 1579. ,   18. ,   19. ,  229. ,  139.9,\n",
       "        169.9,   22. ,   10.9,   17.9,  399. , 1599. ,   11.9])"
      ]
     },
     "execution_count": 16,
     "metadata": {},
     "output_type": "execute_result"
    }
   ],
   "source": [
    "np.set_printoptions(suppress = True)\n",
    "cleaned_data[\"price_info\"].round(2).unique()"
   ]
  },
  {
   "cell_type": "markdown",
   "id": "cdc4bdd1",
   "metadata": {},
   "source": [
    "By checking through the unique values both before and after, we can now ascertain that all values that previous had \",\" in them have been converted to the correct price"
   ]
  },
  {
   "cell_type": "code",
   "execution_count": 17,
   "id": "9d4a9e19",
   "metadata": {},
   "outputs": [
    {
     "data": {
      "text/html": [
       "<div>\n",
       "<style scoped>\n",
       "    .dataframe tbody tr th:only-of-type {\n",
       "        vertical-align: middle;\n",
       "    }\n",
       "\n",
       "    .dataframe tbody tr th {\n",
       "        vertical-align: top;\n",
       "    }\n",
       "\n",
       "    .dataframe thead th {\n",
       "        text-align: right;\n",
       "    }\n",
       "</style>\n",
       "<table border=\"1\" class=\"dataframe\">\n",
       "  <thead>\n",
       "    <tr style=\"text-align: right;\">\n",
       "      <th></th>\n",
       "      <th>price_info</th>\n",
       "    </tr>\n",
       "  </thead>\n",
       "  <tbody>\n",
       "    <tr>\n",
       "      <th>count</th>\n",
       "      <td>433.000000</td>\n",
       "    </tr>\n",
       "    <tr>\n",
       "      <th>mean</th>\n",
       "      <td>153.166513</td>\n",
       "    </tr>\n",
       "    <tr>\n",
       "      <th>std</th>\n",
       "      <td>444.937511</td>\n",
       "    </tr>\n",
       "    <tr>\n",
       "      <th>min</th>\n",
       "      <td>1.800000</td>\n",
       "    </tr>\n",
       "    <tr>\n",
       "      <th>25%</th>\n",
       "      <td>16.000000</td>\n",
       "    </tr>\n",
       "    <tr>\n",
       "      <th>50%</th>\n",
       "      <td>32.900000</td>\n",
       "    </tr>\n",
       "    <tr>\n",
       "      <th>75%</th>\n",
       "      <td>59.900000</td>\n",
       "    </tr>\n",
       "    <tr>\n",
       "      <th>max</th>\n",
       "      <td>3779.000000</td>\n",
       "    </tr>\n",
       "  </tbody>\n",
       "</table>\n",
       "</div>"
      ],
      "text/plain": [
       "        price_info\n",
       "count   433.000000\n",
       "mean    153.166513\n",
       "std     444.937511\n",
       "min       1.800000\n",
       "25%      16.000000\n",
       "50%      32.900000\n",
       "75%      59.900000\n",
       "max    3779.000000"
      ]
     },
     "execution_count": 17,
     "metadata": {},
     "output_type": "execute_result"
    }
   ],
   "source": [
    "cleaned_data.describe()"
   ]
  },
  {
   "cell_type": "markdown",
   "id": "75ac5734",
   "metadata": {},
   "source": [
    "An initial glance over the statistics shows that while the mean price of all values is 153.16, the 75th percentile price is only 59.90. \n",
    "\n",
    "This means that of the 433 items that that we can scrape data for, a large percentage of the items available are lower priced items (which would make sense since on a per item basis a lot of the items that Leapfrog Global sells are accessories/peripherals)"
   ]
  },
  {
   "cell_type": "code",
   "execution_count": 18,
   "id": "61507a0f",
   "metadata": {},
   "outputs": [
    {
     "data": {
      "text/html": [
       "<div>\n",
       "<style scoped>\n",
       "    .dataframe tbody tr th:only-of-type {\n",
       "        vertical-align: middle;\n",
       "    }\n",
       "\n",
       "    .dataframe tbody tr th {\n",
       "        vertical-align: top;\n",
       "    }\n",
       "\n",
       "    .dataframe thead th {\n",
       "        text-align: right;\n",
       "    }\n",
       "</style>\n",
       "<table border=\"1\" class=\"dataframe\">\n",
       "  <thead>\n",
       "    <tr style=\"text-align: right;\">\n",
       "      <th></th>\n",
       "      <th>price_info</th>\n",
       "    </tr>\n",
       "  </thead>\n",
       "  <tbody>\n",
       "    <tr>\n",
       "      <th>i7 12700KF - 3080 APEX 8</th>\n",
       "      <td>3779.0</td>\n",
       "    </tr>\n",
       "    <tr>\n",
       "      <th>Aqua Tank Extreme AMD | 5800X - 3090</th>\n",
       "      <td>2999.0</td>\n",
       "    </tr>\n",
       "    <tr>\n",
       "      <th>ULTRO 2 Spyder</th>\n",
       "      <td>2999.0</td>\n",
       "    </tr>\n",
       "    <tr>\n",
       "      <th>Aqua Tank Intel | 12600K - 3080 Ti</th>\n",
       "      <td>2399.0</td>\n",
       "    </tr>\n",
       "    <tr>\n",
       "      <th>Aqua Tank AMD | 5600X - 3080 Ti</th>\n",
       "      <td>2219.0</td>\n",
       "    </tr>\n",
       "    <tr>\n",
       "      <th>INNO3D GEFORCE RTX 3090 X3</th>\n",
       "      <td>2159.0</td>\n",
       "    </tr>\n",
       "    <tr>\n",
       "      <th>Aqua Pro Intel | 12600KF - 3070 Ti</th>\n",
       "      <td>2109.0</td>\n",
       "    </tr>\n",
       "    <tr>\n",
       "      <th>Aqua Hue AMD | 5600X - 3080</th>\n",
       "      <td>1999.0</td>\n",
       "    </tr>\n",
       "    <tr>\n",
       "      <th>Aqua Hue Intel | 12600KF - 3080</th>\n",
       "      <td>1999.0</td>\n",
       "    </tr>\n",
       "    <tr>\n",
       "      <th>Aqua Pro AMD | 5600X - 3070 Ti</th>\n",
       "      <td>1929.0</td>\n",
       "    </tr>\n",
       "    <tr>\n",
       "      <th>Thunderbolt Extreme AMD | 5600X - 3070</th>\n",
       "      <td>1769.0</td>\n",
       "    </tr>\n",
       "    <tr>\n",
       "      <th>Thunderbolt Extreme Intel | 12400F - 3070</th>\n",
       "      <td>1719.0</td>\n",
       "    </tr>\n",
       "    <tr>\n",
       "      <th>INNO3D GEFORCE RTX 3080 TI ICHILL X4</th>\n",
       "      <td>1709.0</td>\n",
       "    </tr>\n",
       "    <tr>\n",
       "      <th>Inno3d Geforce RTX 3080Ti Ichill X 3 OC</th>\n",
       "      <td>1689.0</td>\n",
       "    </tr>\n",
       "    <tr>\n",
       "      <th>NZXT H1 i5 12400F - 3060</th>\n",
       "      <td>1599.0</td>\n",
       "    </tr>\n",
       "    <tr>\n",
       "      <th>Thunderbolt Pro Intel | 12400F - 3060 Ti</th>\n",
       "      <td>1579.0</td>\n",
       "    </tr>\n",
       "    <tr>\n",
       "      <th>Nimbus Pro Intel | 12400F - 3060</th>\n",
       "      <td>1379.0</td>\n",
       "    </tr>\n",
       "    <tr>\n",
       "      <th>Thunderbolt Pro AMD | 5500 - 3060 Ti</th>\n",
       "      <td>1329.0</td>\n",
       "    </tr>\n",
       "    <tr>\n",
       "      <th>Comet Pro Intel | 12400F - 3050</th>\n",
       "      <td>1219.0</td>\n",
       "    </tr>\n",
       "    <tr>\n",
       "      <th>Nimbus Pro AMD | 5500 - 3060</th>\n",
       "      <td>1169.0</td>\n",
       "    </tr>\n",
       "    <tr>\n",
       "      <th>The Nebula | i5 11400F - 3050</th>\n",
       "      <td>1099.0</td>\n",
       "    </tr>\n",
       "    <tr>\n",
       "      <th>Comet Pro AMD | 5500 - 3050</th>\n",
       "      <td>1079.0</td>\n",
       "    </tr>\n",
       "    <tr>\n",
       "      <th>INNO3D GEFORCE RTX 3070 TI ICHILL X4</th>\n",
       "      <td>1059.0</td>\n",
       "    </tr>\n",
       "  </tbody>\n",
       "</table>\n",
       "</div>"
      ],
      "text/plain": [
       "                                           price_info\n",
       "i7 12700KF - 3080 APEX 8                       3779.0\n",
       "Aqua Tank Extreme AMD | 5800X - 3090           2999.0\n",
       "ULTRO 2 Spyder                                 2999.0\n",
       "Aqua Tank Intel | 12600K - 3080 Ti             2399.0\n",
       "Aqua Tank AMD | 5600X - 3080 Ti                2219.0\n",
       "INNO3D GEFORCE RTX 3090 X3                     2159.0\n",
       "Aqua Pro Intel | 12600KF - 3070 Ti             2109.0\n",
       "Aqua Hue AMD | 5600X - 3080                    1999.0\n",
       "Aqua Hue Intel | 12600KF - 3080                1999.0\n",
       "Aqua Pro AMD | 5600X - 3070 Ti                 1929.0\n",
       "Thunderbolt Extreme AMD | 5600X - 3070         1769.0\n",
       "Thunderbolt Extreme Intel | 12400F - 3070      1719.0\n",
       "INNO3D GEFORCE RTX 3080 TI ICHILL X4           1709.0\n",
       "Inno3d Geforce RTX 3080Ti Ichill X 3 OC        1689.0\n",
       "NZXT H1 i5 12400F - 3060                       1599.0\n",
       "Thunderbolt Pro Intel | 12400F - 3060 Ti       1579.0\n",
       "Nimbus Pro Intel | 12400F - 3060               1379.0\n",
       "Thunderbolt Pro AMD | 5500 - 3060 Ti           1329.0\n",
       "Comet Pro Intel | 12400F - 3050                1219.0\n",
       "Nimbus Pro AMD | 5500 - 3060                   1169.0\n",
       "The Nebula | i5 11400F - 3050                  1099.0\n",
       "Comet Pro AMD | 5500 - 3050                    1079.0\n",
       "INNO3D GEFORCE RTX 3070 TI ICHILL X4           1059.0"
      ]
     },
     "execution_count": 18,
     "metadata": {},
     "output_type": "execute_result"
    }
   ],
   "source": [
    "cleaned_data[cleaned_data[\"price_info\"] > 999].sort_values(\"price_info\", \\\n",
    "                                                          ascending = False)"
   ]
  },
  {
   "cell_type": "code",
   "execution_count": 19,
   "id": "2e982eda",
   "metadata": {},
   "outputs": [
    {
     "data": {
      "text/plain": [
       "23"
      ]
     },
     "execution_count": 19,
     "metadata": {},
     "output_type": "execute_result"
    }
   ],
   "source": [
    "cleaned_data[cleaned_data[\"price_info\"] > 999].value_counts().sum()"
   ]
  },
  {
   "cell_type": "markdown",
   "id": "5d275a0c",
   "metadata": {},
   "source": [
    "In total, there are 23 items with price listed 1000 and above, mainly made up of :\n",
    "* CPU's\n",
    "* High End Graphics Cards "
   ]
  },
  {
   "cell_type": "code",
   "execution_count": 20,
   "id": "b4f32537",
   "metadata": {},
   "outputs": [
    {
     "data": {
      "text/html": [
       "<div>\n",
       "<style scoped>\n",
       "    .dataframe tbody tr th:only-of-type {\n",
       "        vertical-align: middle;\n",
       "    }\n",
       "\n",
       "    .dataframe tbody tr th {\n",
       "        vertical-align: top;\n",
       "    }\n",
       "\n",
       "    .dataframe thead th {\n",
       "        text-align: right;\n",
       "    }\n",
       "</style>\n",
       "<table border=\"1\" class=\"dataframe\">\n",
       "  <thead>\n",
       "    <tr style=\"text-align: right;\">\n",
       "      <th></th>\n",
       "      <th>price_info</th>\n",
       "    </tr>\n",
       "  </thead>\n",
       "  <tbody>\n",
       "    <tr>\n",
       "      <th>Thunderbolt | 5600G</th>\n",
       "      <td>999.0</td>\n",
       "    </tr>\n",
       "    <tr>\n",
       "      <th>INNO3D GEFORCE RTX 3060 TWIN X2 OC</th>\n",
       "      <td>599.0</td>\n",
       "    </tr>\n",
       "    <tr>\n",
       "      <th>Nimbus | 4650G</th>\n",
       "      <td>679.0</td>\n",
       "    </tr>\n",
       "    <tr>\n",
       "      <th>NIMITZ ULTRON</th>\n",
       "      <td>799.9</td>\n",
       "    </tr>\n",
       "  </tbody>\n",
       "</table>\n",
       "</div>"
      ],
      "text/plain": [
       "                                    price_info\n",
       "Thunderbolt | 5600G                      999.0\n",
       "INNO3D GEFORCE RTX 3060 TWIN X2 OC       599.0\n",
       "Nimbus | 4650G                           679.0\n",
       "NIMITZ ULTRON                            799.9"
      ]
     },
     "execution_count": 20,
     "metadata": {},
     "output_type": "execute_result"
    }
   ],
   "source": [
    "cleaned_data[(cleaned_data[\"price_info\"] > 499) & \\\n",
    "            (cleaned_data[\"price_info\"] <= 999)]"
   ]
  },
  {
   "cell_type": "markdown",
   "id": "6517b2f0",
   "metadata": {},
   "source": [
    "Between the price range of 500 to 999, LeapFrog Global has 4 items with prices listed on their website. It would appear at this price range, the items are  either CPU's, Graphics cards, or CPU cases."
   ]
  },
  {
   "cell_type": "code",
   "execution_count": 21,
   "id": "7a24d191",
   "metadata": {},
   "outputs": [
    {
     "data": {
      "text/html": [
       "<div>\n",
       "<style scoped>\n",
       "    .dataframe tbody tr th:only-of-type {\n",
       "        vertical-align: middle;\n",
       "    }\n",
       "\n",
       "    .dataframe tbody tr th {\n",
       "        vertical-align: top;\n",
       "    }\n",
       "\n",
       "    .dataframe thead th {\n",
       "        text-align: right;\n",
       "    }\n",
       "</style>\n",
       "<table border=\"1\" class=\"dataframe\">\n",
       "  <thead>\n",
       "    <tr style=\"text-align: right;\">\n",
       "      <th></th>\n",
       "      <th>price_info</th>\n",
       "    </tr>\n",
       "  </thead>\n",
       "  <tbody>\n",
       "    <tr>\n",
       "      <th>INNO3D GEFORCE GTX 1650 TWIN X2 OC</th>\n",
       "      <td>289.0</td>\n",
       "    </tr>\n",
       "    <tr>\n",
       "      <th>Nebuka III</th>\n",
       "      <td>339.0</td>\n",
       "    </tr>\n",
       "    <tr>\n",
       "      <th>Pixxel+ Pro PF24HD Super IPS Gaming Monitor</th>\n",
       "      <td>279.0</td>\n",
       "    </tr>\n",
       "    <tr>\n",
       "      <th>Pixxel+ Pro PSC24HD Super Curve Gaming Monitor</th>\n",
       "      <td>269.0</td>\n",
       "    </tr>\n",
       "    <tr>\n",
       "      <th>Pixxel+ Xtreme XSC24HD Super Gaming Curve Monitor</th>\n",
       "      <td>339.0</td>\n",
       "    </tr>\n",
       "    <tr>\n",
       "      <th>Pixxel+ Xtreme XSC27HD Super Gaming Curve Monitor</th>\n",
       "      <td>299.0</td>\n",
       "    </tr>\n",
       "    <tr>\n",
       "      <th>PIXXEL+ XTREME XSC32HD SuperCurve 165Hz Black</th>\n",
       "      <td>369.0</td>\n",
       "    </tr>\n",
       "    <tr>\n",
       "      <th>Shuttle II</th>\n",
       "      <td>259.0</td>\n",
       "    </tr>\n",
       "    <tr>\n",
       "      <th>Starship VI</th>\n",
       "      <td>369.0</td>\n",
       "    </tr>\n",
       "    <tr>\n",
       "      <th>STUDIO POD</th>\n",
       "      <td>299.0</td>\n",
       "    </tr>\n",
       "    <tr>\n",
       "      <th>STUDIOBOX-2HD</th>\n",
       "      <td>279.0</td>\n",
       "    </tr>\n",
       "    <tr>\n",
       "      <th>Automatic T1</th>\n",
       "      <td>399.0</td>\n",
       "    </tr>\n",
       "  </tbody>\n",
       "</table>\n",
       "</div>"
      ],
      "text/plain": [
       "                                                   price_info\n",
       "INNO3D GEFORCE GTX 1650 TWIN X2 OC                      289.0\n",
       "Nebuka III                                              339.0\n",
       "Pixxel+ Pro PF24HD Super IPS Gaming Monitor             279.0\n",
       "Pixxel+ Pro PSC24HD Super Curve Gaming Monitor          269.0\n",
       "Pixxel+ Xtreme XSC24HD Super Gaming Curve Monitor       339.0\n",
       "Pixxel+ Xtreme XSC27HD Super Gaming Curve Monitor       299.0\n",
       "PIXXEL+ XTREME XSC32HD SuperCurve 165Hz Black           369.0\n",
       "Shuttle II                                              259.0\n",
       "Starship VI                                             369.0\n",
       "STUDIO POD                                              299.0\n",
       "STUDIOBOX-2HD                                           279.0\n",
       "Automatic T1                                            399.0"
      ]
     },
     "execution_count": 21,
     "metadata": {},
     "output_type": "execute_result"
    }
   ],
   "source": [
    "cleaned_data[(cleaned_data[\"price_info\"] > 249) & \\\n",
    "            (cleaned_data[\"price_info\"] <= 499)]"
   ]
  },
  {
   "cell_type": "markdown",
   "id": "e7b0feb6",
   "metadata": {},
   "source": [
    "Between the prices of 250 and 499, we see the product line made up of :\n",
    "\n",
    "* Graphics cards\n",
    "* Monitors \n",
    "* Gaming Chairs \n",
    "* Speakers\n",
    "* Standing Tables \n",
    "\n",
    "At this price range for this line of products, we can see that compared to competitors on the market offering similar products, Leapfrog Global is priced competitively but not at the lower end of price ranges that competitors are offering for similar products. \n",
    "\n",
    "It would be interesting to speak and discuss on the company's strategy in dealing with this sector of the market as from speaking to other companies it would seem that if there is a correct product market fit to drive purchasing volumes, margins would allow for high profitability."
   ]
  },
  {
   "cell_type": "code",
   "execution_count": 22,
   "id": "31f36d79",
   "metadata": {
    "scrolled": true
   },
   "outputs": [
    {
     "data": {
      "text/html": [
       "<div>\n",
       "<style scoped>\n",
       "    .dataframe tbody tr th:only-of-type {\n",
       "        vertical-align: middle;\n",
       "    }\n",
       "\n",
       "    .dataframe tbody tr th {\n",
       "        vertical-align: top;\n",
       "    }\n",
       "\n",
       "    .dataframe thead th {\n",
       "        text-align: right;\n",
       "    }\n",
       "</style>\n",
       "<table border=\"1\" class=\"dataframe\">\n",
       "  <thead>\n",
       "    <tr style=\"text-align: right;\">\n",
       "      <th></th>\n",
       "      <th>price_info</th>\n",
       "    </tr>\n",
       "  </thead>\n",
       "  <tbody>\n",
       "    <tr>\n",
       "      <th>AirStream R140</th>\n",
       "      <td>99.9</td>\n",
       "    </tr>\n",
       "    <tr>\n",
       "      <th>AirStream R200</th>\n",
       "      <td>99.9</td>\n",
       "    </tr>\n",
       "    <tr>\n",
       "      <th>AirStream S140</th>\n",
       "      <td>99.9</td>\n",
       "    </tr>\n",
       "    <tr>\n",
       "      <th>ARCTIC FREEZE PRO 240</th>\n",
       "      <td>109.0</td>\n",
       "    </tr>\n",
       "    <tr>\n",
       "      <th>ARCTIC FREEZE PRO 360</th>\n",
       "      <td>109.0</td>\n",
       "    </tr>\n",
       "    <tr>\n",
       "      <th>Armaggeddon Mechanic M2 Articulating Gas Spring Monitor Arm</th>\n",
       "      <td>189.0</td>\n",
       "    </tr>\n",
       "    <tr>\n",
       "      <th>Armaggeddon Sonic Pulse 2.0 Gaming Speaker</th>\n",
       "      <td>99.9</td>\n",
       "    </tr>\n",
       "    <tr>\n",
       "      <th>AudioX Pro 800 HD</th>\n",
       "      <td>199.0</td>\n",
       "    </tr>\n",
       "    <tr>\n",
       "      <th>BASE-47 BADGE Black</th>\n",
       "      <td>129.9</td>\n",
       "    </tr>\n",
       "    <tr>\n",
       "      <th>BASE-47 WINGS Yellow</th>\n",
       "      <td>99.9</td>\n",
       "    </tr>\n",
       "    <tr>\n",
       "      <th>EVO 11</th>\n",
       "      <td>109.0</td>\n",
       "    </tr>\n",
       "    <tr>\n",
       "      <th>Gravastar</th>\n",
       "      <td>249.0</td>\n",
       "    </tr>\n",
       "    <tr>\n",
       "      <th>HAGANE H-3 Red LED Fan</th>\n",
       "      <td>99.9</td>\n",
       "    </tr>\n",
       "    <tr>\n",
       "      <th>IINVICTOR Soturi</th>\n",
       "      <td>149.0</td>\n",
       "    </tr>\n",
       "    <tr>\n",
       "      <th>IINVICTOR Soturi+</th>\n",
       "      <td>219.0</td>\n",
       "    </tr>\n",
       "    <tr>\n",
       "      <th>NIMITZ TR 7000 Black</th>\n",
       "      <td>149.9</td>\n",
       "    </tr>\n",
       "    <tr>\n",
       "      <th>Nimitz TR8000</th>\n",
       "      <td>149.9</td>\n",
       "    </tr>\n",
       "    <tr>\n",
       "      <th>Pixxel+ Pro PF22HD Super 2022 Gaming Monitor</th>\n",
       "      <td>139.0</td>\n",
       "    </tr>\n",
       "    <tr>\n",
       "      <th>Pixxel+ Pro PSC27HD Curve Gaming Monitor</th>\n",
       "      <td>219.0</td>\n",
       "    </tr>\n",
       "    <tr>\n",
       "      <th>REVOLVER T1</th>\n",
       "      <td>199.0</td>\n",
       "    </tr>\n",
       "    <tr>\n",
       "      <th>SHUTTLE RGB Black</th>\n",
       "      <td>199.0</td>\n",
       "    </tr>\n",
       "    <tr>\n",
       "      <th>SHUTTLE RGB Yellow</th>\n",
       "      <td>199.0</td>\n",
       "    </tr>\n",
       "    <tr>\n",
       "      <th>SONICBAR BT-6500 Sound Bar</th>\n",
       "      <td>129.0</td>\n",
       "    </tr>\n",
       "    <tr>\n",
       "      <th>SONICBAR BT5500 AIRBASS Sound Bar</th>\n",
       "      <td>129.0</td>\n",
       "    </tr>\n",
       "    <tr>\n",
       "      <th>SONICBAR BT5500 AIRBASS Subwoofer</th>\n",
       "      <td>129.0</td>\n",
       "    </tr>\n",
       "    <tr>\n",
       "      <th>SONICBAR BT6500 Sound Bar</th>\n",
       "      <td>129.0</td>\n",
       "    </tr>\n",
       "    <tr>\n",
       "      <th>SONICBAR BT6500 Subwoofer</th>\n",
       "      <td>129.0</td>\n",
       "    </tr>\n",
       "    <tr>\n",
       "      <th>SonicGear BT5500 SonicBar Airbass Digital Optical Audio with Wireless Subwoofer [Bluetooth/USBPlayback/FM/Line in/HDMI]</th>\n",
       "      <td>129.0</td>\n",
       "    </tr>\n",
       "    <tr>\n",
       "      <th>ULTRO 3 Spyder</th>\n",
       "      <td>229.0</td>\n",
       "    </tr>\n",
       "    <tr>\n",
       "      <th>VOLTRON PLATINUM 1200 Modular</th>\n",
       "      <td>139.9</td>\n",
       "    </tr>\n",
       "    <tr>\n",
       "      <th>VOLTRON PLATINUM 850 Modular</th>\n",
       "      <td>99.9</td>\n",
       "    </tr>\n",
       "    <tr>\n",
       "      <th>WM 8800 UL DUAL</th>\n",
       "      <td>169.9</td>\n",
       "    </tr>\n",
       "    <tr>\n",
       "      <th>WMC 6600RR DUAL</th>\n",
       "      <td>129.9</td>\n",
       "    </tr>\n",
       "  </tbody>\n",
       "</table>\n",
       "</div>"
      ],
      "text/plain": [
       "                                                    price_info\n",
       "AirStream R140                                            99.9\n",
       "AirStream R200                                            99.9\n",
       "AirStream S140                                            99.9\n",
       "ARCTIC FREEZE PRO 240                                    109.0\n",
       "ARCTIC FREEZE PRO 360                                    109.0\n",
       "Armaggeddon Mechanic M2 Articulating Gas Spring...       189.0\n",
       "Armaggeddon Sonic Pulse 2.0 Gaming Speaker                99.9\n",
       "AudioX Pro 800 HD                                        199.0\n",
       "BASE-47 BADGE Black                                      129.9\n",
       "BASE-47 WINGS Yellow                                      99.9\n",
       "EVO 11                                                   109.0\n",
       "Gravastar                                                249.0\n",
       "HAGANE H-3 Red LED Fan                                    99.9\n",
       "IINVICTOR Soturi                                         149.0\n",
       "IINVICTOR Soturi+                                        219.0\n",
       "NIMITZ TR 7000 Black                                     149.9\n",
       "Nimitz TR8000                                            149.9\n",
       "Pixxel+ Pro PF22HD Super 2022 Gaming Monitor             139.0\n",
       "Pixxel+ Pro PSC27HD Curve Gaming Monitor                 219.0\n",
       "REVOLVER T1                                              199.0\n",
       "SHUTTLE RGB Black                                        199.0\n",
       "SHUTTLE RGB Yellow                                       199.0\n",
       "SONICBAR BT-6500 Sound Bar                               129.0\n",
       "SONICBAR BT5500 AIRBASS Sound Bar                        129.0\n",
       "SONICBAR BT5500 AIRBASS Subwoofer                        129.0\n",
       "SONICBAR BT6500 Sound Bar                                129.0\n",
       "SONICBAR BT6500 Subwoofer                                129.0\n",
       "SonicGear BT5500 SonicBar Airbass Digital Optic...       129.0\n",
       "ULTRO 3 Spyder                                           229.0\n",
       "VOLTRON PLATINUM 1200 Modular                            139.9\n",
       "VOLTRON PLATINUM 850 Modular                              99.9\n",
       "WM 8800 UL DUAL                                          169.9\n",
       "WMC 6600RR DUAL                                          129.9"
      ]
     },
     "execution_count": 22,
     "metadata": {},
     "output_type": "execute_result"
    }
   ],
   "source": [
    "cleaned_data[(cleaned_data[\"price_info\"] > 99) & \\\n",
    "            (cleaned_data[\"price_info\"] <= 249)]"
   ]
  },
  {
   "cell_type": "markdown",
   "id": "1dae9936",
   "metadata": {},
   "source": [
    "At the price range of 100 to 249, some interesting products come to light\n",
    "\n",
    "* Badges - It would merit discussion on what these badges are in relation to the gaming community and how Armageddon is able to command such prices for these goods \n",
    "* Armageddon branded power supplies \n",
    "\n",
    "It should also be noted that for a lot of these items, specs are not easily found through the Leapfrog Global main website"
   ]
  },
  {
   "cell_type": "code",
   "execution_count": 23,
   "id": "f9c64955",
   "metadata": {},
   "outputs": [
    {
     "data": {
      "text/html": [
       "<div>\n",
       "<style scoped>\n",
       "    .dataframe tbody tr th:only-of-type {\n",
       "        vertical-align: middle;\n",
       "    }\n",
       "\n",
       "    .dataframe tbody tr th {\n",
       "        vertical-align: top;\n",
       "    }\n",
       "\n",
       "    .dataframe thead th {\n",
       "        text-align: right;\n",
       "    }\n",
       "</style>\n",
       "<table border=\"1\" class=\"dataframe\">\n",
       "  <thead>\n",
       "    <tr style=\"text-align: right;\">\n",
       "      <th></th>\n",
       "      <th>price_info</th>\n",
       "    </tr>\n",
       "  </thead>\n",
       "  <tbody>\n",
       "    <tr>\n",
       "      <th>Armaggeddon AK-666</th>\n",
       "      <td>24.9</td>\n",
       "    </tr>\n",
       "    <tr>\n",
       "      <th>26 ASSAULT AS-33H</th>\n",
       "      <td>9.9</td>\n",
       "    </tr>\n",
       "    <tr>\n",
       "      <th>28 AS-29R</th>\n",
       "      <td>19.9</td>\n",
       "    </tr>\n",
       "    <tr>\n",
       "      <th>AERO III Black</th>\n",
       "      <td>59.9</td>\n",
       "    </tr>\n",
       "    <tr>\n",
       "      <th>AERO VII Black</th>\n",
       "      <td>69.9</td>\n",
       "    </tr>\n",
       "    <tr>\n",
       "      <th>...</th>\n",
       "      <td>...</td>\n",
       "    </tr>\n",
       "    <tr>\n",
       "      <th>Asic 7 RGB FX</th>\n",
       "      <td>6.9</td>\n",
       "    </tr>\n",
       "    <tr>\n",
       "      <th>AZURE DUAL SABER</th>\n",
       "      <td>13.9</td>\n",
       "    </tr>\n",
       "    <tr>\n",
       "      <th>JADE DUAL SABER</th>\n",
       "      <td>13.9</td>\n",
       "    </tr>\n",
       "    <tr>\n",
       "      <th>SCARLET BLADE</th>\n",
       "      <td>9.9</td>\n",
       "    </tr>\n",
       "    <tr>\n",
       "      <th>SCARLET DUAL SABER</th>\n",
       "      <td>13.9</td>\n",
       "    </tr>\n",
       "  </tbody>\n",
       "</table>\n",
       "<p>360 rows × 1 columns</p>\n",
       "</div>"
      ],
      "text/plain": [
       "                    price_info\n",
       "Armaggeddon AK-666        24.9\n",
       "26 ASSAULT AS-33H          9.9\n",
       "28 AS-29R                 19.9\n",
       "AERO III Black            59.9\n",
       "AERO VII Black            69.9\n",
       "...                        ...\n",
       "Asic 7 RGB FX              6.9\n",
       "AZURE DUAL SABER          13.9\n",
       "JADE DUAL SABER           13.9\n",
       "SCARLET BLADE              9.9\n",
       "SCARLET DUAL SABER        13.9\n",
       "\n",
       "[360 rows x 1 columns]"
      ]
     },
     "execution_count": 23,
     "metadata": {},
     "output_type": "execute_result"
    }
   ],
   "source": [
    "cleaned_data[cleaned_data[\"price_info\"] < 99]"
   ]
  },
  {
   "cell_type": "markdown",
   "id": "9b099362",
   "metadata": {},
   "source": [
    "At the price range of 99 and below, Leapfrog Global currently carries 360 items that it has prices listed on the website (from which we should be able to infer that they are holding inventory).\n",
    "\n",
    "The mix of items is mainly made up of accessories such as\n",
    "* Gaming Mice\n",
    "* Keyboards\n",
    "* Speakers\n",
    "* CPU Casings\n",
    "* Thermometer\n",
    "* Mousepads \n",
    "\n",
    "It would appear that part of the company's strategy is to gain a foothold by offering a diversified range of designs and specs across items in this price range. I would imagine that if volumes can justify, the opportunity for margins per item are great. It would be good to be able to discuss if there are difficulties in managing inventory for so many items and if so what can be done to ease operations."
   ]
  },
  {
   "cell_type": "markdown",
   "id": "82d4c228",
   "metadata": {},
   "source": [
    "**Other Observations**\n",
    "\n",
    "**Website Navigation**\n",
    "When navigating the website, the main products page does not allow filtering of items by product category, only by brand and price. Possibly a strategic decision, but it does make navigation potentially cumbersome for the customer who might not be familiar with all of Leapfrog Global's brands and how the individual brands themselves have their own category of products.\n",
    "\n",
    "**Out of Stock Products**\n",
    "Looking through all the listings for out of stock products reveals that products that are out of stock are mainly \n",
    "\n",
    "* speakers\n",
    "* headphones/earphones\n",
    "* computer accessories\n",
    "* fans \n",
    "\n",
    "and a few outliers like a thermometer and some graphics cards. It would appear that the out of stock items are mainly mid to low tier in the company's total pricing tiering of products. At time of scraping, no CPU's were out of stock.\n",
    "\n",
    "\n"
   ]
  }
 ],
 "metadata": {
  "kernelspec": {
   "display_name": "Python 3 (ipykernel)",
   "language": "python",
   "name": "python3"
  },
  "language_info": {
   "codemirror_mode": {
    "name": "ipython",
    "version": 3
   },
   "file_extension": ".py",
   "mimetype": "text/x-python",
   "name": "python",
   "nbconvert_exporter": "python",
   "pygments_lexer": "ipython3",
   "version": "3.9.13"
  }
 },
 "nbformat": 4,
 "nbformat_minor": 5
}
